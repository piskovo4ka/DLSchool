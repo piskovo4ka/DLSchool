{
  "cells": [
    {
      "cell_type": "markdown",
      "metadata": {
        "id": "Ot3c4fjZwC4T"
      },
      "source": [
        "<img src=\"https://s8.hostingkartinok.com/uploads/images/2018/08/308b49fcfbc619d629fe4604bceb67ac.jpg\" width=500, height=450>\n",
        "<h3 style=\"text-align: center;\"><b>Физтех-Школа Прикладной математики и информатики (ФПМИ) МФТИ</b></h3>"
      ]
    },
    {
      "cell_type": "markdown",
      "metadata": {
        "id": "P2JdzEXmwRU5"
      },
      "source": [
        "---"
      ]
    },
    {
      "cell_type": "markdown",
      "metadata": {
        "id": "eYtJxkhKpYK2"
      },
      "source": [
        "# Embeddings\n",
        "\n",
        "Привет! В этом домашнем задании мы с помощью эмбеддингов решим задачу семантической классификации твитов.\n",
        "\n",
        "Для этого мы воспользуемся предобученными эмбеддингами word2vec."
      ]
    },
    {
      "cell_type": "markdown",
      "metadata": {
        "id": "jBOdoFS8AdpP"
      },
      "source": [
        "Для начала скачаем датасет для семантической классификации твитов:"
      ]
    },
    {
      "cell_type": "code",
      "execution_count": 1,
      "metadata": {
        "id": "wXjhtsfF_gBK"
      },
      "outputs": [],
      "source": [
        "#!gdown https://drive.google.com/uc?id=1eE1FiUkXkcbw0McId4i7qY-L8hH-_Qph&export=download\n",
        "#!unzip archive.zip"
      ]
    },
    {
      "cell_type": "markdown",
      "metadata": {
        "id": "Sh6wW-K53Mle"
      },
      "source": [
        "Импортируем нужные библиотеки:"
      ]
    },
    {
      "cell_type": "code",
      "execution_count": 2,
      "metadata": {
        "colab": {
          "base_uri": "https://localhost:8080/",
          "height": 0
        },
        "id": "A2Y5CHRm6NFe",
        "outputId": "f82fe152-ca2e-4237-9159-8b46fba95cc1"
      },
      "outputs": [
        {
          "name": "stderr",
          "output_type": "stream",
          "text": [
            "[nltk_data] Downloading package stopwords to /root/nltk_data...\n",
            "[nltk_data]   Unzipping corpora/stopwords.zip.\n"
          ]
        }
      ],
      "source": [
        "import math\n",
        "import random\n",
        "import string\n",
        "\n",
        "import numpy as np\n",
        "import pandas as pd\n",
        "import seaborn as sns\n",
        "import matplotlib.pyplot as plt\n",
        "\n",
        "import torch\n",
        "import nltk\n",
        "nltk.download('stopwords')\n",
        "from nltk.corpus import stopwords, wordnet\n",
        "\n",
        "import gensim\n",
        "import gensim.downloader as api\n",
        "\n",
        "from torch.utils.data import Dataset, random_split\n",
        "\n",
        "import torch.nn as nn\n",
        "from torchsummary import summary\n",
        "\n",
        "from sklearn.feature_extraction.text import TfidfVectorizer\n",
        "from sklearn.decomposition import TruncatedSVD\n",
        "\n",
        "import torch.nn as nn\n",
        "from torch.optim import Adam\n",
        "\n",
        "import gc\n",
        "\n",
        "from tqdm.notebook import tqdm\n",
        "\n",
        "import bokeh.models as bm, bokeh.plotting as pl\n",
        "from bokeh.io import output_notebook\n",
        "output_notebook()\n",
        "\n",
        "from sklearn.decomposition import PCA\n",
        "\n"
      ]
    },
    {
      "cell_type": "code",
      "execution_count": 3,
      "metadata": {
        "id": "73Lb0wbESrgQ"
      },
      "outputs": [],
      "source": [
        "random.seed(42)\n",
        "np.random.seed(42)\n",
        "torch.random.manual_seed(42)\n",
        "torch.cuda.random.manual_seed(42)\n",
        "torch.cuda.random.manual_seed_all(42)\n",
        "\n",
        "device = \"cuda\" if torch.cuda.is_available() else \"cpu\""
      ]
    },
    {
      "cell_type": "code",
      "execution_count": 4,
      "metadata": {
        "colab": {
          "base_uri": "https://localhost:8080/",
          "height": 0
        },
        "id": "FrbFKGhoAX8X",
        "outputId": "ee08fb81-b15b-4dee-9368-305fcb1a8953"
      },
      "outputs": [
        {
          "name": "stdout",
          "output_type": "stream",
          "text": [
            "Mounted at /content/drive/\n"
          ]
        }
      ],
      "source": [
        "from google.colab import drive\n",
        "drive.mount(\"/content/drive/\")\n",
        "#data = pd.read_csv(\"training.1600000.processed.noemoticon.csv\", encoding=\"latin\", header=None, names=[\"emotion\", \"id\", \"date\", \"flag\", \"user\", \"text\"])\n",
        "data = pd.read_csv(\"/content/drive/MyDrive/training.1600000.processed.noemoticon.csv\", encoding=\"latin\", header=None, names=[\"emotion\", \"id\", \"date\", \"flag\", \"user\", \"text\"])"
      ]
    },
    {
      "cell_type": "markdown",
      "metadata": {
        "id": "RY1pvYDS3Yuj"
      },
      "source": [
        "Посмотрим на данные:"
      ]
    },
    {
      "cell_type": "code",
      "execution_count": 5,
      "metadata": {
        "colab": {
          "base_uri": "https://localhost:8080/",
          "height": 206
        },
        "id": "jST2tjgjCTWD",
        "outputId": "aef82b01-1b9c-4426-94db-d8f5921fe5d5"
      },
      "outputs": [
        {
          "data": {
            "text/html": [
              "\n",
              "  <div id=\"df-04dba576-9a50-4256-926d-5a1fee1b2eac\">\n",
              "    <div class=\"colab-df-container\">\n",
              "      <div>\n",
              "<style scoped>\n",
              "    .dataframe tbody tr th:only-of-type {\n",
              "        vertical-align: middle;\n",
              "    }\n",
              "\n",
              "    .dataframe tbody tr th {\n",
              "        vertical-align: top;\n",
              "    }\n",
              "\n",
              "    .dataframe thead th {\n",
              "        text-align: right;\n",
              "    }\n",
              "</style>\n",
              "<table border=\"1\" class=\"dataframe\">\n",
              "  <thead>\n",
              "    <tr style=\"text-align: right;\">\n",
              "      <th></th>\n",
              "      <th>emotion</th>\n",
              "      <th>id</th>\n",
              "      <th>date</th>\n",
              "      <th>flag</th>\n",
              "      <th>user</th>\n",
              "      <th>text</th>\n",
              "    </tr>\n",
              "  </thead>\n",
              "  <tbody>\n",
              "    <tr>\n",
              "      <th>0</th>\n",
              "      <td>0</td>\n",
              "      <td>1467810369</td>\n",
              "      <td>Mon Apr 06 22:19:45 PDT 2009</td>\n",
              "      <td>NO_QUERY</td>\n",
              "      <td>_TheSpecialOne_</td>\n",
              "      <td>@switchfoot http://twitpic.com/2y1zl - Awww, t...</td>\n",
              "    </tr>\n",
              "    <tr>\n",
              "      <th>1</th>\n",
              "      <td>0</td>\n",
              "      <td>1467810672</td>\n",
              "      <td>Mon Apr 06 22:19:49 PDT 2009</td>\n",
              "      <td>NO_QUERY</td>\n",
              "      <td>scotthamilton</td>\n",
              "      <td>is upset that he can't update his Facebook by ...</td>\n",
              "    </tr>\n",
              "    <tr>\n",
              "      <th>2</th>\n",
              "      <td>0</td>\n",
              "      <td>1467810917</td>\n",
              "      <td>Mon Apr 06 22:19:53 PDT 2009</td>\n",
              "      <td>NO_QUERY</td>\n",
              "      <td>mattycus</td>\n",
              "      <td>@Kenichan I dived many times for the ball. Man...</td>\n",
              "    </tr>\n",
              "    <tr>\n",
              "      <th>3</th>\n",
              "      <td>0</td>\n",
              "      <td>1467811184</td>\n",
              "      <td>Mon Apr 06 22:19:57 PDT 2009</td>\n",
              "      <td>NO_QUERY</td>\n",
              "      <td>ElleCTF</td>\n",
              "      <td>my whole body feels itchy and like its on fire</td>\n",
              "    </tr>\n",
              "    <tr>\n",
              "      <th>4</th>\n",
              "      <td>0</td>\n",
              "      <td>1467811193</td>\n",
              "      <td>Mon Apr 06 22:19:57 PDT 2009</td>\n",
              "      <td>NO_QUERY</td>\n",
              "      <td>Karoli</td>\n",
              "      <td>@nationwideclass no, it's not behaving at all....</td>\n",
              "    </tr>\n",
              "  </tbody>\n",
              "</table>\n",
              "</div>\n",
              "      <button class=\"colab-df-convert\" onclick=\"convertToInteractive('df-04dba576-9a50-4256-926d-5a1fee1b2eac')\"\n",
              "              title=\"Convert this dataframe to an interactive table.\"\n",
              "              style=\"display:none;\">\n",
              "        \n",
              "  <svg xmlns=\"http://www.w3.org/2000/svg\" height=\"24px\"viewBox=\"0 0 24 24\"\n",
              "       width=\"24px\">\n",
              "    <path d=\"M0 0h24v24H0V0z\" fill=\"none\"/>\n",
              "    <path d=\"M18.56 5.44l.94 2.06.94-2.06 2.06-.94-2.06-.94-.94-2.06-.94 2.06-2.06.94zm-11 1L8.5 8.5l.94-2.06 2.06-.94-2.06-.94L8.5 2.5l-.94 2.06-2.06.94zm10 10l.94 2.06.94-2.06 2.06-.94-2.06-.94-.94-2.06-.94 2.06-2.06.94z\"/><path d=\"M17.41 7.96l-1.37-1.37c-.4-.4-.92-.59-1.43-.59-.52 0-1.04.2-1.43.59L10.3 9.45l-7.72 7.72c-.78.78-.78 2.05 0 2.83L4 21.41c.39.39.9.59 1.41.59.51 0 1.02-.2 1.41-.59l7.78-7.78 2.81-2.81c.8-.78.8-2.07 0-2.86zM5.41 20L4 18.59l7.72-7.72 1.47 1.35L5.41 20z\"/>\n",
              "  </svg>\n",
              "      </button>\n",
              "      \n",
              "  <style>\n",
              "    .colab-df-container {\n",
              "      display:flex;\n",
              "      flex-wrap:wrap;\n",
              "      gap: 12px;\n",
              "    }\n",
              "\n",
              "    .colab-df-convert {\n",
              "      background-color: #E8F0FE;\n",
              "      border: none;\n",
              "      border-radius: 50%;\n",
              "      cursor: pointer;\n",
              "      display: none;\n",
              "      fill: #1967D2;\n",
              "      height: 32px;\n",
              "      padding: 0 0 0 0;\n",
              "      width: 32px;\n",
              "    }\n",
              "\n",
              "    .colab-df-convert:hover {\n",
              "      background-color: #E2EBFA;\n",
              "      box-shadow: 0px 1px 2px rgba(60, 64, 67, 0.3), 0px 1px 3px 1px rgba(60, 64, 67, 0.15);\n",
              "      fill: #174EA6;\n",
              "    }\n",
              "\n",
              "    [theme=dark] .colab-df-convert {\n",
              "      background-color: #3B4455;\n",
              "      fill: #D2E3FC;\n",
              "    }\n",
              "\n",
              "    [theme=dark] .colab-df-convert:hover {\n",
              "      background-color: #434B5C;\n",
              "      box-shadow: 0px 1px 3px 1px rgba(0, 0, 0, 0.15);\n",
              "      filter: drop-shadow(0px 1px 2px rgba(0, 0, 0, 0.3));\n",
              "      fill: #FFFFFF;\n",
              "    }\n",
              "  </style>\n",
              "\n",
              "      <script>\n",
              "        const buttonEl =\n",
              "          document.querySelector('#df-04dba576-9a50-4256-926d-5a1fee1b2eac button.colab-df-convert');\n",
              "        buttonEl.style.display =\n",
              "          google.colab.kernel.accessAllowed ? 'block' : 'none';\n",
              "\n",
              "        async function convertToInteractive(key) {\n",
              "          const element = document.querySelector('#df-04dba576-9a50-4256-926d-5a1fee1b2eac');\n",
              "          const dataTable =\n",
              "            await google.colab.kernel.invokeFunction('convertToInteractive',\n",
              "                                                     [key], {});\n",
              "          if (!dataTable) return;\n",
              "\n",
              "          const docLinkHtml = 'Like what you see? Visit the ' +\n",
              "            '<a target=\"_blank\" href=https://colab.research.google.com/notebooks/data_table.ipynb>data table notebook</a>'\n",
              "            + ' to learn more about interactive tables.';\n",
              "          element.innerHTML = '';\n",
              "          dataTable['output_type'] = 'display_data';\n",
              "          await google.colab.output.renderOutput(dataTable, element);\n",
              "          const docLink = document.createElement('div');\n",
              "          docLink.innerHTML = docLinkHtml;\n",
              "          element.appendChild(docLink);\n",
              "        }\n",
              "      </script>\n",
              "    </div>\n",
              "  </div>\n",
              "  "
            ],
            "text/plain": [
              "   emotion          id                          date      flag  \\\n",
              "0        0  1467810369  Mon Apr 06 22:19:45 PDT 2009  NO_QUERY   \n",
              "1        0  1467810672  Mon Apr 06 22:19:49 PDT 2009  NO_QUERY   \n",
              "2        0  1467810917  Mon Apr 06 22:19:53 PDT 2009  NO_QUERY   \n",
              "3        0  1467811184  Mon Apr 06 22:19:57 PDT 2009  NO_QUERY   \n",
              "4        0  1467811193  Mon Apr 06 22:19:57 PDT 2009  NO_QUERY   \n",
              "\n",
              "              user                                               text  \n",
              "0  _TheSpecialOne_  @switchfoot http://twitpic.com/2y1zl - Awww, t...  \n",
              "1    scotthamilton  is upset that he can't update his Facebook by ...  \n",
              "2         mattycus  @Kenichan I dived many times for the ball. Man...  \n",
              "3          ElleCTF    my whole body feels itchy and like its on fire   \n",
              "4           Karoli  @nationwideclass no, it's not behaving at all....  "
            ]
          },
          "execution_count": 5,
          "metadata": {},
          "output_type": "execute_result"
        }
      ],
      "source": [
        "data.head()"
      ]
    },
    {
      "cell_type": "code",
      "execution_count": 6,
      "metadata": {
        "colab": {
          "base_uri": "https://localhost:8080/",
          "height": 0
        },
        "id": "MkX7od_wBiY6",
        "outputId": "60c607cd-9161-4f6b-cc13-a9d20e091951"
      },
      "outputs": [
        {
          "data": {
            "text/plain": [
              "(1600000, 6)"
            ]
          },
          "execution_count": 6,
          "metadata": {},
          "output_type": "execute_result"
        }
      ],
      "source": [
        "data.shape"
      ]
    },
    {
      "cell_type": "code",
      "execution_count": 7,
      "metadata": {
        "id": "fTCEhVQ1Ldlv"
      },
      "outputs": [],
      "source": [
        "data = data.sample(frac=1).reset_index(drop=True)"
      ]
    },
    {
      "cell_type": "code",
      "execution_count": 8,
      "metadata": {
        "colab": {
          "base_uri": "https://localhost:8080/",
          "height": 206
        },
        "id": "Gh80ZdnJLok1",
        "outputId": "356909ca-aca5-45c1-e5dd-deb7fe27fb7b"
      },
      "outputs": [
        {
          "data": {
            "text/html": [
              "\n",
              "  <div id=\"df-be42e6b0-354a-45cf-9831-49c15efb6f46\">\n",
              "    <div class=\"colab-df-container\">\n",
              "      <div>\n",
              "<style scoped>\n",
              "    .dataframe tbody tr th:only-of-type {\n",
              "        vertical-align: middle;\n",
              "    }\n",
              "\n",
              "    .dataframe tbody tr th {\n",
              "        vertical-align: top;\n",
              "    }\n",
              "\n",
              "    .dataframe thead th {\n",
              "        text-align: right;\n",
              "    }\n",
              "</style>\n",
              "<table border=\"1\" class=\"dataframe\">\n",
              "  <thead>\n",
              "    <tr style=\"text-align: right;\">\n",
              "      <th></th>\n",
              "      <th>emotion</th>\n",
              "      <th>id</th>\n",
              "      <th>date</th>\n",
              "      <th>flag</th>\n",
              "      <th>user</th>\n",
              "      <th>text</th>\n",
              "    </tr>\n",
              "  </thead>\n",
              "  <tbody>\n",
              "    <tr>\n",
              "      <th>0</th>\n",
              "      <td>0</td>\n",
              "      <td>2200003196</td>\n",
              "      <td>Tue Jun 16 18:18:12 PDT 2009</td>\n",
              "      <td>NO_QUERY</td>\n",
              "      <td>LaLaLindsey0609</td>\n",
              "      <td>@chrishasboobs AHHH I HOPE YOUR OK!!!</td>\n",
              "    </tr>\n",
              "    <tr>\n",
              "      <th>1</th>\n",
              "      <td>0</td>\n",
              "      <td>1467998485</td>\n",
              "      <td>Mon Apr 06 23:11:14 PDT 2009</td>\n",
              "      <td>NO_QUERY</td>\n",
              "      <td>sexygrneyes</td>\n",
              "      <td>@misstoriblack cool , i have no tweet apps  fo...</td>\n",
              "    </tr>\n",
              "    <tr>\n",
              "      <th>2</th>\n",
              "      <td>0</td>\n",
              "      <td>2300048954</td>\n",
              "      <td>Tue Jun 23 13:40:11 PDT 2009</td>\n",
              "      <td>NO_QUERY</td>\n",
              "      <td>sammydearr</td>\n",
              "      <td>@TiannaChaos i know  just family drama. its la...</td>\n",
              "    </tr>\n",
              "    <tr>\n",
              "      <th>3</th>\n",
              "      <td>0</td>\n",
              "      <td>1993474027</td>\n",
              "      <td>Mon Jun 01 10:26:07 PDT 2009</td>\n",
              "      <td>NO_QUERY</td>\n",
              "      <td>Lamb_Leanne</td>\n",
              "      <td>School email won't open  and I have geography ...</td>\n",
              "    </tr>\n",
              "    <tr>\n",
              "      <th>4</th>\n",
              "      <td>0</td>\n",
              "      <td>2256550904</td>\n",
              "      <td>Sat Jun 20 12:56:51 PDT 2009</td>\n",
              "      <td>NO_QUERY</td>\n",
              "      <td>yogicerdito</td>\n",
              "      <td>upper airways problem</td>\n",
              "    </tr>\n",
              "  </tbody>\n",
              "</table>\n",
              "</div>\n",
              "      <button class=\"colab-df-convert\" onclick=\"convertToInteractive('df-be42e6b0-354a-45cf-9831-49c15efb6f46')\"\n",
              "              title=\"Convert this dataframe to an interactive table.\"\n",
              "              style=\"display:none;\">\n",
              "        \n",
              "  <svg xmlns=\"http://www.w3.org/2000/svg\" height=\"24px\"viewBox=\"0 0 24 24\"\n",
              "       width=\"24px\">\n",
              "    <path d=\"M0 0h24v24H0V0z\" fill=\"none\"/>\n",
              "    <path d=\"M18.56 5.44l.94 2.06.94-2.06 2.06-.94-2.06-.94-.94-2.06-.94 2.06-2.06.94zm-11 1L8.5 8.5l.94-2.06 2.06-.94-2.06-.94L8.5 2.5l-.94 2.06-2.06.94zm10 10l.94 2.06.94-2.06 2.06-.94-2.06-.94-.94-2.06-.94 2.06-2.06.94z\"/><path d=\"M17.41 7.96l-1.37-1.37c-.4-.4-.92-.59-1.43-.59-.52 0-1.04.2-1.43.59L10.3 9.45l-7.72 7.72c-.78.78-.78 2.05 0 2.83L4 21.41c.39.39.9.59 1.41.59.51 0 1.02-.2 1.41-.59l7.78-7.78 2.81-2.81c.8-.78.8-2.07 0-2.86zM5.41 20L4 18.59l7.72-7.72 1.47 1.35L5.41 20z\"/>\n",
              "  </svg>\n",
              "      </button>\n",
              "      \n",
              "  <style>\n",
              "    .colab-df-container {\n",
              "      display:flex;\n",
              "      flex-wrap:wrap;\n",
              "      gap: 12px;\n",
              "    }\n",
              "\n",
              "    .colab-df-convert {\n",
              "      background-color: #E8F0FE;\n",
              "      border: none;\n",
              "      border-radius: 50%;\n",
              "      cursor: pointer;\n",
              "      display: none;\n",
              "      fill: #1967D2;\n",
              "      height: 32px;\n",
              "      padding: 0 0 0 0;\n",
              "      width: 32px;\n",
              "    }\n",
              "\n",
              "    .colab-df-convert:hover {\n",
              "      background-color: #E2EBFA;\n",
              "      box-shadow: 0px 1px 2px rgba(60, 64, 67, 0.3), 0px 1px 3px 1px rgba(60, 64, 67, 0.15);\n",
              "      fill: #174EA6;\n",
              "    }\n",
              "\n",
              "    [theme=dark] .colab-df-convert {\n",
              "      background-color: #3B4455;\n",
              "      fill: #D2E3FC;\n",
              "    }\n",
              "\n",
              "    [theme=dark] .colab-df-convert:hover {\n",
              "      background-color: #434B5C;\n",
              "      box-shadow: 0px 1px 3px 1px rgba(0, 0, 0, 0.15);\n",
              "      filter: drop-shadow(0px 1px 2px rgba(0, 0, 0, 0.3));\n",
              "      fill: #FFFFFF;\n",
              "    }\n",
              "  </style>\n",
              "\n",
              "      <script>\n",
              "        const buttonEl =\n",
              "          document.querySelector('#df-be42e6b0-354a-45cf-9831-49c15efb6f46 button.colab-df-convert');\n",
              "        buttonEl.style.display =\n",
              "          google.colab.kernel.accessAllowed ? 'block' : 'none';\n",
              "\n",
              "        async function convertToInteractive(key) {\n",
              "          const element = document.querySelector('#df-be42e6b0-354a-45cf-9831-49c15efb6f46');\n",
              "          const dataTable =\n",
              "            await google.colab.kernel.invokeFunction('convertToInteractive',\n",
              "                                                     [key], {});\n",
              "          if (!dataTable) return;\n",
              "\n",
              "          const docLinkHtml = 'Like what you see? Visit the ' +\n",
              "            '<a target=\"_blank\" href=https://colab.research.google.com/notebooks/data_table.ipynb>data table notebook</a>'\n",
              "            + ' to learn more about interactive tables.';\n",
              "          element.innerHTML = '';\n",
              "          dataTable['output_type'] = 'display_data';\n",
              "          await google.colab.output.renderOutput(dataTable, element);\n",
              "          const docLink = document.createElement('div');\n",
              "          docLink.innerHTML = docLinkHtml;\n",
              "          element.appendChild(docLink);\n",
              "        }\n",
              "      </script>\n",
              "    </div>\n",
              "  </div>\n",
              "  "
            ],
            "text/plain": [
              "   emotion          id                          date      flag  \\\n",
              "0        0  2200003196  Tue Jun 16 18:18:12 PDT 2009  NO_QUERY   \n",
              "1        0  1467998485  Mon Apr 06 23:11:14 PDT 2009  NO_QUERY   \n",
              "2        0  2300048954  Tue Jun 23 13:40:11 PDT 2009  NO_QUERY   \n",
              "3        0  1993474027  Mon Jun 01 10:26:07 PDT 2009  NO_QUERY   \n",
              "4        0  2256550904  Sat Jun 20 12:56:51 PDT 2009  NO_QUERY   \n",
              "\n",
              "              user                                               text  \n",
              "0  LaLaLindsey0609             @chrishasboobs AHHH I HOPE YOUR OK!!!   \n",
              "1      sexygrneyes  @misstoriblack cool , i have no tweet apps  fo...  \n",
              "2       sammydearr  @TiannaChaos i know  just family drama. its la...  \n",
              "3      Lamb_Leanne  School email won't open  and I have geography ...  \n",
              "4      yogicerdito                             upper airways problem   "
            ]
          },
          "execution_count": 8,
          "metadata": {},
          "output_type": "execute_result"
        }
      ],
      "source": [
        "data.head()"
      ]
    },
    {
      "cell_type": "markdown",
      "metadata": {
        "id": "U84MYZj8MBUC"
      },
      "source": [
        "Посмотрим на распределение по классам."
      ]
    },
    {
      "cell_type": "code",
      "execution_count": 9,
      "metadata": {
        "colab": {
          "base_uri": "https://localhost:8080/",
          "height": 0
        },
        "id": "mdKXVx1HLqx2",
        "outputId": "2bf4bfc2-7424-4b07-95b0-eb992502196b"
      },
      "outputs": [
        {
          "data": {
            "text/plain": [
              "0    800000\n",
              "4    800000\n",
              "Name: emotion, dtype: int64"
            ]
          },
          "execution_count": 9,
          "metadata": {},
          "output_type": "execute_result"
        }
      ],
      "source": [
        "data['emotion'].value_counts()"
      ]
    },
    {
      "cell_type": "markdown",
      "metadata": {
        "id": "NgnEVggxMFAt"
      },
      "source": [
        "Классы сбалансированы!\n"
      ]
    },
    {
      "cell_type": "code",
      "execution_count": 10,
      "metadata": {
        "id": "zjZVkndXL3SC"
      },
      "outputs": [],
      "source": [
        "data = data[:800000]"
      ]
    },
    {
      "cell_type": "code",
      "execution_count": 11,
      "metadata": {
        "colab": {
          "base_uri": "https://localhost:8080/",
          "height": 0
        },
        "id": "BI7OjQKOL7aS",
        "outputId": "15645f53-e57d-4ca2-f2bb-dfe7937734b9"
      },
      "outputs": [
        {
          "data": {
            "text/plain": [
              "(800000, 6)"
            ]
          },
          "execution_count": 11,
          "metadata": {},
          "output_type": "execute_result"
        }
      ],
      "source": [
        "data.shape"
      ]
    },
    {
      "cell_type": "code",
      "execution_count": 12,
      "metadata": {
        "colab": {
          "base_uri": "https://localhost:8080/",
          "height": 0
        },
        "id": "q-5vc6aWL9iQ",
        "outputId": "440564ef-cbc7-413c-c5b9-15e8554eb995"
      },
      "outputs": [
        {
          "data": {
            "text/plain": [
              "0    400212\n",
              "4    399788\n",
              "Name: emotion, dtype: int64"
            ]
          },
          "execution_count": 12,
          "metadata": {},
          "output_type": "execute_result"
        }
      ],
      "source": [
        "data['emotion'].value_counts()"
      ]
    },
    {
      "cell_type": "markdown",
      "metadata": {
        "id": "OhbR5JJyA2VW"
      },
      "source": [
        "Выведем несколько примеров твитов, чтобы понимать, с чем мы имеем дело:"
      ]
    },
    {
      "cell_type": "code",
      "execution_count": 13,
      "metadata": {
        "colab": {
          "base_uri": "https://localhost:8080/",
          "height": 0
        },
        "id": "kCBwe0wR83C2",
        "outputId": "d614e248-5984-4df1-a0e8-9ae0fe1f3325"
      },
      "outputs": [
        {
          "name": "stdout",
          "output_type": "stream",
          "text": [
            "yo! wasssup!? okay, I'm a little on the hyper side today!! But can you blame me!!? AHH...! Need some followers my Twitterbabes! \n",
            "It was awesome! That was a good Sci-Fi.  Tweet later! xx\n",
            "16 more days 2 go back 2 india. never realized that the concept of 'day' is pretty relative. suddenly it is looking so far away \n",
            "@baragal I think i'm falling in love with you!!  xxx #iloveyou\n",
            "@tonywong That's true...but lately, here in Michigan, the police have killed people via Taser Gun.  It just seems like excessive force \n",
            "Has won the high school system COLLEGE here I come! And now can't party due to first day of work \n",
            "Still sick. I feel like I am going to die. \n",
            "i just wanna say &quot;HELLO&quot; to all my new twitts/followers. feel free to get in contact with me, dnt be scared. \n",
            "and the meeting starts \n",
            "Tweetie now out as Mac client?? Gleeee. I live on the iPhone app, as I am indeed doing right now. Though I still have love for the 'deck \n"
          ]
        }
      ],
      "source": [
        "examples = data[\"text\"].sample(10)\n",
        "print(\"\\n\".join(examples))"
      ]
    },
    {
      "cell_type": "markdown",
      "metadata": {
        "id": "GvcYW8aX3mKt"
      },
      "source": [
        "Как вилим, тексты твитов очень \"грязные\". Нужно предобработать датасет, прежде чем строить для него модель классификации.\n",
        "\n",
        "Чтобы сравнивать различные методы обработки текста/модели/прочее, разделим датасет на dev(для обучения модели) и test(для получения качества модели)."
      ]
    },
    {
      "cell_type": "code",
      "execution_count": 14,
      "metadata": {
        "id": "f8hUK-jnQg6O"
      },
      "outputs": [],
      "source": [
        "indexes = np.arange(data.shape[0])\n",
        "np.random.shuffle(indexes)\n",
        "dev_size = math.ceil(data.shape[0] * 0.8)\n",
        "\n",
        "dev_indexes = indexes[:dev_size]\n",
        "test_indexes = indexes[dev_size:]\n",
        "\n",
        "dev_data = data.iloc[dev_indexes]\n",
        "test_data = data.iloc[test_indexes]\n",
        "\n",
        "dev_data.reset_index(drop=True, inplace=True)\n",
        "test_data.reset_index(drop=True, inplace=True)"
      ]
    },
    {
      "cell_type": "code",
      "execution_count": 15,
      "metadata": {
        "colab": {
          "base_uri": "https://localhost:8080/",
          "height": 0
        },
        "id": "MqIQEc3iKtHX",
        "outputId": "dbd1e234-57fd-48c6-9656-84c15a0e547a"
      },
      "outputs": [
        {
          "data": {
            "text/plain": [
              "((640000, 6), (160000, 6))"
            ]
          },
          "execution_count": 15,
          "metadata": {},
          "output_type": "execute_result"
        }
      ],
      "source": [
        "dev_data.shape, test_data.shape"
      ]
    },
    {
      "cell_type": "markdown",
      "metadata": {
        "id": "6ivcpeFoCnZA"
      },
      "source": [
        "## Обработка текста"
      ]
    },
    {
      "cell_type": "markdown",
      "metadata": {
        "id": "Df4nca285Dar"
      },
      "source": [
        "Токенизируем текст, избавимся от знаков пунктуации и выкинем все слова, состоящие менее чем из 4 букв:"
      ]
    },
    {
      "cell_type": "code",
      "execution_count": 16,
      "metadata": {
        "colab": {
          "base_uri": "https://localhost:8080/",
          "height": 0
        },
        "id": "nsNHNDES9ZVF",
        "outputId": "4116f6e5-e947-4516-97ed-3a40aca081c5"
      },
      "outputs": [
        {
          "name": "stdout",
          "output_type": "stream",
          "text": [
            "i ' ve just realised i ' m mentally skipping tweets of green icons . partially as a result of # iranelection overload\n"
          ]
        }
      ],
      "source": [
        "tokenizer = nltk.WordPunctTokenizer()\n",
        "line = tokenizer.tokenize(dev_data[\"text\"][0].lower())\n",
        "print(\" \".join(line))"
      ]
    },
    {
      "cell_type": "code",
      "execution_count": 17,
      "metadata": {
        "colab": {
          "base_uri": "https://localhost:8080/",
          "height": 0
        },
        "id": "GcBS_u_hTuxp",
        "outputId": "dde4986b-cf64-4f42-b175-ca2ff3b0ea2e"
      },
      "outputs": [
        {
          "name": "stdout",
          "output_type": "stream",
          "text": [
            "just realised mentally skipping tweets green icons partially result iranelection overload\n"
          ]
        }
      ],
      "source": [
        "filtered_line = [w for w in line if all(c not in string.punctuation for c in w) and len(w) > 3]\n",
        "print(\" \".join(filtered_line))"
      ]
    },
    {
      "cell_type": "code",
      "execution_count": 17,
      "metadata": {
        "id": "5uQ2PUYhbx0Y"
      },
      "outputs": [],
      "source": []
    },
    {
      "cell_type": "code",
      "execution_count": 18,
      "metadata": {
        "colab": {
          "base_uri": "https://localhost:8080/",
          "height": 0
        },
        "id": "UC6du2g-lQ1W",
        "outputId": "1043350f-1663-49f4-a558-02d3ca090af8"
      },
      "outputs": [
        {
          "data": {
            "text/plain": [
              "['just',\n",
              " 'realised',\n",
              " 'mentally',\n",
              " 'skipping',\n",
              " 'tweets',\n",
              " 'green',\n",
              " 'icons',\n",
              " 'partially',\n",
              " 'result',\n",
              " 'iranelection',\n",
              " 'overload']"
            ]
          },
          "execution_count": 18,
          "metadata": {},
          "output_type": "execute_result"
        }
      ],
      "source": [
        "filtered_line"
      ]
    },
    {
      "cell_type": "markdown",
      "metadata": {
        "id": "V-55C4-apR2L"
      },
      "source": [
        "## Работа с TfidfVectorizer и SVD"
      ]
    },
    {
      "cell_type": "markdown",
      "metadata": {
        "id": "PofGYhs3pcdf"
      },
      "source": [
        "Проведем получение эмбеддингов слов из Tfidf с помощью TfidfVectorizer из sklearn. "
      ]
    },
    {
      "cell_type": "code",
      "execution_count": 19,
      "metadata": {
        "id": "ZhoXhOn_pO4n"
      },
      "outputs": [],
      "source": [
        "# обработаем слова, уберем неверную кодировку и склеим в одно предложение\n",
        "def preproc_nltk(text):\n",
        "    unwanted_char = '\\x00\\x01\\x02\\x03\\x04\\x05\\x06\\x07\\x08\\t\\n\\x0b\\x0c\\r\\x0e\\x0f\\x10\\x11\\x12\\x13\\x14\\x15\\x16\\x17\\x18\\x19\\x1a\\x1b\\x1c\\x1d\\x1e\\x1f\\x7f\\x80\\x81\\x82\\x83\\x84\\x85\\x86\\x87\\x88\\x89\\x8a\\x8b\\x8c\\x8d\\x8e\\x8f\\x90\\x91\\x92\\x93\\x94\\x95\\x96\\x97\\x98\\x99\\x9a\\x9b\\x9c\\x9d\\x9e\\x9f\\xa0\\xa1\\xa2\\xa3\\xa4\\xa5\\xa6\\xa7\\xa8\\xa9\\xaa\\xab\\xac\\xad\\xae\\xaf\\xb0\\xb1\\xb2\\xb3\\xb4\\xb5\\xb6\\xb7\\xb8\\xb9\\xba\\xbb\\xbc\\xbd\\xbe\\xbf\\xc0\\xc1\\xc2\\xc3\\xc4\\xc5\\xc6\\xc7\\xc8\\xc9\\xca\\xcb\\xcc\\xcd\\xce\\xcf\\xd0\\xd1\\xd2\\xd3\\xd4\\xd5\\xd6\\xd7\\xd8\\xd9\\xda\\xdb\\xdc\\xdd\\xde\\xdf\\xe0\\xe1\\xe2\\xe3\\xe4\\xe5\\xe6\\xe7\\xe8\\xe9\\xea\\xeb\\xec\\xed\\xee\\xef\\xf0\\xf1\\xf2\\xf3\\xf4\\xf5\\xf6\\xf7\\xf8\\xf9\\xfa\\xfb\\xfc\\xfd\\xfe\\xff'\n",
        "    text = \"\".join([(\" \" if n in unwanted_char else n) for n in text if n not in unwanted_char])\n",
        "    return ' '.join([w for w in tokenizer.tokenize(text.lower()) if all(c not in string.punctuation for c in w) and len(w) > 3])"
      ]
    },
    {
      "cell_type": "code",
      "execution_count": 20,
      "metadata": {
        "colab": {
          "base_uri": "https://localhost:8080/",
          "height": 0
        },
        "id": "A7w9N7IHpO4o",
        "outputId": "b330d79a-7da6-4646-f2c9-b8197fb7af9e"
      },
      "outputs": [
        {
          "data": {
            "text/plain": [
              "(640000, 337372)"
            ]
          },
          "execution_count": 20,
          "metadata": {},
          "output_type": "execute_result"
        }
      ],
      "source": [
        "vectorizer = TfidfVectorizer( preprocessor=preproc_nltk) #stop_words=stop_words\n",
        "vectors = vectorizer.fit_transform(dev_data[\"text\"])\n",
        "vectors.shape"
      ]
    },
    {
      "cell_type": "code",
      "execution_count": 21,
      "metadata": {
        "colab": {
          "base_uri": "https://localhost:8080/",
          "height": 0
        },
        "id": "OKbe9nrOpO4o",
        "outputId": "c2c517b7-3418-4736-e58e-c76e074e5c02"
      },
      "outputs": [
        {
          "data": {
            "text/plain": [
              "(337372, 640000)"
            ]
          },
          "execution_count": 21,
          "metadata": {},
          "output_type": "execute_result"
        }
      ],
      "source": [
        "transpose_vectors = vectors.transpose()\n",
        "transpose_vectors.shape"
      ]
    },
    {
      "cell_type": "code",
      "execution_count": 22,
      "metadata": {
        "colab": {
          "base_uri": "https://localhost:8080/",
          "height": 0
        },
        "id": "MeDcUKwcpO4o",
        "outputId": "8a93db93-d40c-4969-91a9-af45a3fc2728"
      },
      "outputs": [
        {
          "data": {
            "text/plain": [
              "337372"
            ]
          },
          "execution_count": 22,
          "metadata": {},
          "output_type": "execute_result"
        }
      ],
      "source": [
        "len(vectorizer.vocabulary_)"
      ]
    },
    {
      "cell_type": "code",
      "execution_count": 23,
      "metadata": {
        "id": "w2Mi6jHnpO4q"
      },
      "outputs": [],
      "source": [
        "svd = TruncatedSVD(n_components=300)\n",
        "svd_matrix = svd.fit_transform(transpose_vectors)"
      ]
    },
    {
      "cell_type": "code",
      "execution_count": 24,
      "metadata": {
        "colab": {
          "base_uri": "https://localhost:8080/",
          "height": 0
        },
        "id": "7-9ja4vVpO4q",
        "outputId": "0c667130-1035-419c-973b-d4cd1076c153"
      },
      "outputs": [
        {
          "data": {
            "text/plain": [
              "(337372, 300)"
            ]
          },
          "execution_count": 24,
          "metadata": {},
          "output_type": "execute_result"
        }
      ],
      "source": [
        "svd_matrix.shape"
      ]
    },
    {
      "cell_type": "code",
      "execution_count": 24,
      "metadata": {
        "id": "3j9RGWrHpOO2"
      },
      "outputs": [],
      "source": []
    },
    {
      "cell_type": "code",
      "execution_count": 24,
      "metadata": {
        "id": "mgeUuenfpORv"
      },
      "outputs": [],
      "source": []
    },
    {
      "cell_type": "code",
      "execution_count": 24,
      "metadata": {
        "id": "pvGoXGiPpOUF"
      },
      "outputs": [],
      "source": []
    },
    {
      "cell_type": "markdown",
      "metadata": {
        "id": "cuFmlXkC6E7X"
      },
      "source": [
        "Загрузим предобученную модель эмбеддингов. \n",
        "\n",
        "Если хотите, можно попробовать другую. Полный список можно найти здесь: https://github.com/RaRe-Technologies/gensim-data.\n",
        "\n",
        "Данная модель выдает эмбеддинги для **слов**. Строить по эмбеддингам слов эмбеддинги предложений мы будем ниже."
      ]
    },
    {
      "cell_type": "code",
      "execution_count": 25,
      "metadata": {
        "id": "cACJpje2T5bc"
      },
      "outputs": [],
      "source": [
        "#word2vec = api.load(\"word2vec-google-news-300\")"
      ]
    },
    {
      "cell_type": "code",
      "execution_count": 26,
      "metadata": {
        "id": "3eYmqOZbAvyK"
      },
      "outputs": [],
      "source": [
        "\n",
        "from gensim.models import KeyedVectors\n",
        "\n",
        "filename='/content/drive/MyDrive/word2vec-google-news-300.gz'\n",
        "\n",
        "word2vec = KeyedVectors.load_word2vec_format(filename,binary=True,unicode_errors='ignore')"
      ]
    },
    {
      "cell_type": "code",
      "execution_count": 27,
      "metadata": {
        "colab": {
          "base_uri": "https://localhost:8080/",
          "height": 0
        },
        "id": "Rt67ElPh2k3k",
        "outputId": "17f1d27d-2755-4d57-9f7a-15dbb99e3127"
      },
      "outputs": [
        {
          "name": "stdout",
          "output_type": "stream",
          "text": [
            "              total        used        free      shared  buff/cache   available\n",
            "Mem:            12G        9.1G        175M        1.2M        3.5G        4.9G\n",
            "Swap:            0B          0B          0B\n"
          ]
        }
      ],
      "source": [
        "!free -h"
      ]
    },
    {
      "cell_type": "code",
      "execution_count": 28,
      "metadata": {
        "colab": {
          "base_uri": "https://localhost:8080/",
          "height": 0
        },
        "id": "NafmYHrkT5YD",
        "outputId": "f2442e94-3ddd-48f2-9526-716ed23ca848"
      },
      "outputs": [
        {
          "name": "stdout",
          "output_type": "stream",
          "text": [
            "(300,)\n"
          ]
        }
      ],
      "source": [
        "emb_line = [word2vec.get_vector(w) for w in filtered_line if w in word2vec]\n",
        "print(sum(emb_line).shape)"
      ]
    },
    {
      "cell_type": "code",
      "execution_count": 29,
      "metadata": {
        "colab": {
          "base_uri": "https://localhost:8080/",
          "height": 0
        },
        "id": "xhUN1LQCNr1-",
        "outputId": "06d2235a-ef32-4715-ec67-85e35fd7916f"
      },
      "outputs": [
        {
          "data": {
            "text/plain": [
              "2"
            ]
          },
          "execution_count": 29,
          "metadata": {},
          "output_type": "execute_result"
        }
      ],
      "source": [
        "len(np.array(emb_line).shape)"
      ]
    },
    {
      "cell_type": "markdown",
      "metadata": {
        "id": "LTS6LCkd6_E7"
      },
      "source": [
        "Нормализуем эмбеддинги, прежде чем обучать на них сеть. \n",
        "(наверное, вы помните, что нейронные сети гораздо лучше обучаются на нормализованных данных)"
      ]
    },
    {
      "cell_type": "code",
      "execution_count": 30,
      "metadata": {
        "colab": {
          "base_uri": "https://localhost:8080/",
          "height": 54
        },
        "id": "3PyLTZ6xf3Oq",
        "outputId": "1483b624-329f-4050-cf24-76cfea36b0f2"
      },
      "outputs": [
        {
          "data": {
            "application/vnd.google.colaboratory.intrinsic+json": {
              "type": "string"
            },
            "text/plain": [
              "'\\nmean = np.mean(word2vec.vectors, 0)\\nstd = np.std(word2vec.vectors, 0)\\nnorm_emb_line = [(word2vec.get_vector(w) - mean) / std for w in filtered_line if w in word2vec and len(w) > 3]\\nprint(sum(norm_emb_line).shape)\\nprint([all(norm_emb_line[i] == emb_line[i]) for i in range(len(emb_line))])\\n'"
            ]
          },
          "execution_count": 30,
          "metadata": {},
          "output_type": "execute_result"
        }
      ],
      "source": [
        "'''\n",
        "mean = np.mean(word2vec.vectors, 0)\n",
        "std = np.std(word2vec.vectors, 0)\n",
        "norm_emb_line = [(word2vec.get_vector(w) - mean) / std for w in filtered_line if w in word2vec and len(w) > 3]\n",
        "print(sum(norm_emb_line).shape)\n",
        "print([all(norm_emb_line[i] == emb_line[i]) for i in range(len(emb_line))])\n",
        "'''"
      ]
    },
    {
      "cell_type": "markdown",
      "metadata": {
        "id": "q7vm6Ppd7Ubw"
      },
      "source": [
        "Сделаем датасет, который будет по запросу возвращать подготовленные данные."
      ]
    },
    {
      "cell_type": "code",
      "execution_count": 31,
      "metadata": {
        "id": "5ZkUkdIv0K1p"
      },
      "outputs": [],
      "source": [
        "class TwitterDataset(Dataset):\n",
        "    def __init__(self, data: pd.DataFrame, feature_column: str, target_column: str, word2vec: gensim.models.Word2Vec):\n",
        "        self.tokenizer = nltk.WordPunctTokenizer()\n",
        "        \n",
        "        self.data = data\n",
        "\n",
        "        self.feature_column = feature_column\n",
        "        self.target_column = target_column\n",
        "\n",
        "        self.word2vec = word2vec\n",
        "\n",
        "        self.label2num = lambda label: 0 if label == 0 else 1\n",
        "        self.mean = np.mean(word2vec.vectors, axis=0)\n",
        "        self.std = np.std(word2vec.vectors, axis=0)\n",
        "\n",
        "    def __getitem__(self, item):\n",
        "        text = self.data[self.feature_column][item]\n",
        "        label = self.label2num(self.data[self.target_column][item])\n",
        "\n",
        "        tokens = self.get_tokens_(text)\n",
        "        embeddings = self.get_embeddings_(tokens)\n",
        "\n",
        "        return {\"feature\": embeddings, \"target\": label}\n",
        "\n",
        "    def get_tokens_(self, text):\n",
        "        tokens = self.tokenizer.tokenize(text.lower())\n",
        "        tokens = [w for w in tokens if all(c not in string.punctuation for c in w) and len(w) > 3]\n",
        "        return tokens\n",
        "\n",
        "    def get_embeddings_(self, tokens):\n",
        "        result_embeddings = [(self.word2vec.get_vector(w) - self.mean) / self.std for w in tokens if w in self.word2vec]\n",
        "        \n",
        "        if len(result_embeddings) == 0:\n",
        "          result_embeddings = np.zeros((1, self.word2vec.vector_size))\n",
        "        else:\n",
        "          result_embeddings = np.array(result_embeddings)\n",
        "          #print(result_embeddings.shape)\n",
        "          if len(result_embeddings.shape) == 1:\n",
        "            result_embeddings = result_embeddings.reshape(-1, 1)            \n",
        "\n",
        "        return result_embeddings\n",
        "\n",
        "    def __len__(self):\n",
        "        return self.data.shape[0]"
      ]
    },
    {
      "cell_type": "code",
      "execution_count": 32,
      "metadata": {
        "id": "IZJpttbXpZyz"
      },
      "outputs": [],
      "source": [
        "dev = TwitterDataset(dev_data, \"text\", \"emotion\", word2vec)"
      ]
    },
    {
      "cell_type": "markdown",
      "metadata": {
        "id": "Sr-aetH0_LH1"
      },
      "source": [
        "Отлично, мы готовы с помощью эмбеддингов слов превращать твиты в векторы и обучать нейронную сеть.\n",
        "\n",
        "Превращать твиты в векторы, используя эмбеддинги слов, можно несколькими способами. А именно такими:"
      ]
    },
    {
      "cell_type": "markdown",
      "metadata": {
        "id": "4AhHrWa196Yc"
      },
      "source": [
        "# Average embedding\n",
        "---\n",
        "Это самый простой вариант, как получить вектор предложения, используя векторные представления слов в предложении. А именно: вектор предложения есть средний вектор всех слов в предлоежнии (которые остались после токенизации и удаления коротких слов, конечно). "
      ]
    },
    {
      "cell_type": "code",
      "execution_count": 33,
      "metadata": {
        "colab": {
          "base_uri": "https://localhost:8080/",
          "height": 0
        },
        "id": "ScdokSW-994t",
        "outputId": "dac54a7b-995b-44c3-a0d5-1d37c7dfe808"
      },
      "outputs": [
        {
          "name": "stdout",
          "output_type": "stream",
          "text": [
            "1280\n"
          ]
        }
      ],
      "source": [
        "indexes = np.arange(len(dev))\n",
        "np.random.shuffle(indexes)\n",
        "example_indexes = indexes[::500]\n",
        "\n",
        "examples = {\"features\": [np.mean(dev[i][\"feature\"], axis=0) for i in example_indexes], \n",
        "            \"targets\": [dev[i][\"target\"] for i in example_indexes]}\n",
        "print(len(examples[\"features\"]))"
      ]
    },
    {
      "cell_type": "markdown",
      "metadata": {
        "id": "1yGQ_lOx_1NL"
      },
      "source": [
        "Давайте сделаем визуализацию полученных векторов твитов тренировочного (dev) датасета. Так мы увидим, насколько хорошо твиты с разными target значениями отделяются друг от друга, т.е. насколько хорошо усреднение эмбеддингов слов предложения передает информацию о предложении."
      ]
    },
    {
      "cell_type": "markdown",
      "metadata": {
        "id": "LZwFksd_8uYO"
      },
      "source": [
        "Для визуализации векторов надо получить их проекцию на плоскость. Сделаем это с помощью `PCA`. Если хотите, можете вместо PCA использовать TSNE: так у вас получится более точная проекция на плоскость (а значит, более информативная, т.е. отражающая реальное положение векторов твитов в пространстве). Но TSNE будет работать намного дольше."
      ]
    },
    {
      "cell_type": "code",
      "execution_count": 34,
      "metadata": {
        "id": "aKFZRSHdtIac"
      },
      "outputs": [],
      "source": [
        "pca = PCA(n_components=2)\n",
        "examples[\"transformed_features\"] = pca.fit_transform(examples['features'])#.components_"
      ]
    },
    {
      "cell_type": "code",
      "execution_count": 35,
      "metadata": {
        "id": "szEOWdiNtIX8"
      },
      "outputs": [],
      "source": [
        "def draw_vectors(x, y, radius=10, alpha=0.25, color='blue',\n",
        "                 width=600, height=400, show=True, **kwargs):\n",
        "    \"\"\" draws an interactive plot for data points with auxilirary info on hover \"\"\"\n",
        "    data_source = bm.ColumnDataSource({ 'x' : x, 'y' : y, 'color': color, **kwargs })\n",
        "\n",
        "    fig = pl.figure(active_scroll='wheel_zoom', width=width, height=height)\n",
        "    fig.scatter('x', 'y', size=radius, color='color', alpha=alpha, source=data_source)\n",
        "\n",
        "    fig.add_tools(bm.HoverTool(tooltips=[(key, \"@\" + key) for key in kwargs.keys()]))\n",
        "    if show: pl.show(fig)\n",
        "    return fig"
      ]
    },
    {
      "cell_type": "code",
      "execution_count": 36,
      "metadata": {
        "colab": {
          "base_uri": "https://localhost:8080/",
          "height": 434
        },
        "id": "7OONK8ldtIWe",
        "outputId": "8d3e1a3f-3d95-4aa8-f9a0-c9688b3f441a"
      },
      "outputs": [
        {
          "data": {
            "application/javascript": "\n(function(root) {\n  function now() {\n    return new Date();\n  }\n\n  var force = true;\n\n  if (typeof root._bokeh_onload_callbacks === \"undefined\" || force === true) {\n    root._bokeh_onload_callbacks = [];\n    root._bokeh_is_loading = undefined;\n  }\n\n  var JS_MIME_TYPE = 'application/javascript';\n  var HTML_MIME_TYPE = 'text/html';\n  var EXEC_MIME_TYPE = 'application/vnd.bokehjs_exec.v0+json';\n  var CLASS_NAME = 'output_bokeh rendered_html';\n\n  /**\n   * Render data to the DOM node\n   */\n  function render(props, node) {\n    var script = document.createElement(\"script\");\n    node.appendChild(script);\n  }\n\n  /**\n   * Handle when an output is cleared or removed\n   */\n  function handleClearOutput(event, handle) {\n    var cell = handle.cell;\n\n    var id = cell.output_area._bokeh_element_id;\n    var server_id = cell.output_area._bokeh_server_id;\n    // Clean up Bokeh references\n    if (id != null && id in Bokeh.index) {\n      Bokeh.index[id].model.document.clear();\n      delete Bokeh.index[id];\n    }\n\n    if (server_id !== undefined) {\n      // Clean up Bokeh references\n      var cmd = \"from bokeh.io.state import curstate; print(curstate().uuid_to_server['\" + server_id + \"'].get_sessions()[0].document.roots[0]._id)\";\n      cell.notebook.kernel.execute(cmd, {\n        iopub: {\n          output: function(msg) {\n            var id = msg.content.text.trim();\n            if (id in Bokeh.index) {\n              Bokeh.index[id].model.document.clear();\n              delete Bokeh.index[id];\n            }\n          }\n        }\n      });\n      // Destroy server and session\n      var cmd = \"import bokeh.io.notebook as ion; ion.destroy_server('\" + server_id + \"')\";\n      cell.notebook.kernel.execute(cmd);\n    }\n  }\n\n  /**\n   * Handle when a new output is added\n   */\n  function handleAddOutput(event, handle) {\n    var output_area = handle.output_area;\n    var output = handle.output;\n\n    // limit handleAddOutput to display_data with EXEC_MIME_TYPE content only\n    if ((output.output_type != \"display_data\") || (!Object.prototype.hasOwnProperty.call(output.data, EXEC_MIME_TYPE))) {\n      return\n    }\n\n    var toinsert = output_area.element.find(\".\" + CLASS_NAME.split(' ')[0]);\n\n    if (output.metadata[EXEC_MIME_TYPE][\"id\"] !== undefined) {\n      toinsert[toinsert.length - 1].firstChild.textContent = output.data[JS_MIME_TYPE];\n      // store reference to embed id on output_area\n      output_area._bokeh_element_id = output.metadata[EXEC_MIME_TYPE][\"id\"];\n    }\n    if (output.metadata[EXEC_MIME_TYPE][\"server_id\"] !== undefined) {\n      var bk_div = document.createElement(\"div\");\n      bk_div.innerHTML = output.data[HTML_MIME_TYPE];\n      var script_attrs = bk_div.children[0].attributes;\n      for (var i = 0; i < script_attrs.length; i++) {\n        toinsert[toinsert.length - 1].firstChild.setAttribute(script_attrs[i].name, script_attrs[i].value);\n        toinsert[toinsert.length - 1].firstChild.textContent = bk_div.children[0].textContent\n      }\n      // store reference to server id on output_area\n      output_area._bokeh_server_id = output.metadata[EXEC_MIME_TYPE][\"server_id\"];\n    }\n  }\n\n  function register_renderer(events, OutputArea) {\n\n    function append_mime(data, metadata, element) {\n      // create a DOM node to render to\n      var toinsert = this.create_output_subarea(\n        metadata,\n        CLASS_NAME,\n        EXEC_MIME_TYPE\n      );\n      this.keyboard_manager.register_events(toinsert);\n      // Render to node\n      var props = {data: data, metadata: metadata[EXEC_MIME_TYPE]};\n      render(props, toinsert[toinsert.length - 1]);\n      element.append(toinsert);\n      return toinsert\n    }\n\n    /* Handle when an output is cleared or removed */\n    events.on('clear_output.CodeCell', handleClearOutput);\n    events.on('delete.Cell', handleClearOutput);\n\n    /* Handle when a new output is added */\n    events.on('output_added.OutputArea', handleAddOutput);\n\n    /**\n     * Register the mime type and append_mime function with output_area\n     */\n    OutputArea.prototype.register_mime_type(EXEC_MIME_TYPE, append_mime, {\n      /* Is output safe? */\n      safe: true,\n      /* Index of renderer in `output_area.display_order` */\n      index: 0\n    });\n  }\n\n  // register the mime type if in Jupyter Notebook environment and previously unregistered\n  if (root.Jupyter !== undefined) {\n    var events = require('base/js/events');\n    var OutputArea = require('notebook/js/outputarea').OutputArea;\n\n    if (OutputArea.prototype.mime_types().indexOf(EXEC_MIME_TYPE) == -1) {\n      register_renderer(events, OutputArea);\n    }\n  }\n\n  \n  if (typeof (root._bokeh_timeout) === \"undefined\" || force === true) {\n    root._bokeh_timeout = Date.now() + 5000;\n    root._bokeh_failed_load = false;\n  }\n\n  var NB_LOAD_WARNING = {'data': {'text/html':\n     \"<div style='background-color: #fdd'>\\n\"+\n     \"<p>\\n\"+\n     \"BokehJS does not appear to have successfully loaded. If loading BokehJS from CDN, this \\n\"+\n     \"may be due to a slow or bad network connection. Possible fixes:\\n\"+\n     \"</p>\\n\"+\n     \"<ul>\\n\"+\n     \"<li>re-rerun `output_notebook()` to attempt to load from CDN again, or</li>\\n\"+\n     \"<li>use INLINE resources instead, as so:</li>\\n\"+\n     \"</ul>\\n\"+\n     \"<code>\\n\"+\n     \"from bokeh.resources import INLINE\\n\"+\n     \"output_notebook(resources=INLINE)\\n\"+\n     \"</code>\\n\"+\n     \"</div>\"}};\n\n  function display_loaded() {\n    var el = document.getElementById(null);\n    if (el != null) {\n      el.textContent = \"BokehJS is loading...\";\n    }\n    if (root.Bokeh !== undefined) {\n      if (el != null) {\n        el.textContent = \"BokehJS \" + root.Bokeh.version + \" successfully loaded.\";\n      }\n    } else if (Date.now() < root._bokeh_timeout) {\n      setTimeout(display_loaded, 100)\n    }\n  }\n\n\n  function run_callbacks() {\n    try {\n      root._bokeh_onload_callbacks.forEach(function(callback) {\n        if (callback != null)\n          callback();\n      });\n    } finally {\n      delete root._bokeh_onload_callbacks\n    }\n    console.debug(\"Bokeh: all callbacks have finished\");\n  }\n\n  function load_libs(css_urls, js_urls, callback) {\n    if (css_urls == null) css_urls = [];\n    if (js_urls == null) js_urls = [];\n\n    root._bokeh_onload_callbacks.push(callback);\n    if (root._bokeh_is_loading > 0) {\n      console.debug(\"Bokeh: BokehJS is being loaded, scheduling callback at\", now());\n      return null;\n    }\n    if (js_urls == null || js_urls.length === 0) {\n      run_callbacks();\n      return null;\n    }\n    console.debug(\"Bokeh: BokehJS not loaded, scheduling load and callback at\", now());\n    root._bokeh_is_loading = css_urls.length + js_urls.length;\n\n    function on_load() {\n      root._bokeh_is_loading--;\n      if (root._bokeh_is_loading === 0) {\n        console.debug(\"Bokeh: all BokehJS libraries/stylesheets loaded\");\n        run_callbacks()\n      }\n    }\n\n    function on_error(url) {\n      console.error(\"failed to load \" + url);\n    }\n\n    for (let i = 0; i < css_urls.length; i++) {\n      const url = css_urls[i];\n      const element = document.createElement(\"link\");\n      element.onload = on_load;\n      element.onerror = on_error.bind(null, url);\n      element.rel = \"stylesheet\";\n      element.type = \"text/css\";\n      element.href = url;\n      console.debug(\"Bokeh: injecting link tag for BokehJS stylesheet: \", url);\n      document.body.appendChild(element);\n    }\n\n    const hashes = {\"https://cdn.bokeh.org/bokeh/release/bokeh-2.3.3.min.js\": \"dM3QQsP+wXdHg42wTqW85BjZQdLNNIXqlPw/BgKoExPmTG7ZLML4EGqLMfqHT6ON\", \"https://cdn.bokeh.org/bokeh/release/bokeh-tables-2.3.3.min.js\": \"8x57I4YuIfu8XyZfFo0XVr2WAT8EK4rh/uDe3wF7YuW2FNUSNEpJbsPaB1nJ2fz2\", \"https://cdn.bokeh.org/bokeh/release/bokeh-widgets-2.3.3.min.js\": \"3QTqdz9LyAm2i0sG5XTePsHec3UHWwVsrOL68SYRoAXsafvfAyqtQ+h440+qIBhS\"};\n\n    for (let i = 0; i < js_urls.length; i++) {\n      const url = js_urls[i];\n      const element = document.createElement('script');\n      element.onload = on_load;\n      element.onerror = on_error.bind(null, url);\n      element.async = false;\n      element.src = url;\n      if (url in hashes) {\n        element.crossOrigin = \"anonymous\";\n        element.integrity = \"sha384-\" + hashes[url];\n      }\n      console.debug(\"Bokeh: injecting script tag for BokehJS library: \", url);\n      document.head.appendChild(element);\n    }\n  };\n\n  function inject_raw_css(css) {\n    const element = document.createElement(\"style\");\n    element.appendChild(document.createTextNode(css));\n    document.body.appendChild(element);\n  }\n\n  \n  var js_urls = [\"https://cdn.bokeh.org/bokeh/release/bokeh-2.3.3.min.js\", \"https://cdn.bokeh.org/bokeh/release/bokeh-widgets-2.3.3.min.js\", \"https://cdn.bokeh.org/bokeh/release/bokeh-tables-2.3.3.min.js\"];\n  var css_urls = [];\n  \n\n  var inline_js = [\n    function(Bokeh) {\n      Bokeh.set_log_level(\"info\");\n    },\n    function(Bokeh) {\n    \n    \n    }\n  ];\n\n  function run_inline_js() {\n    \n    if (root.Bokeh !== undefined || force === true) {\n      \n    for (var i = 0; i < inline_js.length; i++) {\n      inline_js[i].call(root, root.Bokeh);\n    }\n    } else if (Date.now() < root._bokeh_timeout) {\n      setTimeout(run_inline_js, 100);\n    } else if (!root._bokeh_failed_load) {\n      console.log(\"Bokeh: BokehJS failed to load within specified timeout.\");\n      root._bokeh_failed_load = true;\n    } else if (force !== true) {\n      var cell = $(document.getElementById(null)).parents('.cell').data().cell;\n      cell.output_area.append_execute_result(NB_LOAD_WARNING)\n    }\n\n  }\n\n  if (root._bokeh_is_loading === 0) {\n    console.debug(\"Bokeh: BokehJS loaded, going straight to plotting\");\n    run_inline_js();\n  } else {\n    load_libs(css_urls, js_urls, function() {\n      console.debug(\"Bokeh: BokehJS plotting callback run at\", now());\n      run_inline_js();\n    });\n  }\n}(window));",
            "application/vnd.bokehjs_load.v0+json": ""
          },
          "metadata": {},
          "output_type": "display_data"
        },
        {
          "data": {
            "text/html": [
              "\n",
              "\n",
              "\n",
              "\n",
              "\n",
              "\n",
              "  <div class=\"bk-root\" id=\"8fa8b101-5884-4008-bb2d-da72e2c8c36f\" data-root-id=\"1003\"></div>\n"
            ]
          },
          "metadata": {},
          "output_type": "display_data"
        },
        {
          "data": {
            "application/javascript": "(function(root) {\n  function embed_document(root) {\n    \n  var docs_json = {\"1cf5822d-8845-45e4-835c-5b08e47fdf3d\":{\"defs\":[],\"roots\":{\"references\":[{\"attributes\":{\"below\":[{\"id\":\"1012\"}],\"center\":[{\"id\":\"1015\"},{\"id\":\"1019\"}],\"height\":400,\"left\":[{\"id\":\"1016\"}],\"renderers\":[{\"id\":\"1037\"}],\"title\":{\"id\":\"1042\"},\"toolbar\":{\"id\":\"1027\"},\"x_range\":{\"id\":\"1004\"},\"x_scale\":{\"id\":\"1008\"},\"y_range\":{\"id\":\"1006\"},\"y_scale\":{\"id\":\"1010\"}},\"id\":\"1003\",\"subtype\":\"Figure\",\"type\":\"Plot\"},{\"attributes\":{\"axis\":{\"id\":\"1016\"},\"dimension\":1,\"ticker\":null},\"id\":\"1019\",\"type\":\"Grid\"},{\"attributes\":{\"data\":{\"color\":[\"red\",\"red\",\"blue\",\"blue\",\"red\",\"red\",\"red\",\"blue\",\"blue\",\"blue\",\"blue\",\"red\",\"blue\",\"red\",\"blue\",\"blue\",\"blue\",\"red\",\"blue\",\"red\",\"blue\",\"red\",\"red\",\"blue\",\"blue\",\"blue\",\"red\",\"blue\",\"blue\",\"blue\",\"red\",\"blue\",\"red\",\"blue\",\"blue\",\"blue\",\"blue\",\"blue\",\"blue\",\"red\",\"red\",\"red\",\"blue\",\"red\",\"blue\",\"red\",\"red\",\"blue\",\"red\",\"blue\",\"red\",\"blue\",\"red\",\"blue\",\"red\",\"red\",\"red\",\"blue\",\"red\",\"blue\",\"blue\",\"blue\",\"red\",\"red\",\"red\",\"blue\",\"blue\",\"red\",\"blue\",\"red\",\"red\",\"red\",\"red\",\"red\",\"blue\",\"blue\",\"red\",\"blue\",\"red\",\"red\",\"red\",\"red\",\"red\",\"red\",\"red\",\"red\",\"red\",\"blue\",\"red\",\"blue\",\"blue\",\"red\",\"blue\",\"blue\",\"blue\",\"red\",\"blue\",\"blue\",\"blue\",\"red\",\"blue\",\"blue\",\"blue\",\"red\",\"red\",\"red\",\"red\",\"blue\",\"blue\",\"blue\",\"red\",\"blue\",\"red\",\"red\",\"blue\",\"blue\",\"red\",\"blue\",\"blue\",\"red\",\"red\",\"red\",\"blue\",\"blue\",\"blue\",\"red\",\"red\",\"blue\",\"red\",\"red\",\"red\",\"blue\",\"blue\",\"red\",\"red\",\"blue\",\"blue\",\"blue\",\"blue\",\"blue\",\"red\",\"blue\",\"blue\",\"red\",\"blue\",\"red\",\"blue\",\"red\",\"blue\",\"blue\",\"red\",\"red\",\"blue\",\"red\",\"blue\",\"blue\",\"red\",\"red\",\"blue\",\"blue\",\"red\",\"blue\",\"blue\",\"blue\",\"red\",\"blue\",\"blue\",\"blue\",\"blue\",\"blue\",\"red\",\"red\",\"red\",\"blue\",\"blue\",\"blue\",\"red\",\"blue\",\"red\",\"blue\",\"blue\",\"blue\",\"red\",\"blue\",\"blue\",\"red\",\"red\",\"blue\",\"blue\",\"red\",\"blue\",\"blue\",\"red\",\"red\",\"blue\",\"blue\",\"blue\",\"blue\",\"blue\",\"red\",\"blue\",\"red\",\"red\",\"red\",\"red\",\"red\",\"red\",\"red\",\"blue\",\"blue\",\"red\",\"red\",\"blue\",\"red\",\"red\",\"blue\",\"red\",\"red\",\"red\",\"red\",\"blue\",\"blue\",\"red\",\"blue\",\"red\",\"blue\",\"red\",\"blue\",\"blue\",\"red\",\"red\",\"blue\",\"blue\",\"red\",\"red\",\"blue\",\"blue\",\"blue\",\"red\",\"red\",\"blue\",\"red\",\"red\",\"red\",\"blue\",\"blue\",\"red\",\"red\",\"blue\",\"blue\",\"blue\",\"red\",\"red\",\"red\",\"red\",\"red\",\"red\",\"red\",\"blue\",\"red\",\"blue\",\"red\",\"blue\",\"blue\",\"red\",\"red\",\"red\",\"blue\",\"red\",\"red\",\"red\",\"blue\",\"red\",\"red\",\"blue\",\"blue\",\"blue\",\"blue\",\"blue\",\"blue\",\"red\",\"blue\",\"blue\",\"red\",\"blue\",\"blue\",\"red\",\"blue\",\"red\",\"red\",\"red\",\"red\",\"red\",\"blue\",\"blue\",\"red\",\"blue\",\"blue\",\"red\",\"blue\",\"red\",\"blue\",\"blue\",\"red\",\"red\",\"red\",\"red\",\"red\",\"red\",\"red\",\"red\",\"blue\",\"blue\",\"blue\",\"blue\",\"blue\",\"blue\",\"red\",\"blue\",\"blue\",\"red\",\"blue\",\"blue\",\"blue\",\"blue\",\"red\",\"red\",\"blue\",\"red\",\"red\",\"red\",\"red\",\"blue\",\"red\",\"red\",\"blue\",\"red\",\"red\",\"blue\",\"red\",\"blue\",\"red\",\"blue\",\"blue\",\"blue\",\"blue\",\"blue\",\"blue\",\"blue\",\"blue\",\"red\",\"red\",\"blue\",\"blue\",\"red\",\"red\",\"red\",\"red\",\"blue\",\"red\",\"blue\",\"blue\",\"red\",\"red\",\"blue\",\"red\",\"blue\",\"red\",\"blue\",\"blue\",\"blue\",\"red\",\"blue\",\"blue\",\"blue\",\"blue\",\"blue\",\"blue\",\"blue\",\"blue\",\"blue\",\"blue\",\"red\",\"red\",\"red\",\"red\",\"blue\",\"red\",\"blue\",\"red\",\"red\",\"blue\",\"red\",\"blue\",\"red\",\"blue\",\"red\",\"blue\",\"red\",\"blue\",\"blue\",\"red\",\"blue\",\"red\",\"red\",\"red\",\"blue\",\"blue\",\"blue\",\"blue\",\"blue\",\"blue\",\"blue\",\"red\",\"red\",\"red\",\"blue\",\"blue\",\"red\",\"blue\",\"blue\",\"red\",\"blue\",\"red\",\"red\",\"blue\",\"red\",\"blue\",\"red\",\"blue\",\"blue\",\"blue\",\"blue\",\"red\",\"blue\",\"blue\",\"blue\",\"red\",\"blue\",\"red\",\"blue\",\"blue\",\"blue\",\"red\",\"red\",\"blue\",\"red\",\"red\",\"red\",\"blue\",\"blue\",\"blue\",\"blue\",\"red\",\"blue\",\"blue\",\"red\",\"red\",\"red\",\"red\",\"blue\",\"red\",\"blue\",\"red\",\"blue\",\"red\",\"red\",\"red\",\"blue\",\"red\",\"blue\",\"red\",\"red\",\"red\",\"red\",\"blue\",\"red\",\"red\",\"red\",\"red\",\"red\",\"red\",\"blue\",\"red\",\"red\",\"blue\",\"blue\",\"red\",\"red\",\"red\",\"red\",\"red\",\"red\",\"blue\",\"red\",\"blue\",\"red\",\"red\",\"red\",\"red\",\"red\",\"red\",\"red\",\"red\",\"red\",\"red\",\"blue\",\"blue\",\"blue\",\"blue\",\"red\",\"red\",\"red\",\"blue\",\"blue\",\"blue\",\"red\",\"blue\",\"blue\",\"blue\",\"blue\",\"red\",\"red\",\"red\",\"red\",\"red\",\"blue\",\"red\",\"blue\",\"blue\",\"red\",\"blue\",\"red\",\"blue\",\"red\",\"red\",\"red\",\"blue\",\"blue\",\"red\",\"red\",\"blue\",\"red\",\"blue\",\"red\",\"red\",\"blue\",\"blue\",\"red\",\"blue\",\"blue\",\"blue\",\"blue\",\"blue\",\"red\",\"blue\",\"blue\",\"red\",\"red\",\"red\",\"blue\",\"red\",\"blue\",\"blue\",\"red\",\"blue\",\"blue\",\"red\",\"red\",\"blue\",\"blue\",\"red\",\"blue\",\"blue\",\"red\",\"red\",\"red\",\"blue\",\"blue\",\"red\",\"red\",\"red\",\"blue\",\"red\",\"red\",\"blue\",\"red\",\"red\",\"blue\",\"blue\",\"blue\",\"red\",\"red\",\"red\",\"red\",\"red\",\"red\",\"red\",\"red\",\"red\",\"red\",\"blue\",\"blue\",\"blue\",\"red\",\"blue\",\"blue\",\"blue\",\"red\",\"red\",\"red\",\"blue\",\"red\",\"red\",\"red\",\"red\",\"blue\",\"red\",\"red\",\"blue\",\"blue\",\"red\",\"blue\",\"red\",\"blue\",\"blue\",\"blue\",\"blue\",\"red\",\"red\",\"blue\",\"blue\",\"blue\",\"blue\",\"blue\",\"red\",\"red\",\"red\",\"blue\",\"blue\",\"blue\",\"red\",\"red\",\"red\",\"red\",\"red\",\"red\",\"blue\",\"red\",\"red\",\"red\",\"red\",\"red\",\"blue\",\"blue\",\"red\",\"blue\",\"blue\",\"blue\",\"blue\",\"blue\",\"blue\",\"red\",\"red\",\"red\",\"red\",\"red\",\"red\",\"red\",\"red\",\"blue\",\"blue\",\"red\",\"blue\",\"red\",\"blue\",\"blue\",\"blue\",\"blue\",\"blue\",\"red\",\"red\",\"blue\",\"red\",\"red\",\"red\",\"red\",\"red\",\"red\",\"blue\",\"red\",\"blue\",\"blue\",\"blue\",\"red\",\"red\",\"red\",\"blue\",\"blue\",\"blue\",\"blue\",\"blue\",\"red\",\"blue\",\"red\",\"red\",\"blue\",\"red\",\"red\",\"blue\",\"red\",\"blue\",\"red\",\"blue\",\"blue\",\"blue\",\"red\",\"red\",\"blue\",\"red\",\"red\",\"blue\",\"red\",\"blue\",\"blue\",\"blue\",\"red\",\"red\",\"red\",\"red\",\"blue\",\"red\",\"red\",\"red\",\"blue\",\"blue\",\"blue\",\"red\",\"red\",\"blue\",\"blue\",\"blue\",\"red\",\"red\",\"red\",\"red\",\"blue\",\"red\",\"red\",\"blue\",\"red\",\"blue\",\"blue\",\"red\",\"blue\",\"blue\",\"blue\",\"blue\",\"red\",\"blue\",\"blue\",\"red\",\"blue\",\"blue\",\"blue\",\"blue\",\"red\",\"blue\",\"red\",\"blue\",\"blue\",\"blue\",\"blue\",\"red\",\"blue\",\"blue\",\"red\",\"red\",\"red\",\"blue\",\"blue\",\"red\",\"blue\",\"blue\",\"red\",\"red\",\"red\",\"blue\",\"blue\",\"red\",\"red\",\"red\",\"red\",\"red\",\"red\",\"blue\",\"blue\",\"red\",\"red\",\"red\",\"red\",\"blue\",\"blue\",\"red\",\"blue\",\"blue\",\"blue\",\"red\",\"blue\",\"red\",\"blue\",\"blue\",\"red\",\"blue\",\"blue\",\"red\",\"blue\",\"blue\",\"blue\",\"red\",\"red\",\"red\",\"red\",\"red\",\"blue\",\"red\",\"red\",\"red\",\"blue\",\"red\",\"blue\",\"red\",\"red\",\"blue\",\"blue\",\"red\",\"blue\",\"blue\",\"blue\",\"blue\",\"red\",\"blue\",\"blue\",\"red\",\"red\",\"blue\",\"blue\",\"red\",\"blue\",\"blue\",\"blue\",\"red\",\"red\",\"red\",\"blue\",\"blue\",\"red\",\"red\",\"red\",\"red\",\"red\",\"blue\",\"red\",\"blue\",\"blue\",\"blue\",\"blue\",\"red\",\"red\",\"red\",\"blue\",\"red\",\"blue\",\"red\",\"blue\",\"blue\",\"blue\",\"blue\",\"red\",\"red\",\"blue\",\"blue\",\"red\",\"blue\",\"red\",\"blue\",\"red\",\"blue\",\"red\",\"red\",\"red\",\"blue\",\"red\",\"red\",\"red\",\"red\",\"red\",\"blue\",\"blue\",\"red\",\"blue\",\"blue\",\"blue\",\"red\",\"red\",\"red\",\"blue\",\"blue\",\"blue\",\"blue\",\"red\",\"blue\",\"red\",\"red\",\"red\",\"blue\",\"blue\",\"red\",\"blue\",\"blue\",\"blue\",\"blue\",\"red\",\"blue\",\"red\",\"blue\",\"blue\",\"blue\",\"blue\",\"blue\",\"red\",\"red\",\"red\",\"blue\",\"blue\",\"blue\",\"red\",\"red\",\"blue\",\"blue\",\"blue\",\"red\",\"red\",\"red\",\"blue\",\"red\",\"blue\",\"blue\",\"blue\",\"blue\",\"blue\",\"blue\",\"blue\",\"red\",\"blue\",\"blue\",\"blue\",\"blue\",\"red\",\"blue\",\"blue\",\"red\",\"blue\",\"blue\",\"red\",\"red\",\"red\",\"red\",\"red\",\"red\",\"blue\",\"red\",\"blue\",\"red\",\"red\",\"red\",\"blue\",\"red\",\"blue\",\"blue\",\"red\",\"blue\",\"red\",\"red\",\"blue\",\"red\",\"blue\",\"blue\",\"blue\",\"red\",\"red\",\"red\",\"red\",\"red\",\"red\",\"red\",\"blue\",\"blue\",\"red\",\"blue\",\"blue\",\"blue\",\"blue\",\"blue\",\"red\",\"red\",\"blue\",\"red\",\"blue\",\"red\",\"red\",\"blue\",\"blue\",\"blue\",\"blue\",\"blue\",\"blue\",\"blue\",\"blue\",\"red\",\"red\",\"blue\",\"red\",\"red\",\"blue\",\"blue\",\"red\",\"blue\",\"blue\",\"red\",\"blue\",\"red\",\"red\",\"red\",\"red\",\"blue\",\"blue\",\"red\",\"red\",\"blue\",\"blue\",\"red\",\"blue\",\"red\",\"blue\",\"blue\",\"red\",\"blue\",\"blue\",\"blue\",\"blue\",\"blue\",\"red\",\"red\",\"red\",\"blue\",\"red\",\"red\",\"red\",\"red\",\"blue\",\"blue\",\"blue\",\"red\",\"blue\",\"red\",\"red\",\"blue\",\"blue\",\"blue\",\"blue\",\"red\",\"red\",\"red\",\"red\",\"blue\",\"blue\",\"blue\",\"blue\",\"red\",\"blue\",\"blue\",\"red\",\"red\",\"red\",\"blue\",\"blue\",\"blue\",\"red\",\"blue\",\"red\",\"red\",\"blue\",\"blue\",\"red\",\"blue\",\"red\",\"red\",\"red\",\"red\",\"red\",\"red\",\"red\",\"red\",\"blue\",\"red\",\"blue\",\"red\",\"blue\",\"red\",\"blue\",\"blue\",\"red\",\"red\",\"blue\",\"blue\",\"blue\",\"blue\",\"blue\",\"red\",\"blue\",\"blue\",\"blue\",\"blue\",\"red\",\"blue\",\"red\",\"red\",\"red\",\"blue\",\"blue\",\"blue\",\"blue\",\"red\",\"red\",\"blue\",\"red\",\"blue\",\"red\",\"blue\",\"blue\",\"red\",\"red\",\"red\",\"blue\",\"red\",\"blue\",\"red\",\"blue\",\"red\",\"red\",\"red\",\"blue\",\"red\",\"blue\",\"red\",\"red\",\"red\",\"blue\",\"red\",\"blue\",\"blue\",\"blue\",\"blue\",\"red\",\"blue\",\"blue\",\"blue\",\"red\",\"red\",\"red\",\"red\",\"red\",\"red\",\"red\",\"red\",\"blue\",\"blue\",\"red\",\"red\",\"red\",\"blue\",\"blue\",\"red\",\"red\",\"blue\",\"blue\",\"red\",\"red\",\"blue\",\"blue\",\"red\",\"blue\",\"red\",\"blue\",\"red\",\"blue\",\"red\",\"red\",\"red\",\"red\",\"blue\",\"blue\",\"red\",\"red\",\"blue\",\"blue\",\"red\",\"blue\",\"blue\",\"blue\",\"red\",\"blue\",\"blue\",\"blue\",\"red\",\"red\",\"blue\",\"blue\",\"blue\",\"blue\",\"red\",\"red\",\"blue\",\"red\",\"blue\",\"blue\",\"red\",\"blue\",\"blue\",\"blue\",\"blue\",\"red\",\"blue\",\"red\",\"red\",\"blue\",\"red\",\"blue\",\"red\",\"blue\",\"red\",\"red\",\"blue\",\"blue\",\"red\",\"red\",\"blue\",\"blue\",\"red\",\"blue\",\"red\",\"red\",\"red\",\"red\",\"blue\",\"blue\",\"red\",\"blue\",\"blue\",\"red\",\"red\",\"blue\",\"red\",\"blue\",\"blue\",\"red\",\"blue\",\"red\",\"red\",\"blue\",\"blue\",\"blue\",\"red\",\"red\",\"red\",\"blue\",\"red\",\"red\",\"blue\"],\"x\":{\"__ndarray__\":\"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\",\"dtype\":\"float64\",\"order\":\"little\",\"shape\":[1280]},\"y\":{\"__ndarray__\":\"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\",\"dtype\":\"float64\",\"order\":\"little\",\"shape\":[1280]}},\"selected\":{\"id\":\"1049\"},\"selection_policy\":{\"id\":\"1050\"}},\"id\":\"1002\",\"type\":\"ColumnDataSource\"},{\"attributes\":{\"fill_alpha\":{\"value\":0.1},\"fill_color\":{\"field\":\"color\"},\"line_alpha\":{\"value\":0.1},\"line_color\":{\"field\":\"color\"},\"size\":{\"value\":10},\"x\":{\"field\":\"x\"},\"y\":{\"field\":\"y\"}},\"id\":\"1036\",\"type\":\"Scatter\"},{\"attributes\":{\"bottom_units\":\"screen\",\"fill_alpha\":0.5,\"fill_color\":\"lightgrey\",\"left_units\":\"screen\",\"level\":\"overlay\",\"line_alpha\":1.0,\"line_color\":\"black\",\"line_dash\":[4,4],\"line_width\":2,\"right_units\":\"screen\",\"syncable\":false,\"top_units\":\"screen\"},\"id\":\"1026\",\"type\":\"BoxAnnotation\"},{\"attributes\":{},\"id\":\"1025\",\"type\":\"HelpTool\"},{\"attributes\":{\"formatter\":{\"id\":\"1045\"},\"major_label_policy\":{\"id\":\"1043\"},\"ticker\":{\"id\":\"1013\"}},\"id\":\"1012\",\"type\":\"LinearAxis\"},{\"attributes\":{},\"id\":\"1045\",\"type\":\"BasicTickFormatter\"},{\"attributes\":{},\"id\":\"1042\",\"type\":\"Title\"},{\"attributes\":{\"source\":{\"id\":\"1002\"}},\"id\":\"1038\",\"type\":\"CDSView\"},{\"attributes\":{},\"id\":\"1021\",\"type\":\"WheelZoomTool\"},{\"attributes\":{\"callback\":null,\"tooltips\":[]},\"id\":\"1039\",\"type\":\"HoverTool\"},{\"attributes\":{},\"id\":\"1043\",\"type\":\"AllLabels\"},{\"attributes\":{},\"id\":\"1050\",\"type\":\"UnionRenderers\"},{\"attributes\":{\"axis\":{\"id\":\"1012\"},\"ticker\":null},\"id\":\"1015\",\"type\":\"Grid\"},{\"attributes\":{\"active_multi\":null,\"active_scroll\":{\"id\":\"1021\"},\"tools\":[{\"id\":\"1020\"},{\"id\":\"1021\"},{\"id\":\"1022\"},{\"id\":\"1023\"},{\"id\":\"1024\"},{\"id\":\"1025\"},{\"id\":\"1039\"}]},\"id\":\"1027\",\"type\":\"Toolbar\"},{\"attributes\":{},\"id\":\"1017\",\"type\":\"BasicTicker\"},{\"attributes\":{},\"id\":\"1006\",\"type\":\"DataRange1d\"},{\"attributes\":{},\"id\":\"1010\",\"type\":\"LinearScale\"},{\"attributes\":{\"fill_alpha\":{\"value\":0.25},\"fill_color\":{\"field\":\"color\"},\"line_alpha\":{\"value\":0.25},\"line_color\":{\"field\":\"color\"},\"size\":{\"value\":10},\"x\":{\"field\":\"x\"},\"y\":{\"field\":\"y\"}},\"id\":\"1035\",\"type\":\"Scatter\"},{\"attributes\":{},\"id\":\"1020\",\"type\":\"PanTool\"},{\"attributes\":{},\"id\":\"1048\",\"type\":\"BasicTickFormatter\"},{\"attributes\":{},\"id\":\"1049\",\"type\":\"Selection\"},{\"attributes\":{\"data_source\":{\"id\":\"1002\"},\"glyph\":{\"id\":\"1035\"},\"hover_glyph\":null,\"muted_glyph\":null,\"nonselection_glyph\":{\"id\":\"1036\"},\"view\":{\"id\":\"1038\"}},\"id\":\"1037\",\"type\":\"GlyphRenderer\"},{\"attributes\":{\"formatter\":{\"id\":\"1048\"},\"major_label_policy\":{\"id\":\"1046\"},\"ticker\":{\"id\":\"1017\"}},\"id\":\"1016\",\"type\":\"LinearAxis\"},{\"attributes\":{\"overlay\":{\"id\":\"1026\"}},\"id\":\"1022\",\"type\":\"BoxZoomTool\"},{\"attributes\":{},\"id\":\"1013\",\"type\":\"BasicTicker\"},{\"attributes\":{},\"id\":\"1024\",\"type\":\"ResetTool\"},{\"attributes\":{},\"id\":\"1046\",\"type\":\"AllLabels\"},{\"attributes\":{},\"id\":\"1008\",\"type\":\"LinearScale\"},{\"attributes\":{},\"id\":\"1004\",\"type\":\"DataRange1d\"},{\"attributes\":{},\"id\":\"1023\",\"type\":\"SaveTool\"}],\"root_ids\":[\"1003\"]},\"title\":\"Bokeh Application\",\"version\":\"2.3.3\"}};\n  var render_items = [{\"docid\":\"1cf5822d-8845-45e4-835c-5b08e47fdf3d\",\"root_ids\":[\"1003\"],\"roots\":{\"1003\":\"8fa8b101-5884-4008-bb2d-da72e2c8c36f\"}}];\n  root.Bokeh.embed.embed_items_notebook(docs_json, render_items);\n\n  }\n  if (root.Bokeh !== undefined) {\n    embed_document(root);\n  } else {\n    var attempts = 0;\n    var timer = setInterval(function(root) {\n      if (root.Bokeh !== undefined) {\n        clearInterval(timer);\n        embed_document(root);\n      } else {\n        attempts++;\n        if (attempts > 100) {\n          clearInterval(timer);\n          console.log(\"Bokeh: ERROR: Unable to run BokehJS code because BokehJS library is missing\");\n        }\n      }\n    }, 10, root)\n  }\n})(window);",
            "application/vnd.bokehjs_exec.v0+json": ""
          },
          "metadata": {
            "application/vnd.bokehjs_exec.v0+json": {
              "id": "1003"
            }
          },
          "output_type": "display_data"
        },
        {
          "data": {
            "text/html": [
              "<div style=\"display: table;\"><div style=\"display: table-row;\"><div style=\"display: table-cell;\"><b title=\"bokeh.plotting.figure.Figure\">Figure</b>(</div><div style=\"display: table-cell;\">id&nbsp;=&nbsp;'1003', <span id=\"1108\" style=\"cursor: pointer;\">&hellip;)</span></div></div><div class=\"1107\" style=\"display: none;\"><div style=\"display: table-cell;\"></div><div style=\"display: table-cell;\">above&nbsp;=&nbsp;[],</div></div><div class=\"1107\" style=\"display: none;\"><div style=\"display: table-cell;\"></div><div style=\"display: table-cell;\">align&nbsp;=&nbsp;'start',</div></div><div class=\"1107\" style=\"display: none;\"><div style=\"display: table-cell;\"></div><div style=\"display: table-cell;\">aspect_ratio&nbsp;=&nbsp;None,</div></div><div class=\"1107\" style=\"display: none;\"><div style=\"display: table-cell;\"></div><div style=\"display: table-cell;\">aspect_scale&nbsp;=&nbsp;1,</div></div><div class=\"1107\" style=\"display: none;\"><div style=\"display: table-cell;\"></div><div style=\"display: table-cell;\">background&nbsp;=&nbsp;None,</div></div><div class=\"1107\" style=\"display: none;\"><div style=\"display: table-cell;\"></div><div style=\"display: table-cell;\">background_fill_alpha&nbsp;=&nbsp;1.0,</div></div><div class=\"1107\" style=\"display: none;\"><div style=\"display: table-cell;\"></div><div style=\"display: table-cell;\">background_fill_color&nbsp;=&nbsp;'#ffffff',</div></div><div class=\"1107\" style=\"display: none;\"><div style=\"display: table-cell;\"></div><div style=\"display: table-cell;\">below&nbsp;=&nbsp;[LinearAxis(id='1012', ...)],</div></div><div class=\"1107\" style=\"display: none;\"><div style=\"display: table-cell;\"></div><div style=\"display: table-cell;\">border_fill_alpha&nbsp;=&nbsp;1.0,</div></div><div class=\"1107\" style=\"display: none;\"><div style=\"display: table-cell;\"></div><div style=\"display: table-cell;\">border_fill_color&nbsp;=&nbsp;'#ffffff',</div></div><div class=\"1107\" style=\"display: none;\"><div style=\"display: table-cell;\"></div><div style=\"display: table-cell;\">center&nbsp;=&nbsp;[Grid(id='1015', ...), Grid(id='1019', ...)],</div></div><div class=\"1107\" style=\"display: none;\"><div style=\"display: table-cell;\"></div><div style=\"display: table-cell;\">css_classes&nbsp;=&nbsp;[],</div></div><div class=\"1107\" style=\"display: none;\"><div style=\"display: table-cell;\"></div><div style=\"display: table-cell;\">disabled&nbsp;=&nbsp;False,</div></div><div class=\"1107\" style=\"display: none;\"><div style=\"display: table-cell;\"></div><div style=\"display: table-cell;\">extra_x_ranges&nbsp;=&nbsp;{},</div></div><div class=\"1107\" style=\"display: none;\"><div style=\"display: table-cell;\"></div><div style=\"display: table-cell;\">extra_y_ranges&nbsp;=&nbsp;{},</div></div><div class=\"1107\" style=\"display: none;\"><div style=\"display: table-cell;\"></div><div style=\"display: table-cell;\">frame_height&nbsp;=&nbsp;None,</div></div><div class=\"1107\" style=\"display: none;\"><div style=\"display: table-cell;\"></div><div style=\"display: table-cell;\">frame_width&nbsp;=&nbsp;None,</div></div><div class=\"1107\" style=\"display: none;\"><div style=\"display: table-cell;\"></div><div style=\"display: table-cell;\">height&nbsp;=&nbsp;400,</div></div><div class=\"1107\" style=\"display: none;\"><div style=\"display: table-cell;\"></div><div style=\"display: table-cell;\">height_policy&nbsp;=&nbsp;'auto',</div></div><div class=\"1107\" style=\"display: none;\"><div style=\"display: table-cell;\"></div><div style=\"display: table-cell;\">hidpi&nbsp;=&nbsp;True,</div></div><div class=\"1107\" style=\"display: none;\"><div style=\"display: table-cell;\"></div><div style=\"display: table-cell;\">inner_height&nbsp;=&nbsp;0,</div></div><div class=\"1107\" style=\"display: none;\"><div style=\"display: table-cell;\"></div><div style=\"display: table-cell;\">inner_width&nbsp;=&nbsp;0,</div></div><div class=\"1107\" style=\"display: none;\"><div style=\"display: table-cell;\"></div><div style=\"display: table-cell;\">js_event_callbacks&nbsp;=&nbsp;{},</div></div><div class=\"1107\" style=\"display: none;\"><div style=\"display: table-cell;\"></div><div style=\"display: table-cell;\">js_property_callbacks&nbsp;=&nbsp;{},</div></div><div class=\"1107\" style=\"display: none;\"><div style=\"display: table-cell;\"></div><div style=\"display: table-cell;\">left&nbsp;=&nbsp;[LinearAxis(id='1016', ...)],</div></div><div class=\"1107\" style=\"display: none;\"><div style=\"display: table-cell;\"></div><div style=\"display: table-cell;\">lod_factor&nbsp;=&nbsp;10,</div></div><div class=\"1107\" style=\"display: none;\"><div style=\"display: table-cell;\"></div><div style=\"display: table-cell;\">lod_interval&nbsp;=&nbsp;300,</div></div><div class=\"1107\" style=\"display: none;\"><div style=\"display: table-cell;\"></div><div style=\"display: table-cell;\">lod_threshold&nbsp;=&nbsp;2000,</div></div><div class=\"1107\" style=\"display: none;\"><div style=\"display: table-cell;\"></div><div style=\"display: table-cell;\">lod_timeout&nbsp;=&nbsp;500,</div></div><div class=\"1107\" style=\"display: none;\"><div style=\"display: table-cell;\"></div><div style=\"display: table-cell;\">margin&nbsp;=&nbsp;(0, 0, 0, 0),</div></div><div class=\"1107\" style=\"display: none;\"><div style=\"display: table-cell;\"></div><div style=\"display: table-cell;\">match_aspect&nbsp;=&nbsp;False,</div></div><div class=\"1107\" style=\"display: none;\"><div style=\"display: table-cell;\"></div><div style=\"display: table-cell;\">max_height&nbsp;=&nbsp;None,</div></div><div class=\"1107\" style=\"display: none;\"><div style=\"display: table-cell;\"></div><div style=\"display: table-cell;\">max_width&nbsp;=&nbsp;None,</div></div><div class=\"1107\" style=\"display: none;\"><div style=\"display: table-cell;\"></div><div style=\"display: table-cell;\">min_border&nbsp;=&nbsp;5,</div></div><div class=\"1107\" style=\"display: none;\"><div style=\"display: table-cell;\"></div><div style=\"display: table-cell;\">min_border_bottom&nbsp;=&nbsp;None,</div></div><div class=\"1107\" style=\"display: none;\"><div style=\"display: table-cell;\"></div><div style=\"display: table-cell;\">min_border_left&nbsp;=&nbsp;None,</div></div><div class=\"1107\" style=\"display: none;\"><div style=\"display: table-cell;\"></div><div style=\"display: table-cell;\">min_border_right&nbsp;=&nbsp;None,</div></div><div class=\"1107\" style=\"display: none;\"><div style=\"display: table-cell;\"></div><div style=\"display: table-cell;\">min_border_top&nbsp;=&nbsp;None,</div></div><div class=\"1107\" style=\"display: none;\"><div style=\"display: table-cell;\"></div><div style=\"display: table-cell;\">min_height&nbsp;=&nbsp;None,</div></div><div class=\"1107\" style=\"display: none;\"><div style=\"display: table-cell;\"></div><div style=\"display: table-cell;\">min_width&nbsp;=&nbsp;None,</div></div><div class=\"1107\" style=\"display: none;\"><div style=\"display: table-cell;\"></div><div style=\"display: table-cell;\">name&nbsp;=&nbsp;None,</div></div><div class=\"1107\" style=\"display: none;\"><div style=\"display: table-cell;\"></div><div style=\"display: table-cell;\">outer_height&nbsp;=&nbsp;0,</div></div><div class=\"1107\" style=\"display: none;\"><div style=\"display: table-cell;\"></div><div style=\"display: table-cell;\">outer_width&nbsp;=&nbsp;0,</div></div><div class=\"1107\" style=\"display: none;\"><div style=\"display: table-cell;\"></div><div style=\"display: table-cell;\">outline_line_alpha&nbsp;=&nbsp;1.0,</div></div><div class=\"1107\" style=\"display: none;\"><div style=\"display: table-cell;\"></div><div style=\"display: table-cell;\">outline_line_cap&nbsp;=&nbsp;'butt',</div></div><div class=\"1107\" style=\"display: none;\"><div style=\"display: table-cell;\"></div><div style=\"display: table-cell;\">outline_line_color&nbsp;=&nbsp;'#e5e5e5',</div></div><div class=\"1107\" style=\"display: none;\"><div style=\"display: table-cell;\"></div><div style=\"display: table-cell;\">outline_line_dash&nbsp;=&nbsp;[],</div></div><div class=\"1107\" style=\"display: none;\"><div style=\"display: table-cell;\"></div><div style=\"display: table-cell;\">outline_line_dash_offset&nbsp;=&nbsp;0,</div></div><div class=\"1107\" style=\"display: none;\"><div style=\"display: table-cell;\"></div><div style=\"display: table-cell;\">outline_line_join&nbsp;=&nbsp;'bevel',</div></div><div class=\"1107\" style=\"display: none;\"><div style=\"display: table-cell;\"></div><div style=\"display: table-cell;\">outline_line_width&nbsp;=&nbsp;1,</div></div><div class=\"1107\" style=\"display: none;\"><div style=\"display: table-cell;\"></div><div style=\"display: table-cell;\">output_backend&nbsp;=&nbsp;'canvas',</div></div><div class=\"1107\" style=\"display: none;\"><div style=\"display: table-cell;\"></div><div style=\"display: table-cell;\">renderers&nbsp;=&nbsp;[GlyphRenderer(id='1037', ...)],</div></div><div class=\"1107\" style=\"display: none;\"><div style=\"display: table-cell;\"></div><div style=\"display: table-cell;\">reset_policy&nbsp;=&nbsp;'standard',</div></div><div class=\"1107\" style=\"display: none;\"><div style=\"display: table-cell;\"></div><div style=\"display: table-cell;\">right&nbsp;=&nbsp;[],</div></div><div class=\"1107\" style=\"display: none;\"><div style=\"display: table-cell;\"></div><div style=\"display: table-cell;\">sizing_mode&nbsp;=&nbsp;None,</div></div><div class=\"1107\" style=\"display: none;\"><div style=\"display: table-cell;\"></div><div style=\"display: table-cell;\">subscribed_events&nbsp;=&nbsp;[],</div></div><div class=\"1107\" style=\"display: none;\"><div style=\"display: table-cell;\"></div><div style=\"display: table-cell;\">syncable&nbsp;=&nbsp;True,</div></div><div class=\"1107\" style=\"display: none;\"><div style=\"display: table-cell;\"></div><div style=\"display: table-cell;\">tags&nbsp;=&nbsp;[],</div></div><div class=\"1107\" style=\"display: none;\"><div style=\"display: table-cell;\"></div><div style=\"display: table-cell;\">title&nbsp;=&nbsp;Title(id='1042', ...),</div></div><div class=\"1107\" style=\"display: none;\"><div style=\"display: table-cell;\"></div><div style=\"display: table-cell;\">title_location&nbsp;=&nbsp;'above',</div></div><div class=\"1107\" style=\"display: none;\"><div style=\"display: table-cell;\"></div><div style=\"display: table-cell;\">toolbar&nbsp;=&nbsp;Toolbar(id='1027', ...),</div></div><div class=\"1107\" style=\"display: none;\"><div style=\"display: table-cell;\"></div><div style=\"display: table-cell;\">toolbar_location&nbsp;=&nbsp;'right',</div></div><div class=\"1107\" style=\"display: none;\"><div style=\"display: table-cell;\"></div><div style=\"display: table-cell;\">toolbar_sticky&nbsp;=&nbsp;True,</div></div><div class=\"1107\" style=\"display: none;\"><div style=\"display: table-cell;\"></div><div style=\"display: table-cell;\">visible&nbsp;=&nbsp;True,</div></div><div class=\"1107\" style=\"display: none;\"><div style=\"display: table-cell;\"></div><div style=\"display: table-cell;\">width&nbsp;=&nbsp;600,</div></div><div class=\"1107\" style=\"display: none;\"><div style=\"display: table-cell;\"></div><div style=\"display: table-cell;\">width_policy&nbsp;=&nbsp;'auto',</div></div><div class=\"1107\" style=\"display: none;\"><div style=\"display: table-cell;\"></div><div style=\"display: table-cell;\">x_range&nbsp;=&nbsp;DataRange1d(id='1004', ...),</div></div><div class=\"1107\" style=\"display: none;\"><div style=\"display: table-cell;\"></div><div style=\"display: table-cell;\">x_scale&nbsp;=&nbsp;LinearScale(id='1008', ...),</div></div><div class=\"1107\" style=\"display: none;\"><div style=\"display: table-cell;\"></div><div style=\"display: table-cell;\">y_range&nbsp;=&nbsp;DataRange1d(id='1006', ...),</div></div><div class=\"1107\" style=\"display: none;\"><div style=\"display: table-cell;\"></div><div style=\"display: table-cell;\">y_scale&nbsp;=&nbsp;LinearScale(id='1010', ...))</div></div></div>\n",
              "<script>\n",
              "(function() {\n",
              "  var expanded = false;\n",
              "  var ellipsis = document.getElementById(\"1108\");\n",
              "  ellipsis.addEventListener(\"click\", function() {\n",
              "    var rows = document.getElementsByClassName(\"1107\");\n",
              "    for (var i = 0; i < rows.length; i++) {\n",
              "      var el = rows[i];\n",
              "      el.style.display = expanded ? \"none\" : \"table-row\";\n",
              "    }\n",
              "    ellipsis.innerHTML = expanded ? \"&hellip;)\" : \"&lsaquo;&lsaquo;&lsaquo;\";\n",
              "    expanded = !expanded;\n",
              "  });\n",
              "})();\n",
              "</script>\n"
            ],
            "text/plain": [
              "Figure(id='1003', ...)"
            ]
          },
          "execution_count": 36,
          "metadata": {},
          "output_type": "execute_result"
        }
      ],
      "source": [
        "draw_vectors(\n",
        "    examples[\"transformed_features\"][:, 0], \n",
        "    examples[\"transformed_features\"][:, 1], \n",
        "    color=[[\"red\", \"blue\"][t] for t in examples[\"targets\"]]\n",
        "    )"
      ]
    },
    {
      "cell_type": "markdown",
      "metadata": {
        "id": "0fNF6LRQ9MPI"
      },
      "source": [
        "Скорее всего, на визуализации нет четкого разделения твитов между классами. Это значит, что по полученным нами векторам твитов не так-то просто определить, к какому классу твит пренадлежит. Значит, обычный линейный классификатор не очень хорошо справится с задачей. Надо будет делать глубокую (хотя бы два слоя) нейронную сеть.\n",
        "\n",
        "Подготовим загрузчики данных.\n",
        "Усреднее векторов будем делать в \"батчевалке\"(`collate_fn`). Она используется для того, чтобы собирать из данных `torch.Tensor` батчи, которые можно отправлять в модель.\n"
      ]
    },
    {
      "cell_type": "code",
      "execution_count": 37,
      "metadata": {
        "id": "y1XapsADtITv"
      },
      "outputs": [],
      "source": [
        "from torch.utils.data import DataLoader\n",
        "\n",
        "\n",
        "batch_size = 1024\n",
        "num_workers = 2\n",
        "\n",
        "def average_emb(batch):\n",
        "    features = [np.mean(b[\"feature\"], axis=0) for b in batch]\n",
        "    targets = [b[\"target\"] for b in batch]\n",
        "\n",
        "    return {\"features\": torch.FloatTensor(np.array(features)), \"targets\": torch.LongTensor(np.array(targets))}\n",
        "\n",
        "\n",
        "train_size = math.ceil(len(dev) * 0.8)\n",
        "\n",
        "train, valid = random_split(dev, [train_size, len(dev) - train_size])\n",
        "\n",
        "train_loader = DataLoader(train, batch_size=batch_size, num_workers=num_workers, shuffle=True, drop_last=True, collate_fn=average_emb)\n",
        "valid_loader = DataLoader(valid, batch_size=batch_size, num_workers=num_workers, shuffle=False, drop_last=False, collate_fn=average_emb)"
      ]
    },
    {
      "cell_type": "markdown",
      "metadata": {
        "id": "p-zs0WEK-Vkt"
      },
      "source": [
        "Определим функции для тренировки и теста модели:"
      ]
    },
    {
      "cell_type": "code",
      "execution_count": 37,
      "metadata": {
        "id": "sYdv38AwVWTc"
      },
      "outputs": [],
      "source": [
        "\n"
      ]
    },
    {
      "cell_type": "code",
      "execution_count": 38,
      "metadata": {
        "id": "U--T2Gjw1r27"
      },
      "outputs": [],
      "source": [
        "\n",
        "def training(model, optimizer, criterion, train_loader, epoch, device=\"cpu\"):\n",
        "    pbar = tqdm(train_loader, desc=f\"Epoch {e + 1}. Train Loss: {0}\")\n",
        "    model.train()\n",
        "    for batch in pbar:\n",
        "        features = batch[\"features\"].to(device)\n",
        "        targets = batch[\"targets\"].to(device)\n",
        "\n",
        "        # Получим предсказания модели и посчитаем лосс\n",
        "        loss = criterion(model(features), targets)\n",
        "\n",
        "        #loss_sum += loss.item()\n",
        "\n",
        "        # Обновим параметры модели\n",
        "        loss.backward()\n",
        "        optimizer.step()\n",
        "        optimizer.zero_grad()\n",
        "\n",
        "        pbar.set_description(f\"Epoch {e + 1}. Train Loss: {loss:.4}\")\n",
        "\n",
        "   \n",
        "def testing(model, criterion, test_loader, device=\"cpu\"):\n",
        "    pbar = tqdm(test_loader, desc=f\"Test Loss: {0}, Test Acc: {0}\")\n",
        "    mean_loss = 0\n",
        "    mean_acc = 0\n",
        "    model.eval()\n",
        "    acc = 0\n",
        "    epoch_all = 0\n",
        "    with torch.no_grad():\n",
        "        for batch in pbar:\n",
        "            features = batch[\"features\"].to(device)\n",
        "            targets = batch[\"targets\"].to(device)\n",
        "\n",
        "            # Получим предсказания модели и посчитаем лосс\n",
        "            probs = model(features)\n",
        "            loss = criterion(probs, targets) \n",
        "\n",
        "            # Посчитаем точность модели\n",
        "            _, preds = torch.max(probs, axis=-1)\n",
        "            acc = (preds == targets).sum().item()/len(features)\n",
        "\n",
        "            mean_loss += loss.item()\n",
        "            mean_acc += acc#.item()\n",
        "\n",
        "            pbar.set_description(f\"Test Loss: {loss:.4}, Test Acc: {acc:.4}\") \n",
        "\n",
        "    pbar.set_description(f\"Test Loss: {(mean_loss / len(test_loader)):.4}, Test Acc: {(mean_acc / len(test_loader)):.4}\")\n",
        "\n",
        "    return {\"Test Loss\": mean_loss / len(test_loader), \"Test Acc\": mean_acc / len(test_loader)}"
      ]
    },
    {
      "cell_type": "markdown",
      "metadata": {
        "id": "oVg_XBBb-YBH"
      },
      "source": [
        "Создадим модель, оптимизатор и целевую функцию. Вы можете сами выбрать количество слоев в нейронной сети, ваш любимый оптимизатор и целевую функцию.\n"
      ]
    },
    {
      "cell_type": "code",
      "execution_count": 39,
      "metadata": {
        "colab": {
          "base_uri": "https://localhost:8080/",
          "height": 0
        },
        "id": "Ps-vCFrSQfjt",
        "outputId": "51baa8c7-ae79-4e88-97b5-adb76d108f9d"
      },
      "outputs": [
        {
          "data": {
            "text/plain": [
              "(512000, 128000)"
            ]
          },
          "execution_count": 39,
          "metadata": {},
          "output_type": "execute_result"
        }
      ],
      "source": [
        "len(train), len(valid) "
      ]
    },
    {
      "cell_type": "code",
      "execution_count": 40,
      "metadata": {
        "id": "iD1d3r_lPPwl"
      },
      "outputs": [],
      "source": [
        "features = 300\n",
        "classes = 2"
      ]
    },
    {
      "cell_type": "code",
      "execution_count": 41,
      "metadata": {
        "id": "h6Ey4A_gOta_"
      },
      "outputs": [],
      "source": [
        "model_my = nn.Sequential(\n",
        "  nn.Linear(features, 256),\n",
        "  nn.ReLU(),\n",
        "  nn.Linear(256, 128),\n",
        "  nn.ReLU(),\n",
        "  nn.Linear(128, 64),\n",
        "  nn.ReLU(),  \n",
        "  nn.Linear(64, classes),\n",
        "  nn.Tanh())\n",
        "  #nn.Sigmoid())"
      ]
    },
    {
      "cell_type": "code",
      "execution_count": 42,
      "metadata": {
        "id": "EBoZ4F3Fx1Hm"
      },
      "outputs": [],
      "source": [
        "vector_size = dev.word2vec.vector_size\n",
        "num_classes = 2\n",
        "lr = 3e-2\n",
        "num_epochs = 1\n",
        "\n",
        "device = \"cpu\"\n",
        "model =  model_my\n",
        "#model = model.to(device)\n",
        "#model = model.cuda()\n",
        "criterion = nn.CrossEntropyLoss()\n",
        "optimizer = torch.optim.Adam(model.parameters())"
      ]
    },
    {
      "cell_type": "code",
      "execution_count": 43,
      "metadata": {
        "colab": {
          "base_uri": "https://localhost:8080/",
          "height": 0
        },
        "id": "c1a896UDbPa5",
        "outputId": "d0e1bf12-81bb-40e6-cf92-c97ec1bb912a"
      },
      "outputs": [
        {
          "name": "stdout",
          "output_type": "stream",
          "text": [
            "----------------------------------------------------------------\n",
            "        Layer (type)               Output Shape         Param #\n",
            "================================================================\n",
            "            Linear-1                [1024, 256]          77,056\n",
            "              ReLU-2                [1024, 256]               0\n",
            "            Linear-3                [1024, 128]          32,896\n",
            "              ReLU-4                [1024, 128]               0\n",
            "            Linear-5                 [1024, 64]           8,256\n",
            "              ReLU-6                 [1024, 64]               0\n",
            "            Linear-7                  [1024, 2]             130\n",
            "              Tanh-8                  [1024, 2]               0\n",
            "================================================================\n",
            "Total params: 118,338\n",
            "Trainable params: 118,338\n",
            "Non-trainable params: 0\n",
            "----------------------------------------------------------------\n",
            "Input size (MB): 1.17\n",
            "Forward/backward pass size (MB): 7.03\n",
            "Params size (MB): 0.45\n",
            "Estimated Total Size (MB): 8.65\n",
            "----------------------------------------------------------------\n"
          ]
        }
      ],
      "source": [
        "summary(model, (features,), batch_size=1024)"
      ]
    },
    {
      "cell_type": "markdown",
      "metadata": {
        "id": "-AitU8AR-zBj"
      },
      "source": [
        "Наконец, обучим модель и протестируем её.\n",
        "\n",
        "После каждой эпохи будем проверять качество модели на валидационной части датасета. Если метрика стала лучше, будем сохранять модель. **Подумайте, какая метрика (точность или лосс) будет лучше работать в этой задаче?** "
      ]
    },
    {
      "cell_type": "markdown",
      "metadata": {
        "id": "gxiO9lqaE2uK"
      },
      "source": [
        "**ОТВЕТ:** \n",
        "Думаю, что лосс важнее, так как во-первых, нам важно, чтоб модель выдавала максимально близкий к рельному ответ, а во-вторых, вы бы не стали просто так писать его как best metrics.\n",
        "Была попытка выполнить на 20 эпохах, но точности прибавилось в тесячных, поэтому решила не гонять просто так машинку и поставить 1 эпоху. "
      ]
    },
    {
      "cell_type": "code",
      "execution_count": 44,
      "metadata": {
        "colab": {
          "base_uri": "https://localhost:8080/",
          "height": 99,
          "referenced_widgets": [
            "24230f98fffc41edac1e65e13773c13d",
            "13bb69329bdc4556bfab2212a76e77d1",
            "9e63baed53d04e379bc27169e0e1440b",
            "56a24258e3ac49c6b7c32e38e8e59c2f",
            "cd29a07b48a4451c8c968698fd25a9a5",
            "08abfee13d3a4db08af82ca259c13ada",
            "e46eff24472d417c960ed43367ab4a4f",
            "d4b6b9e087ac423aa85ec77994168eb3",
            "a817f920cf0b42529ee408f43d5593c1",
            "cf1b110b5add49f283ece7324a0bf5a5",
            "54832261870c447f9bfec47f895010c9",
            "50eff51510864471a626afb5453be684",
            "a9fa748ddbb64956a17f65a5e0cbd4c8",
            "a9eba41cf970448f9e2e8b8b261cffc8",
            "96e5a48b8d0b4d399189413cc9532180",
            "26c5ef1da62c4a00ab1ecf0f73f484e8",
            "8a7b24f63fc2452a8de5e2e4d0851e2a",
            "69006d3a10204ca390285ab6cd59163a",
            "af595d94143445fcad5cefc098dea2da",
            "bd45a0e107cd4094877fd59b2a94e10b",
            "cd729f63c72b4ec3a020ee0ef335913d",
            "baa105270f034043b69463641425fc89"
          ]
        },
        "id": "gKhk71Pmx1F1",
        "outputId": "b843757d-a52f-451d-c6ce-d8505a8f1dd5"
      },
      "outputs": [
        {
          "data": {
            "application/vnd.jupyter.widget-view+json": {
              "model_id": "24230f98fffc41edac1e65e13773c13d",
              "version_major": 2,
              "version_minor": 0
            },
            "text/plain": [
              "Epoch 1. Train Loss: 0:   0%|          | 0/500 [00:00<?, ?it/s]"
            ]
          },
          "metadata": {},
          "output_type": "display_data"
        },
        {
          "data": {
            "application/vnd.jupyter.widget-view+json": {
              "model_id": "50eff51510864471a626afb5453be684",
              "version_major": 2,
              "version_minor": 0
            },
            "text/plain": [
              "Test Loss: 0, Test Acc: 0:   0%|          | 0/125 [00:00<?, ?it/s]"
            ]
          },
          "metadata": {},
          "output_type": "display_data"
        },
        {
          "name": "stdout",
          "output_type": "stream",
          "text": [
            "{'Test Loss': 0.5171403529644012, 'Test Acc': 0.7465625}\n"
          ]
        }
      ],
      "source": [
        "best_metric = np.inf\n",
        "for e in range(num_epochs):\n",
        "    training(model, optimizer, criterion, train_loader, e, device)\n",
        "    log = testing(model, criterion, valid_loader, device)\n",
        "    print(log)\n",
        "    if log[\"Test Loss\"] < best_metric:\n",
        "        torch.save(model.state_dict(), \"model.pt\")\n",
        "        best_metric = log[\"Test Loss\"]"
      ]
    },
    {
      "cell_type": "code",
      "execution_count": 45,
      "metadata": {
        "colab": {
          "base_uri": "https://localhost:8080/",
          "height": 67,
          "referenced_widgets": [
            "a6cb89e3dc3247ada52c62f2fbf8a1af",
            "556ae69872ba4dff88da43672dfce104",
            "b9bafa7b91074d4ca65b71898971d66b",
            "7cbced73644147c3a014935b340084db",
            "7fae9fc4514d464b9305f2504286d9b2",
            "b560783728b64d949ec206f1138ad2c7",
            "5f421cf008f44e7fa770526e0f4c27bb",
            "52555c6bbe7a46598ea2278931584150",
            "d71630e221c24c4e945fdbb87e3ef61e",
            "79212e69c8f342f1aa52068b4e5d3316",
            "4b8a52ab0bbb4929932e25f2f54f3aec"
          ]
        },
        "id": "di4dGwD4x1Dt",
        "outputId": "7483653d-498c-4c92-ec6e-da198bcf7738"
      },
      "outputs": [
        {
          "data": {
            "application/vnd.jupyter.widget-view+json": {
              "model_id": "a6cb89e3dc3247ada52c62f2fbf8a1af",
              "version_major": 2,
              "version_minor": 0
            },
            "text/plain": [
              "Test Loss: 0, Test Acc: 0:   0%|          | 0/157 [00:00<?, ?it/s]"
            ]
          },
          "metadata": {},
          "output_type": "display_data"
        },
        {
          "name": "stdout",
          "output_type": "stream",
          "text": [
            "{'Test Loss': 0.5185098146936696, 'Test Acc': 0.7447750796178344}\n"
          ]
        }
      ],
      "source": [
        "test_loader = DataLoader(\n",
        "    TwitterDataset(test_data, \"text\", \"emotion\", word2vec), \n",
        "    batch_size=batch_size, \n",
        "    num_workers=num_workers, \n",
        "    shuffle=False,\n",
        "    drop_last=False, \n",
        "    collate_fn=average_emb)\n",
        "\n",
        "model.load_state_dict(torch.load(\"model.pt\", map_location=device))\n",
        "\n",
        "print(testing(model, criterion, test_loader, device=device))"
      ]
    },
    {
      "cell_type": "markdown",
      "metadata": {
        "id": "IshCMB_2VtzH"
      },
      "source": [
        "**ВЫВОД:** \n",
        "Видим, что Accuracy = 0.7445. \n",
        "\n",
        "Посмотрим, улучшатся ли метрики, если смотреть контекст неизвестных слов или использовать TF-IDF.\n"
      ]
    },
    {
      "cell_type": "markdown",
      "metadata": {
        "id": "ZRvzpldHSAu0"
      },
      "source": [
        "## Embeddings for unknown words (8 баллов)\n",
        "\n",
        "Пока что использовалась не вся информация из текста. Часть информации фильтровалось – если слова не было в словаре эмбеддингов, то мы просто превращали слово в нулевой вектор. Хочется использовать информацию по-максимуму. Поэтому рассмотрим другие способы обработки слов, которых нет в словаре. А именно:\n",
        "\n",
        "- Для каждого незнакомого слова будем запоминать его контекст(слова слева и справа от этого слова). Эмбеддингом нашего незнакомого слова будет сумма эмбеддингов всех слов из его контекста. (4 балла)\n",
        "- Для каждого слова текста получим его эмбеддинг из Tfidf с помощью ```TfidfVectorizer``` из [sklearn](https://scikit-learn.org/stable/modules/generated/sklearn.feature_extraction.text.TfidfVectorizer.html#sklearn.feature_extraction.text.TfidfVectorizer). Итоговым эмбеддингом для каждого слова будет сумма двух эмбеддингов: предобученного и Tfidf-ного. Для слов, которых нет в словаре предобученных эмбеддингов, результирующий эмбеддинг будет просто полученный из Tfidf. (4 балла)\n",
        "\n",
        "Реализуйте оба варианта **ниже**. Напишите, какой способ сработал лучше и ваши мысли, почему так получилось."
      ]
    },
    {
      "cell_type": "markdown",
      "metadata": {
        "id": "81nwf2fJMy6v"
      },
      "source": []
    },
    {
      "cell_type": "markdown",
      "metadata": {
        "id": "uxVgSf1hjX-T"
      },
      "source": [
        "ыкинуть из памяти (например загруженный word2vec):\n",
        "del word2vec\n",
        "после этого можно для надёжности почистить:\n",
        "gc.collect()\n",
        "(надо будет в начале блокнота сделать импорт import gc )\n",
        "перед удалением можно сохранить на диск хотя бы командой torch.save(переменная, имя файла)\n",
        "а прочитать потом:\n",
        "переменная = torch.load(имя файла)\n",
        "(только с word2vec такая штука не прокатит, его так сохранить не получится... Но его и не надо! - просто загрузить ещё раз из скачанного архива или через апи))"
      ]
    },
    {
      "cell_type": "code",
      "execution_count": 45,
      "metadata": {
        "id": "OiS67OnNSHyr"
      },
      "outputs": [],
      "source": []
    },
    {
      "cell_type": "markdown",
      "metadata": {
        "id": "HGkT7NrQC0nv"
      },
      "source": [
        "#Эмбеддинги по контексту"
      ]
    },
    {
      "cell_type": "markdown",
      "metadata": {
        "id": "qYYM2jXkFuF9"
      },
      "source": [
        "Пока что использовалась не вся информация из текста. Часть информации фильтровалось – если слова не было в словаре эмбеддингов, то мы просто превращали слово в нулевой вектор. Хочется использовать информацию по-максимуму. Поэтому рассмотрим другие способы обработки слов, которых нет в словаре. А именно:\n",
        "\n",
        "Для каждого незнакомого слова будем запоминать его контекст(слова слева и справа от этого слова). Эмбеддингом нашего незнакомого слова будет сумма эмбеддингов всех слов из его контекста."
      ]
    },
    {
      "cell_type": "code",
      "execution_count": 46,
      "metadata": {
        "id": "vfmh_ehc_-I9"
      },
      "outputs": [],
      "source": [
        "class TwitterDataset_neighbor(Dataset):\n",
        "    def __init__(self, data: pd.DataFrame, feature_column: str, target_column: str, word2vec: gensim.models.Word2Vec):\n",
        "        self.tokenizer = nltk.WordPunctTokenizer()\n",
        "        \n",
        "        self.data = data\n",
        "\n",
        "        self.feature_column = feature_column\n",
        "        self.target_column = target_column\n",
        "\n",
        "        self.word2vec = word2vec\n",
        "\n",
        "        self.label2num = lambda label: 0 if label == 0 else 1\n",
        "        self.mean = np.mean(word2vec.vectors, axis=0)\n",
        "        self.std = np.std(word2vec.vectors, axis=0)\n",
        "\n",
        "    def __getitem__(self, item):\n",
        "        text = self.data[self.feature_column][item]\n",
        "        label = self.label2num(self.data[self.target_column][item])\n",
        "\n",
        "        tokens = self.get_tokens_(text)\n",
        "        embeddings = self.neighbor_embedding_(tokens)\n",
        "\n",
        "        return {\"feature\": embeddings, \"target\": label}\n",
        "\n",
        "    def get_tokens_(self, text):\n",
        "        tokens = self.tokenizer.tokenize(text.lower())\n",
        "        tokens = [w for w in tokens if all(c not in string.punctuation for c in w) and len(w) > 3]\n",
        "        return tokens\n",
        "\n",
        "    def neighbor_embedding_(self, tokens):\n",
        "        #f = 0\n",
        "        emb_token = []\n",
        "        for i in range(0, len(tokens)):\n",
        "          \n",
        "          w_left = np.zeros(self.word2vec.vector_size)\n",
        "          w_right = np.zeros(self.word2vec.vector_size)\n",
        "          \n",
        "          if tokens[i] not in word2vec:\n",
        "            #print(tokens[i])\n",
        "\n",
        "            if i==0:\n",
        "              for loss in range(len(tokens)-1):\n",
        "                if tokens[i+1+loss] in word2vec:\n",
        "                  w_right = (self.word2vec.get_vector(tokens[i+1+loss]) - self.mean) / self.std\n",
        "                  break;\n",
        "            \n",
        "            if i == len(tokens):\n",
        "              for loss in range(i-1):\n",
        "                if tokens[i-1-loss] in word2vec:\n",
        "                  w_left = (self.word2vec.get_vector(tokens[i-1-loss]) - self.mean) / self.std\n",
        "                  break;\n",
        "\n",
        "            else:       \n",
        "            \n",
        "              for loss in range(i-1):\n",
        "                if tokens[i-1-loss] in word2vec:\n",
        "                  w_left = (self.word2vec.get_vector(tokens[i-1-loss]) - self.mean) / self.std\n",
        "                  break;\n",
        "                  \n",
        "              for loss in range(len(tokens)-i-1):\n",
        "                if tokens[i+1+loss] in word2vec:\n",
        "                  w_right = (self.word2vec.get_vector(tokens[i+1+loss]) - self.mean) / self.std\n",
        "                  break;\n",
        "\n",
        "            emb = (w_left + w_right)  \n",
        "               \n",
        "            emb_token.append(emb)\n",
        "            \n",
        "\n",
        "          else:\n",
        "            emb = ((self.word2vec.get_vector(tokens[i]) - self.mean) / self.std)\n",
        "            \n",
        "            emb_token.append(emb)\n",
        "\n",
        "        if len(emb_token) == 0:\n",
        "            emb_token = np.zeros((1, self.word2vec.vector_size))    \n",
        "        \n",
        "        \n",
        "\n",
        "        else:\n",
        "          emb_token = np.array(emb_token)\n",
        "          if len(emb_token.shape) == 1:\n",
        "            emb_token = emb_token.reshape(-1, 1)\n",
        "\n",
        "        return emb_token\n",
        "\n",
        "    def __len__(self):\n",
        "        return self.data.shape[0]"
      ]
    },
    {
      "cell_type": "code",
      "execution_count": 47,
      "metadata": {
        "id": "xWhLSK9o_-Lc"
      },
      "outputs": [],
      "source": [
        "dev_neighbor = TwitterDataset_neighbor(dev_data, \"text\", \"emotion\", word2vec)"
      ]
    },
    {
      "cell_type": "code",
      "execution_count": 48,
      "metadata": {
        "id": "e52x7Tw__-P7"
      },
      "outputs": [],
      "source": [
        "batch_size = 1024\n",
        "num_workers = 2\n",
        "\n",
        "def average_emb(batch):\n",
        "    features = [np.mean(b[\"feature\"], axis=0) for b in batch]\n",
        "    targets = [b[\"target\"] for b in batch]\n",
        "\n",
        "    return {\"features\": torch.FloatTensor(np.array(features)), \"targets\": torch.LongTensor(np.array(targets))}\n",
        "\n",
        "\n",
        "train_size = math.ceil(len(dev_neighbor) * 0.8)\n",
        "\n",
        "train, valid = random_split(dev_neighbor, [train_size, len(dev_neighbor) - train_size])\n",
        "\n",
        "train_loader = DataLoader(train, batch_size=batch_size, num_workers=num_workers, shuffle=True, drop_last=True, collate_fn=average_emb)\n",
        "valid_loader = DataLoader(valid, batch_size=batch_size, num_workers=num_workers, shuffle=False, drop_last=False, collate_fn=average_emb)"
      ]
    },
    {
      "cell_type": "code",
      "execution_count": 49,
      "metadata": {
        "id": "fQVKzMF_e7pc"
      },
      "outputs": [],
      "source": [
        "features = 300\n",
        "classes = 2"
      ]
    },
    {
      "cell_type": "code",
      "execution_count": 50,
      "metadata": {
        "id": "merk617ne7pc"
      },
      "outputs": [],
      "source": [
        "model_my = nn.Sequential(\n",
        "  nn.Linear(features, 256),\n",
        "  nn.ReLU(),\n",
        "  nn.Linear(256, 128),\n",
        "  nn.ReLU(),\n",
        "  nn.Linear(128, 64),\n",
        "  nn.ReLU(),  \n",
        "  nn.Linear(64, classes),\n",
        "  nn.Tanh())\n",
        "  "
      ]
    },
    {
      "cell_type": "code",
      "execution_count": 51,
      "metadata": {
        "id": "1ejN1O6Re7pd"
      },
      "outputs": [],
      "source": [
        "vector_size = dev.word2vec.vector_size\n",
        "num_classes = 2\n",
        "lr = 3e-2\n",
        "num_epochs = 1\n",
        "\n",
        "device = \"cpu\"\n",
        "model =  model_my\n",
        "#model = model.to(device)\n",
        "#model = model.cuda()\n",
        "criterion = nn.CrossEntropyLoss()\n",
        "optimizer = torch.optim.Adam(model.parameters())"
      ]
    },
    {
      "cell_type": "code",
      "execution_count": 52,
      "metadata": {
        "colab": {
          "base_uri": "https://localhost:8080/",
          "height": 99,
          "referenced_widgets": [
            "27ebae7e335f44bebdc2bc388b594d8c",
            "61aac8cb392f4f86a972b191e4a3c36c",
            "ee60fdfc0fa34be49b18ddbf223a5eb6",
            "68a878754ff94c02883386a34798d593",
            "8935bda33b3c4aebbf70c2799bc3912c",
            "a807679dacc549538789e14d61044b19",
            "24d1fd5b13db457abb07267be4e9d665",
            "dd974c9d91aa4265a02bd084484a2c37",
            "a7022773413345b79339581d709b061b",
            "2683e98b6b164c68b39792e6321f9661",
            "54d720506e0841f281f694a89fcdbc3a",
            "da00704562244583bc389ac9852bc10f",
            "3467bf2be8034ed18508df858879d4bd",
            "789e4912d51c446293a1fa9b54f4d8f5",
            "629f73e345034185b4b320ebc5816fd8",
            "b2d3fa0a115949b6bdc018380bbaa7fd",
            "4a8651effc0e415bb6fa2b028ad3e632",
            "115b9b4d2b284a4399a163aeedc83266",
            "700cbcf34c134ed88552ff6a5d025c34",
            "a3cb8859862c45f8aeab8588de0dbb06",
            "376747db9370495280bf1350a139e14f",
            "3681992d3a544252848c145073511b94"
          ]
        },
        "id": "OzeMlELt_-SW",
        "outputId": "780dd295-c12b-477f-8517-f198f9a4d190"
      },
      "outputs": [
        {
          "data": {
            "application/vnd.jupyter.widget-view+json": {
              "model_id": "27ebae7e335f44bebdc2bc388b594d8c",
              "version_major": 2,
              "version_minor": 0
            },
            "text/plain": [
              "Epoch 1. Train Loss: 0:   0%|          | 0/500 [00:00<?, ?it/s]"
            ]
          },
          "metadata": {},
          "output_type": "display_data"
        },
        {
          "data": {
            "application/vnd.jupyter.widget-view+json": {
              "model_id": "da00704562244583bc389ac9852bc10f",
              "version_major": 2,
              "version_minor": 0
            },
            "text/plain": [
              "Test Loss: 0, Test Acc: 0:   0%|          | 0/125 [00:00<?, ?it/s]"
            ]
          },
          "metadata": {},
          "output_type": "display_data"
        },
        {
          "name": "stdout",
          "output_type": "stream",
          "text": [
            "{'Test Loss': 0.5250398547649383, 'Test Acc': 0.739671875}\n"
          ]
        }
      ],
      "source": [
        "best_metric = np.inf\n",
        "for e in range(num_epochs):\n",
        "    training(model, optimizer, criterion, train_loader, e, device)\n",
        "    log = testing(model, criterion, valid_loader, device)\n",
        "    print(log)\n",
        "    if log[\"Test Loss\"] < best_metric:\n",
        "        torch.save(model.state_dict(), \"model.pt\")\n",
        "        best_metric = log[\"Test Loss\"]"
      ]
    },
    {
      "cell_type": "code",
      "execution_count": 53,
      "metadata": {
        "colab": {
          "base_uri": "https://localhost:8080/",
          "height": 67,
          "referenced_widgets": [
            "63e293e444b0447a921335d1426b54a9",
            "d1f3626ec81046698fbd6f7ced40e6e9",
            "d9621ad73c40453e8a0530020af7143c",
            "ec67bd79b39449ab9a7ad4029ef40a3a",
            "a7ab4565606748c39d15fdaa1de1a946",
            "a4ae7c3e36a848849a2db4332cd030bb",
            "755be41f6c7d44eca3627c5015cbc796",
            "8c6a5fc21c694269a24ab384702f35ff",
            "d1081522c36c48538990df54aa456e23",
            "cec2c6c75c624d0ab2970624e6d5c707",
            "1747eb0cfa7c4bbdb399c560bf4419fa"
          ]
        },
        "id": "rlxWafqg_-UF",
        "outputId": "f904802d-a4bd-4052-96c6-f103947e51fa"
      },
      "outputs": [
        {
          "data": {
            "application/vnd.jupyter.widget-view+json": {
              "model_id": "63e293e444b0447a921335d1426b54a9",
              "version_major": 2,
              "version_minor": 0
            },
            "text/plain": [
              "Test Loss: 0, Test Acc: 0:   0%|          | 0/157 [00:00<?, ?it/s]"
            ]
          },
          "metadata": {},
          "output_type": "display_data"
        },
        {
          "name": "stdout",
          "output_type": "stream",
          "text": [
            "{'Test Loss': 0.5273037742657266, 'Test Acc': 0.7373357882165605}\n"
          ]
        }
      ],
      "source": [
        "test_loader = DataLoader(\n",
        "    TwitterDataset_neighbor(test_data, \"text\", \"emotion\", word2vec), \n",
        "    batch_size=batch_size, \n",
        "    num_workers=num_workers, \n",
        "    shuffle=False,\n",
        "    drop_last=False, \n",
        "    collate_fn=average_emb)\n",
        "\n",
        "model.load_state_dict(torch.load(\"model.pt\", map_location=device))\n",
        "\n",
        "print(testing(model, criterion, test_loader, device=device))"
      ]
    },
    {
      "cell_type": "code",
      "execution_count": 53,
      "metadata": {
        "id": "T0rqFv3__-WD"
      },
      "outputs": [],
      "source": []
    },
    {
      "cell_type": "markdown",
      "metadata": {
        "id": "eLot-hmAFwJJ"
      },
      "source": [
        "** ВЫВОД:** Видим, что Accuracy стало даже чуть ниже = 0.7379. \n",
        "\n",
        "Посмотрим, улучшатся ли метрики, если использовать TF-IDF."
      ]
    },
    {
      "cell_type": "code",
      "execution_count": 53,
      "metadata": {
        "id": "7scBGLh5_-YF"
      },
      "outputs": [],
      "source": []
    },
    {
      "cell_type": "markdown",
      "metadata": {
        "id": "hCqLAw8pDDUD"
      },
      "source": [
        "#Эмбеддинги из TF-IDF"
      ]
    },
    {
      "cell_type": "markdown",
      "metadata": {
        "id": "7YawBX7PF4i-"
      },
      "source": [
        "Для каждого слова текста получим его эмбеддинг из Tfidf с помощью TfidfVectorizer из sklearn. Итоговым эмбеддингом для каждого слова будет сумма двух эмбеддингов: предобученного и Tfidf-ного. Для слов, которых нет в словаре предобученных эмбеддингов, результирующий эмбеддинг будет просто полученный из Tfidf."
      ]
    },
    {
      "cell_type": "code",
      "execution_count": 71,
      "metadata": {
        "id": "nl7DkA_gqYT1"
      },
      "outputs": [],
      "source": [
        "\n",
        "class TwitterDataset_tfidf(Dataset):\n",
        "    def __init__(self, data: pd.DataFrame, feature_column: str, target_column: str, word2vec: gensim.models.Word2Vec, svd_matrix: svd_matrix, vectorizer: vectorizer):\n",
        "        self.tokenizer = nltk.WordPunctTokenizer()\n",
        "        \n",
        "        self.data = data\n",
        "\n",
        "        self.feature_column = feature_column\n",
        "        self.target_column = target_column\n",
        "\n",
        "        self.word2vec = word2vec\n",
        "\n",
        "        self.vectorizer = vectorizer\n",
        "\n",
        "        self.svd_matrix = svd_matrix\n",
        "\n",
        "\n",
        "        self.label2num = lambda label: 0 if label == 0 else 1\n",
        "        self.mean = np.mean(word2vec.vectors, axis=0)\n",
        "        self.std = np.std(word2vec.vectors, axis=0)\n",
        "\n",
        "    def __getitem__(self, item):\n",
        "        text = self.data[self.feature_column][item]\n",
        "        label = self.label2num(self.data[self.target_column][item])\n",
        "\n",
        "        tokens = self.get_tokens_(text)\n",
        "        emb_final = self.get_embeddings_(tokens)\n",
        "        \n",
        "        return {\"feature\": emb_final, \"target\": label}\n",
        "\n",
        "    def get_tokens_(self, text):\n",
        "        tokens = self.tokenizer.tokenize(text.lower())\n",
        "        tokens = [w for w in tokens if all(c not in string.punctuation for c in w) and len(w) > 3]\n",
        "        return tokens\n",
        "\n",
        "    \n",
        "\n",
        "    def get_embeddings_(self, tokens):\n",
        "      embeddings = []\n",
        "      \n",
        "      for t in tokens:\n",
        "\n",
        "        emb = np.zeros((1, word2vec.vector_size))\n",
        "        if t in self.word2vec:\n",
        "          emb = np.add(emb, np.array(word2vec.get_vector(t)))\n",
        "        \n",
        "        if t in vectorizer.vocabulary_:\n",
        "          emb = np.add(emb, np.array(svd_matrix[vectorizer.vocabulary_[t]]))            \n",
        "        \n",
        "        if np.array_equal(emb, np.zeros((1, word2vec.vector_size))) != True:\n",
        "            emb = (emb - self.mean) / self.std\n",
        "            emb = emb.tolist()\n",
        "            emb = np.array(emb[0])\n",
        "\n",
        "            embeddings.append(emb)\n",
        "\n",
        "      #if len(embeddings) > 0:\n",
        "        #embeddings = np.mean(np.array(embeddings), keepdims=300, axis=0)\n",
        "\n",
        "      if len(embeddings) == 0:\n",
        "        embeddings = np.zeros((1, self.word2vec.vector_size))\n",
        "      else:\n",
        "        embeddings = np.array(embeddings)\n",
        "        if len(embeddings.shape) == 1:\n",
        "          embeddings = embeddings.reshape(-1, 1)            \n",
        "\n",
        "      return embeddings\n",
        "\n",
        "        \n",
        "        \n",
        "\n",
        "    def __len__(self):\n",
        "        return self.data.shape[0]"
      ]
    },
    {
      "cell_type": "code",
      "execution_count": 72,
      "metadata": {
        "id": "eB0Nygi0qYT2"
      },
      "outputs": [],
      "source": [
        "dev_tf_new = TwitterDataset_tfidf(dev_data, \"text\", \"emotion\", word2vec, svd_matrix, vectorizer)\n"
      ]
    },
    {
      "cell_type": "code",
      "execution_count": 73,
      "metadata": {
        "colab": {
          "base_uri": "https://localhost:8080/",
          "height": 0
        },
        "id": "DTMkM73K_-af",
        "outputId": "b98bcf59-f4bf-4bff-c31f-7d4ca3551013"
      },
      "outputs": [
        {
          "data": {
            "text/plain": [
              "[{'feature': array([[ 1.21431761e+02, -2.46571706e+01, -4.22746464e+01, ...,\n",
              "          -6.81638343e-01, -5.83620015e-01, -1.16771194e+00],\n",
              "         [ 1.36445469e+00, -3.48480273e-01, -3.84371398e-01, ...,\n",
              "           1.92537974e-01, -5.37382582e-01, -1.91963305e-01],\n",
              "         [-1.65638549e+00,  4.57501769e-01, -2.04201410e+00, ...,\n",
              "          -2.28427068e+00, -2.95956746e-02, -1.98433706e-01],\n",
              "         ...,\n",
              "         [ 4.50144755e-01, -9.10997004e-01, -2.06232007e-01, ...,\n",
              "           1.02926113e+00,  1.75196612e+00, -1.20968534e+00],\n",
              "         [ 4.56590679e-01, -1.72486656e-01, -3.06059054e-02, ...,\n",
              "           2.84843555e-01, -5.98526566e-01, -3.08794823e-01],\n",
              "         [ 2.32926361e+00, -9.28513762e-01, -2.67610405e+00, ...,\n",
              "           6.09544251e-02, -1.14484320e+00,  1.81635906e-01]]), 'target': 0},\n",
              " {'feature': array([[ 3.04938319e+00, -3.07520290e-01, -5.45693620e-01, ...,\n",
              "          -9.21167942e-02, -1.07167260e+00, -3.91821308e-01],\n",
              "         [ 9.57614957e+01, -1.36903288e+01,  9.00259496e+00, ...,\n",
              "          -4.96481080e-01,  5.42411210e-01, -1.20306273e+00],\n",
              "         [ 2.37106538e+00,  5.24835758e-01,  5.89091848e-01, ...,\n",
              "          -8.06472057e-01, -1.41123677e+00,  7.81935414e-01],\n",
              "         ...,\n",
              "         [ 1.28519248e+00,  4.30984085e-01,  4.52082640e-01, ...,\n",
              "          -1.22896573e+00, -3.28801077e+00, -3.24788700e-01],\n",
              "         [ 3.72985757e+01, -9.70908721e+00, -1.26305079e+00, ...,\n",
              "          -1.49594843e+00, -3.07926751e+00, -2.60743071e+00],\n",
              "         [ 1.07620368e+01, -2.49813155e+00,  7.70027376e+00, ...,\n",
              "          -4.24974288e+00, -1.60720356e-01, -2.87610847e+00]]), 'target': 1},\n",
              " {'feature': array([[ 2.03772125e+00,  9.28442191e-02,  3.61258899e-02, ...,\n",
              "           8.93100257e-02,  3.00730938e-01,  4.57608056e-02],\n",
              "         [ 2.95291598e+01,  1.67109331e+01,  9.60584300e-01, ...,\n",
              "           2.65007902e-01, -1.80685825e-01,  4.79371624e-01],\n",
              "         [ 3.70363231e+01,  9.18171722e-01, -5.85940296e+00, ...,\n",
              "          -2.74335852e-02, -4.06625955e-01, -1.33224543e-01],\n",
              "         ...,\n",
              "         [ 1.21431761e+02, -2.46571706e+01, -4.22746464e+01, ...,\n",
              "          -6.81638343e-01, -5.83620015e-01, -1.16771194e+00],\n",
              "         [ 1.75840040e+01, -2.07854744e+00, -2.45039922e+00, ...,\n",
              "          -4.10553602e-01, -1.84755574e+00,  7.60788457e-01],\n",
              "         [ 6.37684598e+01, -7.82984717e+00,  1.37307979e+02, ...,\n",
              "           1.69147945e+00,  7.30860279e-01,  2.13015066e-01]]), 'target': 1},\n",
              " {'feature': array([[ 1.85833217e-02, -8.23507434e-03,  7.42268178e-02, ...,\n",
              "           2.30367358e-01, -4.76071834e-01, -2.97117476e-01],\n",
              "         [ 9.15272411e-01,  1.65507233e+00, -3.36600240e-02, ...,\n",
              "           1.09104548e+00, -1.32796333e+00, -2.52358607e+00],\n",
              "         [-1.79950608e+00,  3.58298303e-01, -3.96731308e-01, ...,\n",
              "          -1.44721761e-01, -1.19443323e+00,  5.65881544e-01],\n",
              "         [ 1.46888542e+02, -1.07092431e+02, -5.09167831e+01, ...,\n",
              "          -4.87837771e-01,  3.21795619e-01, -1.67908954e+00]]), 'target': 0}]"
            ]
          },
          "execution_count": 73,
          "metadata": {},
          "output_type": "execute_result"
        }
      ],
      "source": [
        "[dev_tf_new[i] for i in range(4)]"
      ]
    },
    {
      "cell_type": "code",
      "execution_count": 56,
      "metadata": {
        "id": "jLmSJfxQkdF-"
      },
      "outputs": [],
      "source": []
    },
    {
      "cell_type": "code",
      "execution_count": 74,
      "metadata": {
        "id": "burKl1A5DqwC"
      },
      "outputs": [],
      "source": [
        "batch_size = 1024\n",
        "num_workers = 2\n",
        "\n",
        "def average_emb(batch):\n",
        "    features = [np.mean(b[\"feature\"], axis=0) for b in batch]\n",
        "    targets = [b[\"target\"] for b in batch]\n",
        "\n",
        "    return {\"features\": torch.FloatTensor(np.array(features)), \"targets\": torch.LongTensor(np.array(targets))}\n",
        "\n",
        "\n",
        "train_size = math.ceil(len(dev_tf_new) * 0.8)\n",
        "\n",
        "train, valid = random_split(dev_tf_new, [train_size, len(dev_tf_new) - train_size])\n",
        "\n",
        "train_loader = DataLoader(train, batch_size=batch_size, num_workers=num_workers, shuffle=True, drop_last=True, collate_fn=average_emb)\n",
        "valid_loader = DataLoader(valid, batch_size=batch_size, num_workers=num_workers, shuffle=False, drop_last=False, collate_fn=average_emb)"
      ]
    },
    {
      "cell_type": "code",
      "execution_count": 75,
      "metadata": {
        "id": "OmNjijQIDqwC"
      },
      "outputs": [],
      "source": [
        "features = 300\n",
        "classes = 2"
      ]
    },
    {
      "cell_type": "code",
      "execution_count": 76,
      "metadata": {
        "id": "GcilhN-bDqwD"
      },
      "outputs": [],
      "source": [
        "model_my = nn.Sequential(\n",
        "  nn.Linear(features, 256),\n",
        "  nn.ReLU(),\n",
        "  nn.Linear(256, 128),\n",
        "  nn.ReLU(),\n",
        "  nn.Linear(128, 64),\n",
        "  nn.ReLU(),  \n",
        "  nn.Linear(64, classes),\n",
        "  nn.Tanh())\n",
        "  "
      ]
    },
    {
      "cell_type": "code",
      "execution_count": 77,
      "metadata": {
        "id": "9Bw8BYHYDqwD"
      },
      "outputs": [],
      "source": [
        "vector_size = dev.word2vec.vector_size\n",
        "num_classes = 2\n",
        "lr = 3e-2\n",
        "num_epochs = 1\n",
        "\n",
        "device = \"cpu\"\n",
        "model =  model_my\n",
        "#model = model.to(device)\n",
        "#model = model.cuda()\n",
        "criterion = nn.CrossEntropyLoss()\n",
        "optimizer = torch.optim.Adam(model.parameters())"
      ]
    },
    {
      "cell_type": "code",
      "execution_count": 78,
      "metadata": {
        "colab": {
          "base_uri": "https://localhost:8080/",
          "height": 99,
          "referenced_widgets": [
            "180691e4afb14b7a992364443c987062",
            "45d563bc73d045389cacd04214ebfcb1",
            "3597cee8b75f43b1a00cb7e7a61f9143",
            "52293704c6e04d3ea2ae7c699c98f60f",
            "e4662fa9bc2548c6829867ca324293fa",
            "6cbcaed0fe2342ae8d6465616938f56a",
            "5a3f6ae95610460688d858d519aa5fac",
            "2c9f50a22b754f338e806b254a8535f4",
            "7b47fbd60327436c9f47f433466c555e",
            "b0a7cfdc86f340e2a013e9527b83e447",
            "2aa91443760a48e992bee9aa9ed7dbc9",
            "fa7343b6edbd49a8a787020dcf094bfb",
            "42289742da9148b180334c2c2cbf2c8f",
            "858da38c9c904843bbe741da2fe596a2",
            "1c9165ef436043ddb2b53bb2c8f7ad29",
            "a71bdb767e6d48a281691d564355e46b",
            "cbadb9ae8a614d2b89f422d7cbb394cb",
            "5773739a236d4687a503fdd9537d19e9",
            "eb5d5afd82734656a531f2231298c1d2",
            "fa4fbd1134014a4cb8c699e85bbfecd2",
            "6e22d1426cff4f998a499ede6a1c1546",
            "2fe12cea20194e73b93c25c91bfe26eb"
          ]
        },
        "id": "LgJ6QK22DqwD",
        "outputId": "60679b4f-5bc7-41b2-ef71-a9b5f167f796"
      },
      "outputs": [
        {
          "data": {
            "application/vnd.jupyter.widget-view+json": {
              "model_id": "180691e4afb14b7a992364443c987062",
              "version_major": 2,
              "version_minor": 0
            },
            "text/plain": [
              "Epoch 1. Train Loss: 0:   0%|          | 0/500 [00:00<?, ?it/s]"
            ]
          },
          "metadata": {},
          "output_type": "display_data"
        },
        {
          "data": {
            "application/vnd.jupyter.widget-view+json": {
              "model_id": "fa7343b6edbd49a8a787020dcf094bfb",
              "version_major": 2,
              "version_minor": 0
            },
            "text/plain": [
              "Test Loss: 0, Test Acc: 0:   0%|          | 0/125 [00:00<?, ?it/s]"
            ]
          },
          "metadata": {},
          "output_type": "display_data"
        },
        {
          "name": "stdout",
          "output_type": "stream",
          "text": [
            "{'Test Loss': 0.5338769421577454, 'Test Acc': 0.73171875}\n"
          ]
        }
      ],
      "source": [
        "best_metric = np.inf\n",
        "for e in range(num_epochs):\n",
        "    training(model, optimizer, criterion, train_loader, e, device)\n",
        "    log = testing(model, criterion, valid_loader, device)\n",
        "    print(log)\n",
        "    if log[\"Test Loss\"] < best_metric:\n",
        "        torch.save(model.state_dict(), \"model.pt\")\n",
        "        best_metric = log[\"Test Loss\"]"
      ]
    },
    {
      "cell_type": "code",
      "execution_count": 79,
      "metadata": {
        "colab": {
          "base_uri": "https://localhost:8080/",
          "height": 67,
          "referenced_widgets": [
            "c0bbcd96481b40fca9e5690b2cac7445",
            "a5743bd40d5740b98e20d52f3e96b012",
            "3ec229fbdd1745a1b18b5006e7496a1c",
            "c7b29508d48d4b34b4ad8a6fb72a3571",
            "6e3e8179e0d94c688327acb6ff8e9688",
            "cbde654709d04e23872d8ffaac9b609e",
            "b9c7a8e6b2314046b72c6e2515493eba",
            "71705c1ec7734e1f8a820c10442490cf",
            "5ed17088bcc2425bbc8b8af84f15b223",
            "5b438e51a6e645719621af691d408254",
            "d3a9b1546f354144853116bf50603299"
          ]
        },
        "id": "2S1iHAMNDqwE",
        "outputId": "045d3cb9-8ee4-4dd8-a349-12563eddfbb6"
      },
      "outputs": [
        {
          "data": {
            "application/vnd.jupyter.widget-view+json": {
              "model_id": "c0bbcd96481b40fca9e5690b2cac7445",
              "version_major": 2,
              "version_minor": 0
            },
            "text/plain": [
              "Test Loss: 0, Test Acc: 0:   0%|          | 0/157 [00:00<?, ?it/s]"
            ]
          },
          "metadata": {},
          "output_type": "display_data"
        },
        {
          "name": "stdout",
          "output_type": "stream",
          "text": [
            "{'Test Loss': 0.6062833290950508, 'Test Acc': 0.6633720640923567}\n"
          ]
        }
      ],
      "source": [
        "test_loader = DataLoader(\n",
        "    TwitterDataset_neighbor(test_data, \"text\", \"emotion\", word2vec), \n",
        "    batch_size=batch_size, \n",
        "    num_workers=num_workers, \n",
        "    shuffle=False,\n",
        "    drop_last=False, \n",
        "    collate_fn=average_emb)\n",
        "\n",
        "model.load_state_dict(torch.load(\"model.pt\", map_location=device))\n",
        "\n",
        "print(testing(model, criterion, test_loader, device=device))"
      ]
    },
    {
      "cell_type": "markdown",
      "metadata": {
        "id": "wcV12hIeGFKq"
      },
      "source": [
        "**ВЫВОД:** Видим, что Accuracy на тесте совсем низкое = 0.66 \n",
        "\n",
        "Предполагаю, что имело бы смысл сделать лемматизацию, возможно, это бы помогло, если время не огрничивало. \n",
        "\n",
        "Таким образом, можно сделать вывод, что разные способы получения ембеддингов слов и далее составления из них предложений, дают примерно равные результаты. \n",
        "Однако обработка слов c TF-IDF и SVD - очень затратная операция. При прочих равных результатах предпочитительнее использовать средние эмбеддинги из предобученной модели Word2Vec."
      ]
    }
  ],
  "metadata": {
    "accelerator": "GPU",
    "colab": {
      "collapsed_sections": [],
      "provenance": [],
      "toc_visible": true
    },
    "gpuClass": "standard",
    "kernelspec": {
      "display_name": "Python 3",
      "name": "python3"
    },
    "widgets": {
      "application/vnd.jupyter.widget-state+json": {
        "08abfee13d3a4db08af82ca259c13ada": {
          "model_module": "@jupyter-widgets/base",
          "model_module_version": "1.2.0",
          "model_name": "LayoutModel",
          "state": {
            "_model_module": "@jupyter-widgets/base",
            "_model_module_version": "1.2.0",
            "_model_name": "LayoutModel",
            "_view_count": null,
            "_view_module": "@jupyter-widgets/base",
            "_view_module_version": "1.2.0",
            "_view_name": "LayoutView",
            "align_content": null,
            "align_items": null,
            "align_self": null,
            "border": null,
            "bottom": null,
            "display": null,
            "flex": null,
            "flex_flow": null,
            "grid_area": null,
            "grid_auto_columns": null,
            "grid_auto_flow": null,
            "grid_auto_rows": null,
            "grid_column": null,
            "grid_gap": null,
            "grid_row": null,
            "grid_template_areas": null,
            "grid_template_columns": null,
            "grid_template_rows": null,
            "height": null,
            "justify_content": null,
            "justify_items": null,
            "left": null,
            "margin": null,
            "max_height": null,
            "max_width": null,
            "min_height": null,
            "min_width": null,
            "object_fit": null,
            "object_position": null,
            "order": null,
            "overflow": null,
            "overflow_x": null,
            "overflow_y": null,
            "padding": null,
            "right": null,
            "top": null,
            "visibility": null,
            "width": null
          }
        },
        "115b9b4d2b284a4399a163aeedc83266": {
          "model_module": "@jupyter-widgets/controls",
          "model_module_version": "1.5.0",
          "model_name": "DescriptionStyleModel",
          "state": {
            "_model_module": "@jupyter-widgets/controls",
            "_model_module_version": "1.5.0",
            "_model_name": "DescriptionStyleModel",
            "_view_count": null,
            "_view_module": "@jupyter-widgets/base",
            "_view_module_version": "1.2.0",
            "_view_name": "StyleView",
            "description_width": ""
          }
        },
        "13bb69329bdc4556bfab2212a76e77d1": {
          "model_module": "@jupyter-widgets/controls",
          "model_module_version": "1.5.0",
          "model_name": "HTMLModel",
          "state": {
            "_dom_classes": [],
            "_model_module": "@jupyter-widgets/controls",
            "_model_module_version": "1.5.0",
            "_model_name": "HTMLModel",
            "_view_count": null,
            "_view_module": "@jupyter-widgets/controls",
            "_view_module_version": "1.5.0",
            "_view_name": "HTMLView",
            "description": "",
            "description_tooltip": null,
            "layout": "IPY_MODEL_08abfee13d3a4db08af82ca259c13ada",
            "placeholder": "​",
            "style": "IPY_MODEL_e46eff24472d417c960ed43367ab4a4f",
            "value": "Epoch 1. Train Loss: 0.5074: 100%"
          }
        },
        "1747eb0cfa7c4bbdb399c560bf4419fa": {
          "model_module": "@jupyter-widgets/controls",
          "model_module_version": "1.5.0",
          "model_name": "DescriptionStyleModel",
          "state": {
            "_model_module": "@jupyter-widgets/controls",
            "_model_module_version": "1.5.0",
            "_model_name": "DescriptionStyleModel",
            "_view_count": null,
            "_view_module": "@jupyter-widgets/base",
            "_view_module_version": "1.2.0",
            "_view_name": "StyleView",
            "description_width": ""
          }
        },
        "180691e4afb14b7a992364443c987062": {
          "model_module": "@jupyter-widgets/controls",
          "model_module_version": "1.5.0",
          "model_name": "HBoxModel",
          "state": {
            "_dom_classes": [],
            "_model_module": "@jupyter-widgets/controls",
            "_model_module_version": "1.5.0",
            "_model_name": "HBoxModel",
            "_view_count": null,
            "_view_module": "@jupyter-widgets/controls",
            "_view_module_version": "1.5.0",
            "_view_name": "HBoxView",
            "box_style": "",
            "children": [
              "IPY_MODEL_45d563bc73d045389cacd04214ebfcb1",
              "IPY_MODEL_3597cee8b75f43b1a00cb7e7a61f9143",
              "IPY_MODEL_52293704c6e04d3ea2ae7c699c98f60f"
            ],
            "layout": "IPY_MODEL_e4662fa9bc2548c6829867ca324293fa"
          }
        },
        "1c9165ef436043ddb2b53bb2c8f7ad29": {
          "model_module": "@jupyter-widgets/controls",
          "model_module_version": "1.5.0",
          "model_name": "HTMLModel",
          "state": {
            "_dom_classes": [],
            "_model_module": "@jupyter-widgets/controls",
            "_model_module_version": "1.5.0",
            "_model_name": "HTMLModel",
            "_view_count": null,
            "_view_module": "@jupyter-widgets/controls",
            "_view_module_version": "1.5.0",
            "_view_name": "HTMLView",
            "description": "",
            "description_tooltip": null,
            "layout": "IPY_MODEL_6e22d1426cff4f998a499ede6a1c1546",
            "placeholder": "​",
            "style": "IPY_MODEL_2fe12cea20194e73b93c25c91bfe26eb",
            "value": " 125/125 [01:08&lt;00:00,  2.26it/s]"
          }
        },
        "24230f98fffc41edac1e65e13773c13d": {
          "model_module": "@jupyter-widgets/controls",
          "model_module_version": "1.5.0",
          "model_name": "HBoxModel",
          "state": {
            "_dom_classes": [],
            "_model_module": "@jupyter-widgets/controls",
            "_model_module_version": "1.5.0",
            "_model_name": "HBoxModel",
            "_view_count": null,
            "_view_module": "@jupyter-widgets/controls",
            "_view_module_version": "1.5.0",
            "_view_name": "HBoxView",
            "box_style": "",
            "children": [
              "IPY_MODEL_13bb69329bdc4556bfab2212a76e77d1",
              "IPY_MODEL_9e63baed53d04e379bc27169e0e1440b",
              "IPY_MODEL_56a24258e3ac49c6b7c32e38e8e59c2f"
            ],
            "layout": "IPY_MODEL_cd29a07b48a4451c8c968698fd25a9a5"
          }
        },
        "24d1fd5b13db457abb07267be4e9d665": {
          "model_module": "@jupyter-widgets/controls",
          "model_module_version": "1.5.0",
          "model_name": "DescriptionStyleModel",
          "state": {
            "_model_module": "@jupyter-widgets/controls",
            "_model_module_version": "1.5.0",
            "_model_name": "DescriptionStyleModel",
            "_view_count": null,
            "_view_module": "@jupyter-widgets/base",
            "_view_module_version": "1.2.0",
            "_view_name": "StyleView",
            "description_width": ""
          }
        },
        "2683e98b6b164c68b39792e6321f9661": {
          "model_module": "@jupyter-widgets/base",
          "model_module_version": "1.2.0",
          "model_name": "LayoutModel",
          "state": {
            "_model_module": "@jupyter-widgets/base",
            "_model_module_version": "1.2.0",
            "_model_name": "LayoutModel",
            "_view_count": null,
            "_view_module": "@jupyter-widgets/base",
            "_view_module_version": "1.2.0",
            "_view_name": "LayoutView",
            "align_content": null,
            "align_items": null,
            "align_self": null,
            "border": null,
            "bottom": null,
            "display": null,
            "flex": null,
            "flex_flow": null,
            "grid_area": null,
            "grid_auto_columns": null,
            "grid_auto_flow": null,
            "grid_auto_rows": null,
            "grid_column": null,
            "grid_gap": null,
            "grid_row": null,
            "grid_template_areas": null,
            "grid_template_columns": null,
            "grid_template_rows": null,
            "height": null,
            "justify_content": null,
            "justify_items": null,
            "left": null,
            "margin": null,
            "max_height": null,
            "max_width": null,
            "min_height": null,
            "min_width": null,
            "object_fit": null,
            "object_position": null,
            "order": null,
            "overflow": null,
            "overflow_x": null,
            "overflow_y": null,
            "padding": null,
            "right": null,
            "top": null,
            "visibility": null,
            "width": null
          }
        },
        "26c5ef1da62c4a00ab1ecf0f73f484e8": {
          "model_module": "@jupyter-widgets/base",
          "model_module_version": "1.2.0",
          "model_name": "LayoutModel",
          "state": {
            "_model_module": "@jupyter-widgets/base",
            "_model_module_version": "1.2.0",
            "_model_name": "LayoutModel",
            "_view_count": null,
            "_view_module": "@jupyter-widgets/base",
            "_view_module_version": "1.2.0",
            "_view_name": "LayoutView",
            "align_content": null,
            "align_items": null,
            "align_self": null,
            "border": null,
            "bottom": null,
            "display": null,
            "flex": null,
            "flex_flow": null,
            "grid_area": null,
            "grid_auto_columns": null,
            "grid_auto_flow": null,
            "grid_auto_rows": null,
            "grid_column": null,
            "grid_gap": null,
            "grid_row": null,
            "grid_template_areas": null,
            "grid_template_columns": null,
            "grid_template_rows": null,
            "height": null,
            "justify_content": null,
            "justify_items": null,
            "left": null,
            "margin": null,
            "max_height": null,
            "max_width": null,
            "min_height": null,
            "min_width": null,
            "object_fit": null,
            "object_position": null,
            "order": null,
            "overflow": null,
            "overflow_x": null,
            "overflow_y": null,
            "padding": null,
            "right": null,
            "top": null,
            "visibility": null,
            "width": null
          }
        },
        "27ebae7e335f44bebdc2bc388b594d8c": {
          "model_module": "@jupyter-widgets/controls",
          "model_module_version": "1.5.0",
          "model_name": "HBoxModel",
          "state": {
            "_dom_classes": [],
            "_model_module": "@jupyter-widgets/controls",
            "_model_module_version": "1.5.0",
            "_model_name": "HBoxModel",
            "_view_count": null,
            "_view_module": "@jupyter-widgets/controls",
            "_view_module_version": "1.5.0",
            "_view_name": "HBoxView",
            "box_style": "",
            "children": [
              "IPY_MODEL_61aac8cb392f4f86a972b191e4a3c36c",
              "IPY_MODEL_ee60fdfc0fa34be49b18ddbf223a5eb6",
              "IPY_MODEL_68a878754ff94c02883386a34798d593"
            ],
            "layout": "IPY_MODEL_8935bda33b3c4aebbf70c2799bc3912c"
          }
        },
        "2aa91443760a48e992bee9aa9ed7dbc9": {
          "model_module": "@jupyter-widgets/controls",
          "model_module_version": "1.5.0",
          "model_name": "DescriptionStyleModel",
          "state": {
            "_model_module": "@jupyter-widgets/controls",
            "_model_module_version": "1.5.0",
            "_model_name": "DescriptionStyleModel",
            "_view_count": null,
            "_view_module": "@jupyter-widgets/base",
            "_view_module_version": "1.2.0",
            "_view_name": "StyleView",
            "description_width": ""
          }
        },
        "2c9f50a22b754f338e806b254a8535f4": {
          "model_module": "@jupyter-widgets/base",
          "model_module_version": "1.2.0",
          "model_name": "LayoutModel",
          "state": {
            "_model_module": "@jupyter-widgets/base",
            "_model_module_version": "1.2.0",
            "_model_name": "LayoutModel",
            "_view_count": null,
            "_view_module": "@jupyter-widgets/base",
            "_view_module_version": "1.2.0",
            "_view_name": "LayoutView",
            "align_content": null,
            "align_items": null,
            "align_self": null,
            "border": null,
            "bottom": null,
            "display": null,
            "flex": null,
            "flex_flow": null,
            "grid_area": null,
            "grid_auto_columns": null,
            "grid_auto_flow": null,
            "grid_auto_rows": null,
            "grid_column": null,
            "grid_gap": null,
            "grid_row": null,
            "grid_template_areas": null,
            "grid_template_columns": null,
            "grid_template_rows": null,
            "height": null,
            "justify_content": null,
            "justify_items": null,
            "left": null,
            "margin": null,
            "max_height": null,
            "max_width": null,
            "min_height": null,
            "min_width": null,
            "object_fit": null,
            "object_position": null,
            "order": null,
            "overflow": null,
            "overflow_x": null,
            "overflow_y": null,
            "padding": null,
            "right": null,
            "top": null,
            "visibility": null,
            "width": null
          }
        },
        "2fe12cea20194e73b93c25c91bfe26eb": {
          "model_module": "@jupyter-widgets/controls",
          "model_module_version": "1.5.0",
          "model_name": "DescriptionStyleModel",
          "state": {
            "_model_module": "@jupyter-widgets/controls",
            "_model_module_version": "1.5.0",
            "_model_name": "DescriptionStyleModel",
            "_view_count": null,
            "_view_module": "@jupyter-widgets/base",
            "_view_module_version": "1.2.0",
            "_view_name": "StyleView",
            "description_width": ""
          }
        },
        "3467bf2be8034ed18508df858879d4bd": {
          "model_module": "@jupyter-widgets/controls",
          "model_module_version": "1.5.0",
          "model_name": "HTMLModel",
          "state": {
            "_dom_classes": [],
            "_model_module": "@jupyter-widgets/controls",
            "_model_module_version": "1.5.0",
            "_model_name": "HTMLModel",
            "_view_count": null,
            "_view_module": "@jupyter-widgets/controls",
            "_view_module_version": "1.5.0",
            "_view_name": "HTMLView",
            "description": "",
            "description_tooltip": null,
            "layout": "IPY_MODEL_4a8651effc0e415bb6fa2b028ad3e632",
            "placeholder": "​",
            "style": "IPY_MODEL_115b9b4d2b284a4399a163aeedc83266",
            "value": "Test Loss: 0.5103, Test Acc: 0.749: 100%"
          }
        },
        "3597cee8b75f43b1a00cb7e7a61f9143": {
          "model_module": "@jupyter-widgets/controls",
          "model_module_version": "1.5.0",
          "model_name": "FloatProgressModel",
          "state": {
            "_dom_classes": [],
            "_model_module": "@jupyter-widgets/controls",
            "_model_module_version": "1.5.0",
            "_model_name": "FloatProgressModel",
            "_view_count": null,
            "_view_module": "@jupyter-widgets/controls",
            "_view_module_version": "1.5.0",
            "_view_name": "ProgressView",
            "bar_style": "success",
            "description": "",
            "description_tooltip": null,
            "layout": "IPY_MODEL_2c9f50a22b754f338e806b254a8535f4",
            "max": 500,
            "min": 0,
            "orientation": "horizontal",
            "style": "IPY_MODEL_7b47fbd60327436c9f47f433466c555e",
            "value": 500
          }
        },
        "3681992d3a544252848c145073511b94": {
          "model_module": "@jupyter-widgets/controls",
          "model_module_version": "1.5.0",
          "model_name": "DescriptionStyleModel",
          "state": {
            "_model_module": "@jupyter-widgets/controls",
            "_model_module_version": "1.5.0",
            "_model_name": "DescriptionStyleModel",
            "_view_count": null,
            "_view_module": "@jupyter-widgets/base",
            "_view_module_version": "1.2.0",
            "_view_name": "StyleView",
            "description_width": ""
          }
        },
        "376747db9370495280bf1350a139e14f": {
          "model_module": "@jupyter-widgets/base",
          "model_module_version": "1.2.0",
          "model_name": "LayoutModel",
          "state": {
            "_model_module": "@jupyter-widgets/base",
            "_model_module_version": "1.2.0",
            "_model_name": "LayoutModel",
            "_view_count": null,
            "_view_module": "@jupyter-widgets/base",
            "_view_module_version": "1.2.0",
            "_view_name": "LayoutView",
            "align_content": null,
            "align_items": null,
            "align_self": null,
            "border": null,
            "bottom": null,
            "display": null,
            "flex": null,
            "flex_flow": null,
            "grid_area": null,
            "grid_auto_columns": null,
            "grid_auto_flow": null,
            "grid_auto_rows": null,
            "grid_column": null,
            "grid_gap": null,
            "grid_row": null,
            "grid_template_areas": null,
            "grid_template_columns": null,
            "grid_template_rows": null,
            "height": null,
            "justify_content": null,
            "justify_items": null,
            "left": null,
            "margin": null,
            "max_height": null,
            "max_width": null,
            "min_height": null,
            "min_width": null,
            "object_fit": null,
            "object_position": null,
            "order": null,
            "overflow": null,
            "overflow_x": null,
            "overflow_y": null,
            "padding": null,
            "right": null,
            "top": null,
            "visibility": null,
            "width": null
          }
        },
        "3ec229fbdd1745a1b18b5006e7496a1c": {
          "model_module": "@jupyter-widgets/controls",
          "model_module_version": "1.5.0",
          "model_name": "FloatProgressModel",
          "state": {
            "_dom_classes": [],
            "_model_module": "@jupyter-widgets/controls",
            "_model_module_version": "1.5.0",
            "_model_name": "FloatProgressModel",
            "_view_count": null,
            "_view_module": "@jupyter-widgets/controls",
            "_view_module_version": "1.5.0",
            "_view_name": "ProgressView",
            "bar_style": "success",
            "description": "",
            "description_tooltip": null,
            "layout": "IPY_MODEL_71705c1ec7734e1f8a820c10442490cf",
            "max": 157,
            "min": 0,
            "orientation": "horizontal",
            "style": "IPY_MODEL_5ed17088bcc2425bbc8b8af84f15b223",
            "value": 157
          }
        },
        "42289742da9148b180334c2c2cbf2c8f": {
          "model_module": "@jupyter-widgets/controls",
          "model_module_version": "1.5.0",
          "model_name": "HTMLModel",
          "state": {
            "_dom_classes": [],
            "_model_module": "@jupyter-widgets/controls",
            "_model_module_version": "1.5.0",
            "_model_name": "HTMLModel",
            "_view_count": null,
            "_view_module": "@jupyter-widgets/controls",
            "_view_module_version": "1.5.0",
            "_view_name": "HTMLView",
            "description": "",
            "description_tooltip": null,
            "layout": "IPY_MODEL_cbadb9ae8a614d2b89f422d7cbb394cb",
            "placeholder": "​",
            "style": "IPY_MODEL_5773739a236d4687a503fdd9537d19e9",
            "value": "Test Loss: 0.5331, Test Acc: 0.7461: 100%"
          }
        },
        "45d563bc73d045389cacd04214ebfcb1": {
          "model_module": "@jupyter-widgets/controls",
          "model_module_version": "1.5.0",
          "model_name": "HTMLModel",
          "state": {
            "_dom_classes": [],
            "_model_module": "@jupyter-widgets/controls",
            "_model_module_version": "1.5.0",
            "_model_name": "HTMLModel",
            "_view_count": null,
            "_view_module": "@jupyter-widgets/controls",
            "_view_module_version": "1.5.0",
            "_view_name": "HTMLView",
            "description": "",
            "description_tooltip": null,
            "layout": "IPY_MODEL_6cbcaed0fe2342ae8d6465616938f56a",
            "placeholder": "​",
            "style": "IPY_MODEL_5a3f6ae95610460688d858d519aa5fac",
            "value": "Epoch 1. Train Loss: 0.5053: 100%"
          }
        },
        "4a8651effc0e415bb6fa2b028ad3e632": {
          "model_module": "@jupyter-widgets/base",
          "model_module_version": "1.2.0",
          "model_name": "LayoutModel",
          "state": {
            "_model_module": "@jupyter-widgets/base",
            "_model_module_version": "1.2.0",
            "_model_name": "LayoutModel",
            "_view_count": null,
            "_view_module": "@jupyter-widgets/base",
            "_view_module_version": "1.2.0",
            "_view_name": "LayoutView",
            "align_content": null,
            "align_items": null,
            "align_self": null,
            "border": null,
            "bottom": null,
            "display": null,
            "flex": null,
            "flex_flow": null,
            "grid_area": null,
            "grid_auto_columns": null,
            "grid_auto_flow": null,
            "grid_auto_rows": null,
            "grid_column": null,
            "grid_gap": null,
            "grid_row": null,
            "grid_template_areas": null,
            "grid_template_columns": null,
            "grid_template_rows": null,
            "height": null,
            "justify_content": null,
            "justify_items": null,
            "left": null,
            "margin": null,
            "max_height": null,
            "max_width": null,
            "min_height": null,
            "min_width": null,
            "object_fit": null,
            "object_position": null,
            "order": null,
            "overflow": null,
            "overflow_x": null,
            "overflow_y": null,
            "padding": null,
            "right": null,
            "top": null,
            "visibility": null,
            "width": null
          }
        },
        "4b8a52ab0bbb4929932e25f2f54f3aec": {
          "model_module": "@jupyter-widgets/controls",
          "model_module_version": "1.5.0",
          "model_name": "DescriptionStyleModel",
          "state": {
            "_model_module": "@jupyter-widgets/controls",
            "_model_module_version": "1.5.0",
            "_model_name": "DescriptionStyleModel",
            "_view_count": null,
            "_view_module": "@jupyter-widgets/base",
            "_view_module_version": "1.2.0",
            "_view_name": "StyleView",
            "description_width": ""
          }
        },
        "50eff51510864471a626afb5453be684": {
          "model_module": "@jupyter-widgets/controls",
          "model_module_version": "1.5.0",
          "model_name": "HBoxModel",
          "state": {
            "_dom_classes": [],
            "_model_module": "@jupyter-widgets/controls",
            "_model_module_version": "1.5.0",
            "_model_name": "HBoxModel",
            "_view_count": null,
            "_view_module": "@jupyter-widgets/controls",
            "_view_module_version": "1.5.0",
            "_view_name": "HBoxView",
            "box_style": "",
            "children": [
              "IPY_MODEL_a9fa748ddbb64956a17f65a5e0cbd4c8",
              "IPY_MODEL_a9eba41cf970448f9e2e8b8b261cffc8",
              "IPY_MODEL_96e5a48b8d0b4d399189413cc9532180"
            ],
            "layout": "IPY_MODEL_26c5ef1da62c4a00ab1ecf0f73f484e8"
          }
        },
        "52293704c6e04d3ea2ae7c699c98f60f": {
          "model_module": "@jupyter-widgets/controls",
          "model_module_version": "1.5.0",
          "model_name": "HTMLModel",
          "state": {
            "_dom_classes": [],
            "_model_module": "@jupyter-widgets/controls",
            "_model_module_version": "1.5.0",
            "_model_name": "HTMLModel",
            "_view_count": null,
            "_view_module": "@jupyter-widgets/controls",
            "_view_module_version": "1.5.0",
            "_view_name": "HTMLView",
            "description": "",
            "description_tooltip": null,
            "layout": "IPY_MODEL_b0a7cfdc86f340e2a013e9527b83e447",
            "placeholder": "​",
            "style": "IPY_MODEL_2aa91443760a48e992bee9aa9ed7dbc9",
            "value": " 500/500 [04:33&lt;00:00,  2.05it/s]"
          }
        },
        "52555c6bbe7a46598ea2278931584150": {
          "model_module": "@jupyter-widgets/base",
          "model_module_version": "1.2.0",
          "model_name": "LayoutModel",
          "state": {
            "_model_module": "@jupyter-widgets/base",
            "_model_module_version": "1.2.0",
            "_model_name": "LayoutModel",
            "_view_count": null,
            "_view_module": "@jupyter-widgets/base",
            "_view_module_version": "1.2.0",
            "_view_name": "LayoutView",
            "align_content": null,
            "align_items": null,
            "align_self": null,
            "border": null,
            "bottom": null,
            "display": null,
            "flex": null,
            "flex_flow": null,
            "grid_area": null,
            "grid_auto_columns": null,
            "grid_auto_flow": null,
            "grid_auto_rows": null,
            "grid_column": null,
            "grid_gap": null,
            "grid_row": null,
            "grid_template_areas": null,
            "grid_template_columns": null,
            "grid_template_rows": null,
            "height": null,
            "justify_content": null,
            "justify_items": null,
            "left": null,
            "margin": null,
            "max_height": null,
            "max_width": null,
            "min_height": null,
            "min_width": null,
            "object_fit": null,
            "object_position": null,
            "order": null,
            "overflow": null,
            "overflow_x": null,
            "overflow_y": null,
            "padding": null,
            "right": null,
            "top": null,
            "visibility": null,
            "width": null
          }
        },
        "54832261870c447f9bfec47f895010c9": {
          "model_module": "@jupyter-widgets/controls",
          "model_module_version": "1.5.0",
          "model_name": "DescriptionStyleModel",
          "state": {
            "_model_module": "@jupyter-widgets/controls",
            "_model_module_version": "1.5.0",
            "_model_name": "DescriptionStyleModel",
            "_view_count": null,
            "_view_module": "@jupyter-widgets/base",
            "_view_module_version": "1.2.0",
            "_view_name": "StyleView",
            "description_width": ""
          }
        },
        "54d720506e0841f281f694a89fcdbc3a": {
          "model_module": "@jupyter-widgets/controls",
          "model_module_version": "1.5.0",
          "model_name": "DescriptionStyleModel",
          "state": {
            "_model_module": "@jupyter-widgets/controls",
            "_model_module_version": "1.5.0",
            "_model_name": "DescriptionStyleModel",
            "_view_count": null,
            "_view_module": "@jupyter-widgets/base",
            "_view_module_version": "1.2.0",
            "_view_name": "StyleView",
            "description_width": ""
          }
        },
        "556ae69872ba4dff88da43672dfce104": {
          "model_module": "@jupyter-widgets/controls",
          "model_module_version": "1.5.0",
          "model_name": "HTMLModel",
          "state": {
            "_dom_classes": [],
            "_model_module": "@jupyter-widgets/controls",
            "_model_module_version": "1.5.0",
            "_model_name": "HTMLModel",
            "_view_count": null,
            "_view_module": "@jupyter-widgets/controls",
            "_view_module_version": "1.5.0",
            "_view_name": "HTMLView",
            "description": "",
            "description_tooltip": null,
            "layout": "IPY_MODEL_b560783728b64d949ec206f1138ad2c7",
            "placeholder": "​",
            "style": "IPY_MODEL_5f421cf008f44e7fa770526e0f4c27bb",
            "value": "Test Loss: 0.566, Test Acc: 0.6797: 100%"
          }
        },
        "56a24258e3ac49c6b7c32e38e8e59c2f": {
          "model_module": "@jupyter-widgets/controls",
          "model_module_version": "1.5.0",
          "model_name": "HTMLModel",
          "state": {
            "_dom_classes": [],
            "_model_module": "@jupyter-widgets/controls",
            "_model_module_version": "1.5.0",
            "_model_name": "HTMLModel",
            "_view_count": null,
            "_view_module": "@jupyter-widgets/controls",
            "_view_module_version": "1.5.0",
            "_view_name": "HTMLView",
            "description": "",
            "description_tooltip": null,
            "layout": "IPY_MODEL_cf1b110b5add49f283ece7324a0bf5a5",
            "placeholder": "​",
            "style": "IPY_MODEL_54832261870c447f9bfec47f895010c9",
            "value": " 500/500 [01:06&lt;00:00, 10.75it/s]"
          }
        },
        "5773739a236d4687a503fdd9537d19e9": {
          "model_module": "@jupyter-widgets/controls",
          "model_module_version": "1.5.0",
          "model_name": "DescriptionStyleModel",
          "state": {
            "_model_module": "@jupyter-widgets/controls",
            "_model_module_version": "1.5.0",
            "_model_name": "DescriptionStyleModel",
            "_view_count": null,
            "_view_module": "@jupyter-widgets/base",
            "_view_module_version": "1.2.0",
            "_view_name": "StyleView",
            "description_width": ""
          }
        },
        "5a3f6ae95610460688d858d519aa5fac": {
          "model_module": "@jupyter-widgets/controls",
          "model_module_version": "1.5.0",
          "model_name": "DescriptionStyleModel",
          "state": {
            "_model_module": "@jupyter-widgets/controls",
            "_model_module_version": "1.5.0",
            "_model_name": "DescriptionStyleModel",
            "_view_count": null,
            "_view_module": "@jupyter-widgets/base",
            "_view_module_version": "1.2.0",
            "_view_name": "StyleView",
            "description_width": ""
          }
        },
        "5b438e51a6e645719621af691d408254": {
          "model_module": "@jupyter-widgets/base",
          "model_module_version": "1.2.0",
          "model_name": "LayoutModel",
          "state": {
            "_model_module": "@jupyter-widgets/base",
            "_model_module_version": "1.2.0",
            "_model_name": "LayoutModel",
            "_view_count": null,
            "_view_module": "@jupyter-widgets/base",
            "_view_module_version": "1.2.0",
            "_view_name": "LayoutView",
            "align_content": null,
            "align_items": null,
            "align_self": null,
            "border": null,
            "bottom": null,
            "display": null,
            "flex": null,
            "flex_flow": null,
            "grid_area": null,
            "grid_auto_columns": null,
            "grid_auto_flow": null,
            "grid_auto_rows": null,
            "grid_column": null,
            "grid_gap": null,
            "grid_row": null,
            "grid_template_areas": null,
            "grid_template_columns": null,
            "grid_template_rows": null,
            "height": null,
            "justify_content": null,
            "justify_items": null,
            "left": null,
            "margin": null,
            "max_height": null,
            "max_width": null,
            "min_height": null,
            "min_width": null,
            "object_fit": null,
            "object_position": null,
            "order": null,
            "overflow": null,
            "overflow_x": null,
            "overflow_y": null,
            "padding": null,
            "right": null,
            "top": null,
            "visibility": null,
            "width": null
          }
        },
        "5ed17088bcc2425bbc8b8af84f15b223": {
          "model_module": "@jupyter-widgets/controls",
          "model_module_version": "1.5.0",
          "model_name": "ProgressStyleModel",
          "state": {
            "_model_module": "@jupyter-widgets/controls",
            "_model_module_version": "1.5.0",
            "_model_name": "ProgressStyleModel",
            "_view_count": null,
            "_view_module": "@jupyter-widgets/base",
            "_view_module_version": "1.2.0",
            "_view_name": "StyleView",
            "bar_color": null,
            "description_width": ""
          }
        },
        "5f421cf008f44e7fa770526e0f4c27bb": {
          "model_module": "@jupyter-widgets/controls",
          "model_module_version": "1.5.0",
          "model_name": "DescriptionStyleModel",
          "state": {
            "_model_module": "@jupyter-widgets/controls",
            "_model_module_version": "1.5.0",
            "_model_name": "DescriptionStyleModel",
            "_view_count": null,
            "_view_module": "@jupyter-widgets/base",
            "_view_module_version": "1.2.0",
            "_view_name": "StyleView",
            "description_width": ""
          }
        },
        "61aac8cb392f4f86a972b191e4a3c36c": {
          "model_module": "@jupyter-widgets/controls",
          "model_module_version": "1.5.0",
          "model_name": "HTMLModel",
          "state": {
            "_dom_classes": [],
            "_model_module": "@jupyter-widgets/controls",
            "_model_module_version": "1.5.0",
            "_model_name": "HTMLModel",
            "_view_count": null,
            "_view_module": "@jupyter-widgets/controls",
            "_view_module_version": "1.5.0",
            "_view_name": "HTMLView",
            "description": "",
            "description_tooltip": null,
            "layout": "IPY_MODEL_a807679dacc549538789e14d61044b19",
            "placeholder": "​",
            "style": "IPY_MODEL_24d1fd5b13db457abb07267be4e9d665",
            "value": "Epoch 1. Train Loss: 0.5133: 100%"
          }
        },
        "629f73e345034185b4b320ebc5816fd8": {
          "model_module": "@jupyter-widgets/controls",
          "model_module_version": "1.5.0",
          "model_name": "HTMLModel",
          "state": {
            "_dom_classes": [],
            "_model_module": "@jupyter-widgets/controls",
            "_model_module_version": "1.5.0",
            "_model_name": "HTMLModel",
            "_view_count": null,
            "_view_module": "@jupyter-widgets/controls",
            "_view_module_version": "1.5.0",
            "_view_name": "HTMLView",
            "description": "",
            "description_tooltip": null,
            "layout": "IPY_MODEL_376747db9370495280bf1350a139e14f",
            "placeholder": "​",
            "style": "IPY_MODEL_3681992d3a544252848c145073511b94",
            "value": " 125/125 [00:22&lt;00:00,  6.88it/s]"
          }
        },
        "63e293e444b0447a921335d1426b54a9": {
          "model_module": "@jupyter-widgets/controls",
          "model_module_version": "1.5.0",
          "model_name": "HBoxModel",
          "state": {
            "_dom_classes": [],
            "_model_module": "@jupyter-widgets/controls",
            "_model_module_version": "1.5.0",
            "_model_name": "HBoxModel",
            "_view_count": null,
            "_view_module": "@jupyter-widgets/controls",
            "_view_module_version": "1.5.0",
            "_view_name": "HBoxView",
            "box_style": "",
            "children": [
              "IPY_MODEL_d1f3626ec81046698fbd6f7ced40e6e9",
              "IPY_MODEL_d9621ad73c40453e8a0530020af7143c",
              "IPY_MODEL_ec67bd79b39449ab9a7ad4029ef40a3a"
            ],
            "layout": "IPY_MODEL_a7ab4565606748c39d15fdaa1de1a946"
          }
        },
        "68a878754ff94c02883386a34798d593": {
          "model_module": "@jupyter-widgets/controls",
          "model_module_version": "1.5.0",
          "model_name": "HTMLModel",
          "state": {
            "_dom_classes": [],
            "_model_module": "@jupyter-widgets/controls",
            "_model_module_version": "1.5.0",
            "_model_name": "HTMLModel",
            "_view_count": null,
            "_view_module": "@jupyter-widgets/controls",
            "_view_module_version": "1.5.0",
            "_view_name": "HTMLView",
            "description": "",
            "description_tooltip": null,
            "layout": "IPY_MODEL_2683e98b6b164c68b39792e6321f9661",
            "placeholder": "​",
            "style": "IPY_MODEL_54d720506e0841f281f694a89fcdbc3a",
            "value": " 500/500 [01:22&lt;00:00,  6.62it/s]"
          }
        },
        "69006d3a10204ca390285ab6cd59163a": {
          "model_module": "@jupyter-widgets/controls",
          "model_module_version": "1.5.0",
          "model_name": "DescriptionStyleModel",
          "state": {
            "_model_module": "@jupyter-widgets/controls",
            "_model_module_version": "1.5.0",
            "_model_name": "DescriptionStyleModel",
            "_view_count": null,
            "_view_module": "@jupyter-widgets/base",
            "_view_module_version": "1.2.0",
            "_view_name": "StyleView",
            "description_width": ""
          }
        },
        "6cbcaed0fe2342ae8d6465616938f56a": {
          "model_module": "@jupyter-widgets/base",
          "model_module_version": "1.2.0",
          "model_name": "LayoutModel",
          "state": {
            "_model_module": "@jupyter-widgets/base",
            "_model_module_version": "1.2.0",
            "_model_name": "LayoutModel",
            "_view_count": null,
            "_view_module": "@jupyter-widgets/base",
            "_view_module_version": "1.2.0",
            "_view_name": "LayoutView",
            "align_content": null,
            "align_items": null,
            "align_self": null,
            "border": null,
            "bottom": null,
            "display": null,
            "flex": null,
            "flex_flow": null,
            "grid_area": null,
            "grid_auto_columns": null,
            "grid_auto_flow": null,
            "grid_auto_rows": null,
            "grid_column": null,
            "grid_gap": null,
            "grid_row": null,
            "grid_template_areas": null,
            "grid_template_columns": null,
            "grid_template_rows": null,
            "height": null,
            "justify_content": null,
            "justify_items": null,
            "left": null,
            "margin": null,
            "max_height": null,
            "max_width": null,
            "min_height": null,
            "min_width": null,
            "object_fit": null,
            "object_position": null,
            "order": null,
            "overflow": null,
            "overflow_x": null,
            "overflow_y": null,
            "padding": null,
            "right": null,
            "top": null,
            "visibility": null,
            "width": null
          }
        },
        "6e22d1426cff4f998a499ede6a1c1546": {
          "model_module": "@jupyter-widgets/base",
          "model_module_version": "1.2.0",
          "model_name": "LayoutModel",
          "state": {
            "_model_module": "@jupyter-widgets/base",
            "_model_module_version": "1.2.0",
            "_model_name": "LayoutModel",
            "_view_count": null,
            "_view_module": "@jupyter-widgets/base",
            "_view_module_version": "1.2.0",
            "_view_name": "LayoutView",
            "align_content": null,
            "align_items": null,
            "align_self": null,
            "border": null,
            "bottom": null,
            "display": null,
            "flex": null,
            "flex_flow": null,
            "grid_area": null,
            "grid_auto_columns": null,
            "grid_auto_flow": null,
            "grid_auto_rows": null,
            "grid_column": null,
            "grid_gap": null,
            "grid_row": null,
            "grid_template_areas": null,
            "grid_template_columns": null,
            "grid_template_rows": null,
            "height": null,
            "justify_content": null,
            "justify_items": null,
            "left": null,
            "margin": null,
            "max_height": null,
            "max_width": null,
            "min_height": null,
            "min_width": null,
            "object_fit": null,
            "object_position": null,
            "order": null,
            "overflow": null,
            "overflow_x": null,
            "overflow_y": null,
            "padding": null,
            "right": null,
            "top": null,
            "visibility": null,
            "width": null
          }
        },
        "6e3e8179e0d94c688327acb6ff8e9688": {
          "model_module": "@jupyter-widgets/base",
          "model_module_version": "1.2.0",
          "model_name": "LayoutModel",
          "state": {
            "_model_module": "@jupyter-widgets/base",
            "_model_module_version": "1.2.0",
            "_model_name": "LayoutModel",
            "_view_count": null,
            "_view_module": "@jupyter-widgets/base",
            "_view_module_version": "1.2.0",
            "_view_name": "LayoutView",
            "align_content": null,
            "align_items": null,
            "align_self": null,
            "border": null,
            "bottom": null,
            "display": null,
            "flex": null,
            "flex_flow": null,
            "grid_area": null,
            "grid_auto_columns": null,
            "grid_auto_flow": null,
            "grid_auto_rows": null,
            "grid_column": null,
            "grid_gap": null,
            "grid_row": null,
            "grid_template_areas": null,
            "grid_template_columns": null,
            "grid_template_rows": null,
            "height": null,
            "justify_content": null,
            "justify_items": null,
            "left": null,
            "margin": null,
            "max_height": null,
            "max_width": null,
            "min_height": null,
            "min_width": null,
            "object_fit": null,
            "object_position": null,
            "order": null,
            "overflow": null,
            "overflow_x": null,
            "overflow_y": null,
            "padding": null,
            "right": null,
            "top": null,
            "visibility": null,
            "width": null
          }
        },
        "700cbcf34c134ed88552ff6a5d025c34": {
          "model_module": "@jupyter-widgets/base",
          "model_module_version": "1.2.0",
          "model_name": "LayoutModel",
          "state": {
            "_model_module": "@jupyter-widgets/base",
            "_model_module_version": "1.2.0",
            "_model_name": "LayoutModel",
            "_view_count": null,
            "_view_module": "@jupyter-widgets/base",
            "_view_module_version": "1.2.0",
            "_view_name": "LayoutView",
            "align_content": null,
            "align_items": null,
            "align_self": null,
            "border": null,
            "bottom": null,
            "display": null,
            "flex": null,
            "flex_flow": null,
            "grid_area": null,
            "grid_auto_columns": null,
            "grid_auto_flow": null,
            "grid_auto_rows": null,
            "grid_column": null,
            "grid_gap": null,
            "grid_row": null,
            "grid_template_areas": null,
            "grid_template_columns": null,
            "grid_template_rows": null,
            "height": null,
            "justify_content": null,
            "justify_items": null,
            "left": null,
            "margin": null,
            "max_height": null,
            "max_width": null,
            "min_height": null,
            "min_width": null,
            "object_fit": null,
            "object_position": null,
            "order": null,
            "overflow": null,
            "overflow_x": null,
            "overflow_y": null,
            "padding": null,
            "right": null,
            "top": null,
            "visibility": null,
            "width": null
          }
        },
        "71705c1ec7734e1f8a820c10442490cf": {
          "model_module": "@jupyter-widgets/base",
          "model_module_version": "1.2.0",
          "model_name": "LayoutModel",
          "state": {
            "_model_module": "@jupyter-widgets/base",
            "_model_module_version": "1.2.0",
            "_model_name": "LayoutModel",
            "_view_count": null,
            "_view_module": "@jupyter-widgets/base",
            "_view_module_version": "1.2.0",
            "_view_name": "LayoutView",
            "align_content": null,
            "align_items": null,
            "align_self": null,
            "border": null,
            "bottom": null,
            "display": null,
            "flex": null,
            "flex_flow": null,
            "grid_area": null,
            "grid_auto_columns": null,
            "grid_auto_flow": null,
            "grid_auto_rows": null,
            "grid_column": null,
            "grid_gap": null,
            "grid_row": null,
            "grid_template_areas": null,
            "grid_template_columns": null,
            "grid_template_rows": null,
            "height": null,
            "justify_content": null,
            "justify_items": null,
            "left": null,
            "margin": null,
            "max_height": null,
            "max_width": null,
            "min_height": null,
            "min_width": null,
            "object_fit": null,
            "object_position": null,
            "order": null,
            "overflow": null,
            "overflow_x": null,
            "overflow_y": null,
            "padding": null,
            "right": null,
            "top": null,
            "visibility": null,
            "width": null
          }
        },
        "755be41f6c7d44eca3627c5015cbc796": {
          "model_module": "@jupyter-widgets/controls",
          "model_module_version": "1.5.0",
          "model_name": "DescriptionStyleModel",
          "state": {
            "_model_module": "@jupyter-widgets/controls",
            "_model_module_version": "1.5.0",
            "_model_name": "DescriptionStyleModel",
            "_view_count": null,
            "_view_module": "@jupyter-widgets/base",
            "_view_module_version": "1.2.0",
            "_view_name": "StyleView",
            "description_width": ""
          }
        },
        "789e4912d51c446293a1fa9b54f4d8f5": {
          "model_module": "@jupyter-widgets/controls",
          "model_module_version": "1.5.0",
          "model_name": "FloatProgressModel",
          "state": {
            "_dom_classes": [],
            "_model_module": "@jupyter-widgets/controls",
            "_model_module_version": "1.5.0",
            "_model_name": "FloatProgressModel",
            "_view_count": null,
            "_view_module": "@jupyter-widgets/controls",
            "_view_module_version": "1.5.0",
            "_view_name": "ProgressView",
            "bar_style": "success",
            "description": "",
            "description_tooltip": null,
            "layout": "IPY_MODEL_700cbcf34c134ed88552ff6a5d025c34",
            "max": 125,
            "min": 0,
            "orientation": "horizontal",
            "style": "IPY_MODEL_a3cb8859862c45f8aeab8588de0dbb06",
            "value": 125
          }
        },
        "79212e69c8f342f1aa52068b4e5d3316": {
          "model_module": "@jupyter-widgets/base",
          "model_module_version": "1.2.0",
          "model_name": "LayoutModel",
          "state": {
            "_model_module": "@jupyter-widgets/base",
            "_model_module_version": "1.2.0",
            "_model_name": "LayoutModel",
            "_view_count": null,
            "_view_module": "@jupyter-widgets/base",
            "_view_module_version": "1.2.0",
            "_view_name": "LayoutView",
            "align_content": null,
            "align_items": null,
            "align_self": null,
            "border": null,
            "bottom": null,
            "display": null,
            "flex": null,
            "flex_flow": null,
            "grid_area": null,
            "grid_auto_columns": null,
            "grid_auto_flow": null,
            "grid_auto_rows": null,
            "grid_column": null,
            "grid_gap": null,
            "grid_row": null,
            "grid_template_areas": null,
            "grid_template_columns": null,
            "grid_template_rows": null,
            "height": null,
            "justify_content": null,
            "justify_items": null,
            "left": null,
            "margin": null,
            "max_height": null,
            "max_width": null,
            "min_height": null,
            "min_width": null,
            "object_fit": null,
            "object_position": null,
            "order": null,
            "overflow": null,
            "overflow_x": null,
            "overflow_y": null,
            "padding": null,
            "right": null,
            "top": null,
            "visibility": null,
            "width": null
          }
        },
        "7b47fbd60327436c9f47f433466c555e": {
          "model_module": "@jupyter-widgets/controls",
          "model_module_version": "1.5.0",
          "model_name": "ProgressStyleModel",
          "state": {
            "_model_module": "@jupyter-widgets/controls",
            "_model_module_version": "1.5.0",
            "_model_name": "ProgressStyleModel",
            "_view_count": null,
            "_view_module": "@jupyter-widgets/base",
            "_view_module_version": "1.2.0",
            "_view_name": "StyleView",
            "bar_color": null,
            "description_width": ""
          }
        },
        "7cbced73644147c3a014935b340084db": {
          "model_module": "@jupyter-widgets/controls",
          "model_module_version": "1.5.0",
          "model_name": "HTMLModel",
          "state": {
            "_dom_classes": [],
            "_model_module": "@jupyter-widgets/controls",
            "_model_module_version": "1.5.0",
            "_model_name": "HTMLModel",
            "_view_count": null,
            "_view_module": "@jupyter-widgets/controls",
            "_view_module_version": "1.5.0",
            "_view_name": "HTMLView",
            "description": "",
            "description_tooltip": null,
            "layout": "IPY_MODEL_79212e69c8f342f1aa52068b4e5d3316",
            "placeholder": "​",
            "style": "IPY_MODEL_4b8a52ab0bbb4929932e25f2f54f3aec",
            "value": " 157/157 [00:22&lt;00:00,  5.85it/s]"
          }
        },
        "7fae9fc4514d464b9305f2504286d9b2": {
          "model_module": "@jupyter-widgets/base",
          "model_module_version": "1.2.0",
          "model_name": "LayoutModel",
          "state": {
            "_model_module": "@jupyter-widgets/base",
            "_model_module_version": "1.2.0",
            "_model_name": "LayoutModel",
            "_view_count": null,
            "_view_module": "@jupyter-widgets/base",
            "_view_module_version": "1.2.0",
            "_view_name": "LayoutView",
            "align_content": null,
            "align_items": null,
            "align_self": null,
            "border": null,
            "bottom": null,
            "display": null,
            "flex": null,
            "flex_flow": null,
            "grid_area": null,
            "grid_auto_columns": null,
            "grid_auto_flow": null,
            "grid_auto_rows": null,
            "grid_column": null,
            "grid_gap": null,
            "grid_row": null,
            "grid_template_areas": null,
            "grid_template_columns": null,
            "grid_template_rows": null,
            "height": null,
            "justify_content": null,
            "justify_items": null,
            "left": null,
            "margin": null,
            "max_height": null,
            "max_width": null,
            "min_height": null,
            "min_width": null,
            "object_fit": null,
            "object_position": null,
            "order": null,
            "overflow": null,
            "overflow_x": null,
            "overflow_y": null,
            "padding": null,
            "right": null,
            "top": null,
            "visibility": null,
            "width": null
          }
        },
        "858da38c9c904843bbe741da2fe596a2": {
          "model_module": "@jupyter-widgets/controls",
          "model_module_version": "1.5.0",
          "model_name": "FloatProgressModel",
          "state": {
            "_dom_classes": [],
            "_model_module": "@jupyter-widgets/controls",
            "_model_module_version": "1.5.0",
            "_model_name": "FloatProgressModel",
            "_view_count": null,
            "_view_module": "@jupyter-widgets/controls",
            "_view_module_version": "1.5.0",
            "_view_name": "ProgressView",
            "bar_style": "success",
            "description": "",
            "description_tooltip": null,
            "layout": "IPY_MODEL_eb5d5afd82734656a531f2231298c1d2",
            "max": 125,
            "min": 0,
            "orientation": "horizontal",
            "style": "IPY_MODEL_fa4fbd1134014a4cb8c699e85bbfecd2",
            "value": 125
          }
        },
        "8935bda33b3c4aebbf70c2799bc3912c": {
          "model_module": "@jupyter-widgets/base",
          "model_module_version": "1.2.0",
          "model_name": "LayoutModel",
          "state": {
            "_model_module": "@jupyter-widgets/base",
            "_model_module_version": "1.2.0",
            "_model_name": "LayoutModel",
            "_view_count": null,
            "_view_module": "@jupyter-widgets/base",
            "_view_module_version": "1.2.0",
            "_view_name": "LayoutView",
            "align_content": null,
            "align_items": null,
            "align_self": null,
            "border": null,
            "bottom": null,
            "display": null,
            "flex": null,
            "flex_flow": null,
            "grid_area": null,
            "grid_auto_columns": null,
            "grid_auto_flow": null,
            "grid_auto_rows": null,
            "grid_column": null,
            "grid_gap": null,
            "grid_row": null,
            "grid_template_areas": null,
            "grid_template_columns": null,
            "grid_template_rows": null,
            "height": null,
            "justify_content": null,
            "justify_items": null,
            "left": null,
            "margin": null,
            "max_height": null,
            "max_width": null,
            "min_height": null,
            "min_width": null,
            "object_fit": null,
            "object_position": null,
            "order": null,
            "overflow": null,
            "overflow_x": null,
            "overflow_y": null,
            "padding": null,
            "right": null,
            "top": null,
            "visibility": null,
            "width": null
          }
        },
        "8a7b24f63fc2452a8de5e2e4d0851e2a": {
          "model_module": "@jupyter-widgets/base",
          "model_module_version": "1.2.0",
          "model_name": "LayoutModel",
          "state": {
            "_model_module": "@jupyter-widgets/base",
            "_model_module_version": "1.2.0",
            "_model_name": "LayoutModel",
            "_view_count": null,
            "_view_module": "@jupyter-widgets/base",
            "_view_module_version": "1.2.0",
            "_view_name": "LayoutView",
            "align_content": null,
            "align_items": null,
            "align_self": null,
            "border": null,
            "bottom": null,
            "display": null,
            "flex": null,
            "flex_flow": null,
            "grid_area": null,
            "grid_auto_columns": null,
            "grid_auto_flow": null,
            "grid_auto_rows": null,
            "grid_column": null,
            "grid_gap": null,
            "grid_row": null,
            "grid_template_areas": null,
            "grid_template_columns": null,
            "grid_template_rows": null,
            "height": null,
            "justify_content": null,
            "justify_items": null,
            "left": null,
            "margin": null,
            "max_height": null,
            "max_width": null,
            "min_height": null,
            "min_width": null,
            "object_fit": null,
            "object_position": null,
            "order": null,
            "overflow": null,
            "overflow_x": null,
            "overflow_y": null,
            "padding": null,
            "right": null,
            "top": null,
            "visibility": null,
            "width": null
          }
        },
        "8c6a5fc21c694269a24ab384702f35ff": {
          "model_module": "@jupyter-widgets/base",
          "model_module_version": "1.2.0",
          "model_name": "LayoutModel",
          "state": {
            "_model_module": "@jupyter-widgets/base",
            "_model_module_version": "1.2.0",
            "_model_name": "LayoutModel",
            "_view_count": null,
            "_view_module": "@jupyter-widgets/base",
            "_view_module_version": "1.2.0",
            "_view_name": "LayoutView",
            "align_content": null,
            "align_items": null,
            "align_self": null,
            "border": null,
            "bottom": null,
            "display": null,
            "flex": null,
            "flex_flow": null,
            "grid_area": null,
            "grid_auto_columns": null,
            "grid_auto_flow": null,
            "grid_auto_rows": null,
            "grid_column": null,
            "grid_gap": null,
            "grid_row": null,
            "grid_template_areas": null,
            "grid_template_columns": null,
            "grid_template_rows": null,
            "height": null,
            "justify_content": null,
            "justify_items": null,
            "left": null,
            "margin": null,
            "max_height": null,
            "max_width": null,
            "min_height": null,
            "min_width": null,
            "object_fit": null,
            "object_position": null,
            "order": null,
            "overflow": null,
            "overflow_x": null,
            "overflow_y": null,
            "padding": null,
            "right": null,
            "top": null,
            "visibility": null,
            "width": null
          }
        },
        "96e5a48b8d0b4d399189413cc9532180": {
          "model_module": "@jupyter-widgets/controls",
          "model_module_version": "1.5.0",
          "model_name": "HTMLModel",
          "state": {
            "_dom_classes": [],
            "_model_module": "@jupyter-widgets/controls",
            "_model_module_version": "1.5.0",
            "_model_name": "HTMLModel",
            "_view_count": null,
            "_view_module": "@jupyter-widgets/controls",
            "_view_module_version": "1.5.0",
            "_view_name": "HTMLView",
            "description": "",
            "description_tooltip": null,
            "layout": "IPY_MODEL_cd729f63c72b4ec3a020ee0ef335913d",
            "placeholder": "​",
            "style": "IPY_MODEL_baa105270f034043b69463641425fc89",
            "value": " 125/125 [00:16&lt;00:00,  9.64it/s]"
          }
        },
        "9e63baed53d04e379bc27169e0e1440b": {
          "model_module": "@jupyter-widgets/controls",
          "model_module_version": "1.5.0",
          "model_name": "FloatProgressModel",
          "state": {
            "_dom_classes": [],
            "_model_module": "@jupyter-widgets/controls",
            "_model_module_version": "1.5.0",
            "_model_name": "FloatProgressModel",
            "_view_count": null,
            "_view_module": "@jupyter-widgets/controls",
            "_view_module_version": "1.5.0",
            "_view_name": "ProgressView",
            "bar_style": "success",
            "description": "",
            "description_tooltip": null,
            "layout": "IPY_MODEL_d4b6b9e087ac423aa85ec77994168eb3",
            "max": 500,
            "min": 0,
            "orientation": "horizontal",
            "style": "IPY_MODEL_a817f920cf0b42529ee408f43d5593c1",
            "value": 500
          }
        },
        "a3cb8859862c45f8aeab8588de0dbb06": {
          "model_module": "@jupyter-widgets/controls",
          "model_module_version": "1.5.0",
          "model_name": "ProgressStyleModel",
          "state": {
            "_model_module": "@jupyter-widgets/controls",
            "_model_module_version": "1.5.0",
            "_model_name": "ProgressStyleModel",
            "_view_count": null,
            "_view_module": "@jupyter-widgets/base",
            "_view_module_version": "1.2.0",
            "_view_name": "StyleView",
            "bar_color": null,
            "description_width": ""
          }
        },
        "a4ae7c3e36a848849a2db4332cd030bb": {
          "model_module": "@jupyter-widgets/base",
          "model_module_version": "1.2.0",
          "model_name": "LayoutModel",
          "state": {
            "_model_module": "@jupyter-widgets/base",
            "_model_module_version": "1.2.0",
            "_model_name": "LayoutModel",
            "_view_count": null,
            "_view_module": "@jupyter-widgets/base",
            "_view_module_version": "1.2.0",
            "_view_name": "LayoutView",
            "align_content": null,
            "align_items": null,
            "align_self": null,
            "border": null,
            "bottom": null,
            "display": null,
            "flex": null,
            "flex_flow": null,
            "grid_area": null,
            "grid_auto_columns": null,
            "grid_auto_flow": null,
            "grid_auto_rows": null,
            "grid_column": null,
            "grid_gap": null,
            "grid_row": null,
            "grid_template_areas": null,
            "grid_template_columns": null,
            "grid_template_rows": null,
            "height": null,
            "justify_content": null,
            "justify_items": null,
            "left": null,
            "margin": null,
            "max_height": null,
            "max_width": null,
            "min_height": null,
            "min_width": null,
            "object_fit": null,
            "object_position": null,
            "order": null,
            "overflow": null,
            "overflow_x": null,
            "overflow_y": null,
            "padding": null,
            "right": null,
            "top": null,
            "visibility": null,
            "width": null
          }
        },
        "a5743bd40d5740b98e20d52f3e96b012": {
          "model_module": "@jupyter-widgets/controls",
          "model_module_version": "1.5.0",
          "model_name": "HTMLModel",
          "state": {
            "_dom_classes": [],
            "_model_module": "@jupyter-widgets/controls",
            "_model_module_version": "1.5.0",
            "_model_name": "HTMLModel",
            "_view_count": null,
            "_view_module": "@jupyter-widgets/controls",
            "_view_module_version": "1.5.0",
            "_view_name": "HTMLView",
            "description": "",
            "description_tooltip": null,
            "layout": "IPY_MODEL_cbde654709d04e23872d8ffaac9b609e",
            "placeholder": "​",
            "style": "IPY_MODEL_b9c7a8e6b2314046b72c6e2515493eba",
            "value": "Test Loss: 0.6329, Test Acc: 0.6289: 100%"
          }
        },
        "a6cb89e3dc3247ada52c62f2fbf8a1af": {
          "model_module": "@jupyter-widgets/controls",
          "model_module_version": "1.5.0",
          "model_name": "HBoxModel",
          "state": {
            "_dom_classes": [],
            "_model_module": "@jupyter-widgets/controls",
            "_model_module_version": "1.5.0",
            "_model_name": "HBoxModel",
            "_view_count": null,
            "_view_module": "@jupyter-widgets/controls",
            "_view_module_version": "1.5.0",
            "_view_name": "HBoxView",
            "box_style": "",
            "children": [
              "IPY_MODEL_556ae69872ba4dff88da43672dfce104",
              "IPY_MODEL_b9bafa7b91074d4ca65b71898971d66b",
              "IPY_MODEL_7cbced73644147c3a014935b340084db"
            ],
            "layout": "IPY_MODEL_7fae9fc4514d464b9305f2504286d9b2"
          }
        },
        "a7022773413345b79339581d709b061b": {
          "model_module": "@jupyter-widgets/controls",
          "model_module_version": "1.5.0",
          "model_name": "ProgressStyleModel",
          "state": {
            "_model_module": "@jupyter-widgets/controls",
            "_model_module_version": "1.5.0",
            "_model_name": "ProgressStyleModel",
            "_view_count": null,
            "_view_module": "@jupyter-widgets/base",
            "_view_module_version": "1.2.0",
            "_view_name": "StyleView",
            "bar_color": null,
            "description_width": ""
          }
        },
        "a71bdb767e6d48a281691d564355e46b": {
          "model_module": "@jupyter-widgets/base",
          "model_module_version": "1.2.0",
          "model_name": "LayoutModel",
          "state": {
            "_model_module": "@jupyter-widgets/base",
            "_model_module_version": "1.2.0",
            "_model_name": "LayoutModel",
            "_view_count": null,
            "_view_module": "@jupyter-widgets/base",
            "_view_module_version": "1.2.0",
            "_view_name": "LayoutView",
            "align_content": null,
            "align_items": null,
            "align_self": null,
            "border": null,
            "bottom": null,
            "display": null,
            "flex": null,
            "flex_flow": null,
            "grid_area": null,
            "grid_auto_columns": null,
            "grid_auto_flow": null,
            "grid_auto_rows": null,
            "grid_column": null,
            "grid_gap": null,
            "grid_row": null,
            "grid_template_areas": null,
            "grid_template_columns": null,
            "grid_template_rows": null,
            "height": null,
            "justify_content": null,
            "justify_items": null,
            "left": null,
            "margin": null,
            "max_height": null,
            "max_width": null,
            "min_height": null,
            "min_width": null,
            "object_fit": null,
            "object_position": null,
            "order": null,
            "overflow": null,
            "overflow_x": null,
            "overflow_y": null,
            "padding": null,
            "right": null,
            "top": null,
            "visibility": null,
            "width": null
          }
        },
        "a7ab4565606748c39d15fdaa1de1a946": {
          "model_module": "@jupyter-widgets/base",
          "model_module_version": "1.2.0",
          "model_name": "LayoutModel",
          "state": {
            "_model_module": "@jupyter-widgets/base",
            "_model_module_version": "1.2.0",
            "_model_name": "LayoutModel",
            "_view_count": null,
            "_view_module": "@jupyter-widgets/base",
            "_view_module_version": "1.2.0",
            "_view_name": "LayoutView",
            "align_content": null,
            "align_items": null,
            "align_self": null,
            "border": null,
            "bottom": null,
            "display": null,
            "flex": null,
            "flex_flow": null,
            "grid_area": null,
            "grid_auto_columns": null,
            "grid_auto_flow": null,
            "grid_auto_rows": null,
            "grid_column": null,
            "grid_gap": null,
            "grid_row": null,
            "grid_template_areas": null,
            "grid_template_columns": null,
            "grid_template_rows": null,
            "height": null,
            "justify_content": null,
            "justify_items": null,
            "left": null,
            "margin": null,
            "max_height": null,
            "max_width": null,
            "min_height": null,
            "min_width": null,
            "object_fit": null,
            "object_position": null,
            "order": null,
            "overflow": null,
            "overflow_x": null,
            "overflow_y": null,
            "padding": null,
            "right": null,
            "top": null,
            "visibility": null,
            "width": null
          }
        },
        "a807679dacc549538789e14d61044b19": {
          "model_module": "@jupyter-widgets/base",
          "model_module_version": "1.2.0",
          "model_name": "LayoutModel",
          "state": {
            "_model_module": "@jupyter-widgets/base",
            "_model_module_version": "1.2.0",
            "_model_name": "LayoutModel",
            "_view_count": null,
            "_view_module": "@jupyter-widgets/base",
            "_view_module_version": "1.2.0",
            "_view_name": "LayoutView",
            "align_content": null,
            "align_items": null,
            "align_self": null,
            "border": null,
            "bottom": null,
            "display": null,
            "flex": null,
            "flex_flow": null,
            "grid_area": null,
            "grid_auto_columns": null,
            "grid_auto_flow": null,
            "grid_auto_rows": null,
            "grid_column": null,
            "grid_gap": null,
            "grid_row": null,
            "grid_template_areas": null,
            "grid_template_columns": null,
            "grid_template_rows": null,
            "height": null,
            "justify_content": null,
            "justify_items": null,
            "left": null,
            "margin": null,
            "max_height": null,
            "max_width": null,
            "min_height": null,
            "min_width": null,
            "object_fit": null,
            "object_position": null,
            "order": null,
            "overflow": null,
            "overflow_x": null,
            "overflow_y": null,
            "padding": null,
            "right": null,
            "top": null,
            "visibility": null,
            "width": null
          }
        },
        "a817f920cf0b42529ee408f43d5593c1": {
          "model_module": "@jupyter-widgets/controls",
          "model_module_version": "1.5.0",
          "model_name": "ProgressStyleModel",
          "state": {
            "_model_module": "@jupyter-widgets/controls",
            "_model_module_version": "1.5.0",
            "_model_name": "ProgressStyleModel",
            "_view_count": null,
            "_view_module": "@jupyter-widgets/base",
            "_view_module_version": "1.2.0",
            "_view_name": "StyleView",
            "bar_color": null,
            "description_width": ""
          }
        },
        "a9eba41cf970448f9e2e8b8b261cffc8": {
          "model_module": "@jupyter-widgets/controls",
          "model_module_version": "1.5.0",
          "model_name": "FloatProgressModel",
          "state": {
            "_dom_classes": [],
            "_model_module": "@jupyter-widgets/controls",
            "_model_module_version": "1.5.0",
            "_model_name": "FloatProgressModel",
            "_view_count": null,
            "_view_module": "@jupyter-widgets/controls",
            "_view_module_version": "1.5.0",
            "_view_name": "ProgressView",
            "bar_style": "success",
            "description": "",
            "description_tooltip": null,
            "layout": "IPY_MODEL_af595d94143445fcad5cefc098dea2da",
            "max": 125,
            "min": 0,
            "orientation": "horizontal",
            "style": "IPY_MODEL_bd45a0e107cd4094877fd59b2a94e10b",
            "value": 125
          }
        },
        "a9fa748ddbb64956a17f65a5e0cbd4c8": {
          "model_module": "@jupyter-widgets/controls",
          "model_module_version": "1.5.0",
          "model_name": "HTMLModel",
          "state": {
            "_dom_classes": [],
            "_model_module": "@jupyter-widgets/controls",
            "_model_module_version": "1.5.0",
            "_model_name": "HTMLModel",
            "_view_count": null,
            "_view_module": "@jupyter-widgets/controls",
            "_view_module_version": "1.5.0",
            "_view_name": "HTMLView",
            "description": "",
            "description_tooltip": null,
            "layout": "IPY_MODEL_8a7b24f63fc2452a8de5e2e4d0851e2a",
            "placeholder": "​",
            "style": "IPY_MODEL_69006d3a10204ca390285ab6cd59163a",
            "value": "Test Loss: 0.5063, Test Acc: 0.7646: 100%"
          }
        },
        "af595d94143445fcad5cefc098dea2da": {
          "model_module": "@jupyter-widgets/base",
          "model_module_version": "1.2.0",
          "model_name": "LayoutModel",
          "state": {
            "_model_module": "@jupyter-widgets/base",
            "_model_module_version": "1.2.0",
            "_model_name": "LayoutModel",
            "_view_count": null,
            "_view_module": "@jupyter-widgets/base",
            "_view_module_version": "1.2.0",
            "_view_name": "LayoutView",
            "align_content": null,
            "align_items": null,
            "align_self": null,
            "border": null,
            "bottom": null,
            "display": null,
            "flex": null,
            "flex_flow": null,
            "grid_area": null,
            "grid_auto_columns": null,
            "grid_auto_flow": null,
            "grid_auto_rows": null,
            "grid_column": null,
            "grid_gap": null,
            "grid_row": null,
            "grid_template_areas": null,
            "grid_template_columns": null,
            "grid_template_rows": null,
            "height": null,
            "justify_content": null,
            "justify_items": null,
            "left": null,
            "margin": null,
            "max_height": null,
            "max_width": null,
            "min_height": null,
            "min_width": null,
            "object_fit": null,
            "object_position": null,
            "order": null,
            "overflow": null,
            "overflow_x": null,
            "overflow_y": null,
            "padding": null,
            "right": null,
            "top": null,
            "visibility": null,
            "width": null
          }
        },
        "b0a7cfdc86f340e2a013e9527b83e447": {
          "model_module": "@jupyter-widgets/base",
          "model_module_version": "1.2.0",
          "model_name": "LayoutModel",
          "state": {
            "_model_module": "@jupyter-widgets/base",
            "_model_module_version": "1.2.0",
            "_model_name": "LayoutModel",
            "_view_count": null,
            "_view_module": "@jupyter-widgets/base",
            "_view_module_version": "1.2.0",
            "_view_name": "LayoutView",
            "align_content": null,
            "align_items": null,
            "align_self": null,
            "border": null,
            "bottom": null,
            "display": null,
            "flex": null,
            "flex_flow": null,
            "grid_area": null,
            "grid_auto_columns": null,
            "grid_auto_flow": null,
            "grid_auto_rows": null,
            "grid_column": null,
            "grid_gap": null,
            "grid_row": null,
            "grid_template_areas": null,
            "grid_template_columns": null,
            "grid_template_rows": null,
            "height": null,
            "justify_content": null,
            "justify_items": null,
            "left": null,
            "margin": null,
            "max_height": null,
            "max_width": null,
            "min_height": null,
            "min_width": null,
            "object_fit": null,
            "object_position": null,
            "order": null,
            "overflow": null,
            "overflow_x": null,
            "overflow_y": null,
            "padding": null,
            "right": null,
            "top": null,
            "visibility": null,
            "width": null
          }
        },
        "b2d3fa0a115949b6bdc018380bbaa7fd": {
          "model_module": "@jupyter-widgets/base",
          "model_module_version": "1.2.0",
          "model_name": "LayoutModel",
          "state": {
            "_model_module": "@jupyter-widgets/base",
            "_model_module_version": "1.2.0",
            "_model_name": "LayoutModel",
            "_view_count": null,
            "_view_module": "@jupyter-widgets/base",
            "_view_module_version": "1.2.0",
            "_view_name": "LayoutView",
            "align_content": null,
            "align_items": null,
            "align_self": null,
            "border": null,
            "bottom": null,
            "display": null,
            "flex": null,
            "flex_flow": null,
            "grid_area": null,
            "grid_auto_columns": null,
            "grid_auto_flow": null,
            "grid_auto_rows": null,
            "grid_column": null,
            "grid_gap": null,
            "grid_row": null,
            "grid_template_areas": null,
            "grid_template_columns": null,
            "grid_template_rows": null,
            "height": null,
            "justify_content": null,
            "justify_items": null,
            "left": null,
            "margin": null,
            "max_height": null,
            "max_width": null,
            "min_height": null,
            "min_width": null,
            "object_fit": null,
            "object_position": null,
            "order": null,
            "overflow": null,
            "overflow_x": null,
            "overflow_y": null,
            "padding": null,
            "right": null,
            "top": null,
            "visibility": null,
            "width": null
          }
        },
        "b560783728b64d949ec206f1138ad2c7": {
          "model_module": "@jupyter-widgets/base",
          "model_module_version": "1.2.0",
          "model_name": "LayoutModel",
          "state": {
            "_model_module": "@jupyter-widgets/base",
            "_model_module_version": "1.2.0",
            "_model_name": "LayoutModel",
            "_view_count": null,
            "_view_module": "@jupyter-widgets/base",
            "_view_module_version": "1.2.0",
            "_view_name": "LayoutView",
            "align_content": null,
            "align_items": null,
            "align_self": null,
            "border": null,
            "bottom": null,
            "display": null,
            "flex": null,
            "flex_flow": null,
            "grid_area": null,
            "grid_auto_columns": null,
            "grid_auto_flow": null,
            "grid_auto_rows": null,
            "grid_column": null,
            "grid_gap": null,
            "grid_row": null,
            "grid_template_areas": null,
            "grid_template_columns": null,
            "grid_template_rows": null,
            "height": null,
            "justify_content": null,
            "justify_items": null,
            "left": null,
            "margin": null,
            "max_height": null,
            "max_width": null,
            "min_height": null,
            "min_width": null,
            "object_fit": null,
            "object_position": null,
            "order": null,
            "overflow": null,
            "overflow_x": null,
            "overflow_y": null,
            "padding": null,
            "right": null,
            "top": null,
            "visibility": null,
            "width": null
          }
        },
        "b9bafa7b91074d4ca65b71898971d66b": {
          "model_module": "@jupyter-widgets/controls",
          "model_module_version": "1.5.0",
          "model_name": "FloatProgressModel",
          "state": {
            "_dom_classes": [],
            "_model_module": "@jupyter-widgets/controls",
            "_model_module_version": "1.5.0",
            "_model_name": "FloatProgressModel",
            "_view_count": null,
            "_view_module": "@jupyter-widgets/controls",
            "_view_module_version": "1.5.0",
            "_view_name": "ProgressView",
            "bar_style": "success",
            "description": "",
            "description_tooltip": null,
            "layout": "IPY_MODEL_52555c6bbe7a46598ea2278931584150",
            "max": 157,
            "min": 0,
            "orientation": "horizontal",
            "style": "IPY_MODEL_d71630e221c24c4e945fdbb87e3ef61e",
            "value": 157
          }
        },
        "b9c7a8e6b2314046b72c6e2515493eba": {
          "model_module": "@jupyter-widgets/controls",
          "model_module_version": "1.5.0",
          "model_name": "DescriptionStyleModel",
          "state": {
            "_model_module": "@jupyter-widgets/controls",
            "_model_module_version": "1.5.0",
            "_model_name": "DescriptionStyleModel",
            "_view_count": null,
            "_view_module": "@jupyter-widgets/base",
            "_view_module_version": "1.2.0",
            "_view_name": "StyleView",
            "description_width": ""
          }
        },
        "baa105270f034043b69463641425fc89": {
          "model_module": "@jupyter-widgets/controls",
          "model_module_version": "1.5.0",
          "model_name": "DescriptionStyleModel",
          "state": {
            "_model_module": "@jupyter-widgets/controls",
            "_model_module_version": "1.5.0",
            "_model_name": "DescriptionStyleModel",
            "_view_count": null,
            "_view_module": "@jupyter-widgets/base",
            "_view_module_version": "1.2.0",
            "_view_name": "StyleView",
            "description_width": ""
          }
        },
        "bd45a0e107cd4094877fd59b2a94e10b": {
          "model_module": "@jupyter-widgets/controls",
          "model_module_version": "1.5.0",
          "model_name": "ProgressStyleModel",
          "state": {
            "_model_module": "@jupyter-widgets/controls",
            "_model_module_version": "1.5.0",
            "_model_name": "ProgressStyleModel",
            "_view_count": null,
            "_view_module": "@jupyter-widgets/base",
            "_view_module_version": "1.2.0",
            "_view_name": "StyleView",
            "bar_color": null,
            "description_width": ""
          }
        },
        "c0bbcd96481b40fca9e5690b2cac7445": {
          "model_module": "@jupyter-widgets/controls",
          "model_module_version": "1.5.0",
          "model_name": "HBoxModel",
          "state": {
            "_dom_classes": [],
            "_model_module": "@jupyter-widgets/controls",
            "_model_module_version": "1.5.0",
            "_model_name": "HBoxModel",
            "_view_count": null,
            "_view_module": "@jupyter-widgets/controls",
            "_view_module_version": "1.5.0",
            "_view_name": "HBoxView",
            "box_style": "",
            "children": [
              "IPY_MODEL_a5743bd40d5740b98e20d52f3e96b012",
              "IPY_MODEL_3ec229fbdd1745a1b18b5006e7496a1c",
              "IPY_MODEL_c7b29508d48d4b34b4ad8a6fb72a3571"
            ],
            "layout": "IPY_MODEL_6e3e8179e0d94c688327acb6ff8e9688"
          }
        },
        "c7b29508d48d4b34b4ad8a6fb72a3571": {
          "model_module": "@jupyter-widgets/controls",
          "model_module_version": "1.5.0",
          "model_name": "HTMLModel",
          "state": {
            "_dom_classes": [],
            "_model_module": "@jupyter-widgets/controls",
            "_model_module_version": "1.5.0",
            "_model_name": "HTMLModel",
            "_view_count": null,
            "_view_module": "@jupyter-widgets/controls",
            "_view_module_version": "1.5.0",
            "_view_name": "HTMLView",
            "description": "",
            "description_tooltip": null,
            "layout": "IPY_MODEL_5b438e51a6e645719621af691d408254",
            "placeholder": "​",
            "style": "IPY_MODEL_d3a9b1546f354144853116bf50603299",
            "value": " 157/157 [00:30&lt;00:00,  6.08it/s]"
          }
        },
        "cbadb9ae8a614d2b89f422d7cbb394cb": {
          "model_module": "@jupyter-widgets/base",
          "model_module_version": "1.2.0",
          "model_name": "LayoutModel",
          "state": {
            "_model_module": "@jupyter-widgets/base",
            "_model_module_version": "1.2.0",
            "_model_name": "LayoutModel",
            "_view_count": null,
            "_view_module": "@jupyter-widgets/base",
            "_view_module_version": "1.2.0",
            "_view_name": "LayoutView",
            "align_content": null,
            "align_items": null,
            "align_self": null,
            "border": null,
            "bottom": null,
            "display": null,
            "flex": null,
            "flex_flow": null,
            "grid_area": null,
            "grid_auto_columns": null,
            "grid_auto_flow": null,
            "grid_auto_rows": null,
            "grid_column": null,
            "grid_gap": null,
            "grid_row": null,
            "grid_template_areas": null,
            "grid_template_columns": null,
            "grid_template_rows": null,
            "height": null,
            "justify_content": null,
            "justify_items": null,
            "left": null,
            "margin": null,
            "max_height": null,
            "max_width": null,
            "min_height": null,
            "min_width": null,
            "object_fit": null,
            "object_position": null,
            "order": null,
            "overflow": null,
            "overflow_x": null,
            "overflow_y": null,
            "padding": null,
            "right": null,
            "top": null,
            "visibility": null,
            "width": null
          }
        },
        "cbde654709d04e23872d8ffaac9b609e": {
          "model_module": "@jupyter-widgets/base",
          "model_module_version": "1.2.0",
          "model_name": "LayoutModel",
          "state": {
            "_model_module": "@jupyter-widgets/base",
            "_model_module_version": "1.2.0",
            "_model_name": "LayoutModel",
            "_view_count": null,
            "_view_module": "@jupyter-widgets/base",
            "_view_module_version": "1.2.0",
            "_view_name": "LayoutView",
            "align_content": null,
            "align_items": null,
            "align_self": null,
            "border": null,
            "bottom": null,
            "display": null,
            "flex": null,
            "flex_flow": null,
            "grid_area": null,
            "grid_auto_columns": null,
            "grid_auto_flow": null,
            "grid_auto_rows": null,
            "grid_column": null,
            "grid_gap": null,
            "grid_row": null,
            "grid_template_areas": null,
            "grid_template_columns": null,
            "grid_template_rows": null,
            "height": null,
            "justify_content": null,
            "justify_items": null,
            "left": null,
            "margin": null,
            "max_height": null,
            "max_width": null,
            "min_height": null,
            "min_width": null,
            "object_fit": null,
            "object_position": null,
            "order": null,
            "overflow": null,
            "overflow_x": null,
            "overflow_y": null,
            "padding": null,
            "right": null,
            "top": null,
            "visibility": null,
            "width": null
          }
        },
        "cd29a07b48a4451c8c968698fd25a9a5": {
          "model_module": "@jupyter-widgets/base",
          "model_module_version": "1.2.0",
          "model_name": "LayoutModel",
          "state": {
            "_model_module": "@jupyter-widgets/base",
            "_model_module_version": "1.2.0",
            "_model_name": "LayoutModel",
            "_view_count": null,
            "_view_module": "@jupyter-widgets/base",
            "_view_module_version": "1.2.0",
            "_view_name": "LayoutView",
            "align_content": null,
            "align_items": null,
            "align_self": null,
            "border": null,
            "bottom": null,
            "display": null,
            "flex": null,
            "flex_flow": null,
            "grid_area": null,
            "grid_auto_columns": null,
            "grid_auto_flow": null,
            "grid_auto_rows": null,
            "grid_column": null,
            "grid_gap": null,
            "grid_row": null,
            "grid_template_areas": null,
            "grid_template_columns": null,
            "grid_template_rows": null,
            "height": null,
            "justify_content": null,
            "justify_items": null,
            "left": null,
            "margin": null,
            "max_height": null,
            "max_width": null,
            "min_height": null,
            "min_width": null,
            "object_fit": null,
            "object_position": null,
            "order": null,
            "overflow": null,
            "overflow_x": null,
            "overflow_y": null,
            "padding": null,
            "right": null,
            "top": null,
            "visibility": null,
            "width": null
          }
        },
        "cd729f63c72b4ec3a020ee0ef335913d": {
          "model_module": "@jupyter-widgets/base",
          "model_module_version": "1.2.0",
          "model_name": "LayoutModel",
          "state": {
            "_model_module": "@jupyter-widgets/base",
            "_model_module_version": "1.2.0",
            "_model_name": "LayoutModel",
            "_view_count": null,
            "_view_module": "@jupyter-widgets/base",
            "_view_module_version": "1.2.0",
            "_view_name": "LayoutView",
            "align_content": null,
            "align_items": null,
            "align_self": null,
            "border": null,
            "bottom": null,
            "display": null,
            "flex": null,
            "flex_flow": null,
            "grid_area": null,
            "grid_auto_columns": null,
            "grid_auto_flow": null,
            "grid_auto_rows": null,
            "grid_column": null,
            "grid_gap": null,
            "grid_row": null,
            "grid_template_areas": null,
            "grid_template_columns": null,
            "grid_template_rows": null,
            "height": null,
            "justify_content": null,
            "justify_items": null,
            "left": null,
            "margin": null,
            "max_height": null,
            "max_width": null,
            "min_height": null,
            "min_width": null,
            "object_fit": null,
            "object_position": null,
            "order": null,
            "overflow": null,
            "overflow_x": null,
            "overflow_y": null,
            "padding": null,
            "right": null,
            "top": null,
            "visibility": null,
            "width": null
          }
        },
        "cec2c6c75c624d0ab2970624e6d5c707": {
          "model_module": "@jupyter-widgets/base",
          "model_module_version": "1.2.0",
          "model_name": "LayoutModel",
          "state": {
            "_model_module": "@jupyter-widgets/base",
            "_model_module_version": "1.2.0",
            "_model_name": "LayoutModel",
            "_view_count": null,
            "_view_module": "@jupyter-widgets/base",
            "_view_module_version": "1.2.0",
            "_view_name": "LayoutView",
            "align_content": null,
            "align_items": null,
            "align_self": null,
            "border": null,
            "bottom": null,
            "display": null,
            "flex": null,
            "flex_flow": null,
            "grid_area": null,
            "grid_auto_columns": null,
            "grid_auto_flow": null,
            "grid_auto_rows": null,
            "grid_column": null,
            "grid_gap": null,
            "grid_row": null,
            "grid_template_areas": null,
            "grid_template_columns": null,
            "grid_template_rows": null,
            "height": null,
            "justify_content": null,
            "justify_items": null,
            "left": null,
            "margin": null,
            "max_height": null,
            "max_width": null,
            "min_height": null,
            "min_width": null,
            "object_fit": null,
            "object_position": null,
            "order": null,
            "overflow": null,
            "overflow_x": null,
            "overflow_y": null,
            "padding": null,
            "right": null,
            "top": null,
            "visibility": null,
            "width": null
          }
        },
        "cf1b110b5add49f283ece7324a0bf5a5": {
          "model_module": "@jupyter-widgets/base",
          "model_module_version": "1.2.0",
          "model_name": "LayoutModel",
          "state": {
            "_model_module": "@jupyter-widgets/base",
            "_model_module_version": "1.2.0",
            "_model_name": "LayoutModel",
            "_view_count": null,
            "_view_module": "@jupyter-widgets/base",
            "_view_module_version": "1.2.0",
            "_view_name": "LayoutView",
            "align_content": null,
            "align_items": null,
            "align_self": null,
            "border": null,
            "bottom": null,
            "display": null,
            "flex": null,
            "flex_flow": null,
            "grid_area": null,
            "grid_auto_columns": null,
            "grid_auto_flow": null,
            "grid_auto_rows": null,
            "grid_column": null,
            "grid_gap": null,
            "grid_row": null,
            "grid_template_areas": null,
            "grid_template_columns": null,
            "grid_template_rows": null,
            "height": null,
            "justify_content": null,
            "justify_items": null,
            "left": null,
            "margin": null,
            "max_height": null,
            "max_width": null,
            "min_height": null,
            "min_width": null,
            "object_fit": null,
            "object_position": null,
            "order": null,
            "overflow": null,
            "overflow_x": null,
            "overflow_y": null,
            "padding": null,
            "right": null,
            "top": null,
            "visibility": null,
            "width": null
          }
        },
        "d1081522c36c48538990df54aa456e23": {
          "model_module": "@jupyter-widgets/controls",
          "model_module_version": "1.5.0",
          "model_name": "ProgressStyleModel",
          "state": {
            "_model_module": "@jupyter-widgets/controls",
            "_model_module_version": "1.5.0",
            "_model_name": "ProgressStyleModel",
            "_view_count": null,
            "_view_module": "@jupyter-widgets/base",
            "_view_module_version": "1.2.0",
            "_view_name": "StyleView",
            "bar_color": null,
            "description_width": ""
          }
        },
        "d1f3626ec81046698fbd6f7ced40e6e9": {
          "model_module": "@jupyter-widgets/controls",
          "model_module_version": "1.5.0",
          "model_name": "HTMLModel",
          "state": {
            "_dom_classes": [],
            "_model_module": "@jupyter-widgets/controls",
            "_model_module_version": "1.5.0",
            "_model_name": "HTMLModel",
            "_view_count": null,
            "_view_module": "@jupyter-widgets/controls",
            "_view_module_version": "1.5.0",
            "_view_name": "HTMLView",
            "description": "",
            "description_tooltip": null,
            "layout": "IPY_MODEL_a4ae7c3e36a848849a2db4332cd030bb",
            "placeholder": "​",
            "style": "IPY_MODEL_755be41f6c7d44eca3627c5015cbc796",
            "value": "Test Loss: 0.5545, Test Acc: 0.6992: 100%"
          }
        },
        "d3a9b1546f354144853116bf50603299": {
          "model_module": "@jupyter-widgets/controls",
          "model_module_version": "1.5.0",
          "model_name": "DescriptionStyleModel",
          "state": {
            "_model_module": "@jupyter-widgets/controls",
            "_model_module_version": "1.5.0",
            "_model_name": "DescriptionStyleModel",
            "_view_count": null,
            "_view_module": "@jupyter-widgets/base",
            "_view_module_version": "1.2.0",
            "_view_name": "StyleView",
            "description_width": ""
          }
        },
        "d4b6b9e087ac423aa85ec77994168eb3": {
          "model_module": "@jupyter-widgets/base",
          "model_module_version": "1.2.0",
          "model_name": "LayoutModel",
          "state": {
            "_model_module": "@jupyter-widgets/base",
            "_model_module_version": "1.2.0",
            "_model_name": "LayoutModel",
            "_view_count": null,
            "_view_module": "@jupyter-widgets/base",
            "_view_module_version": "1.2.0",
            "_view_name": "LayoutView",
            "align_content": null,
            "align_items": null,
            "align_self": null,
            "border": null,
            "bottom": null,
            "display": null,
            "flex": null,
            "flex_flow": null,
            "grid_area": null,
            "grid_auto_columns": null,
            "grid_auto_flow": null,
            "grid_auto_rows": null,
            "grid_column": null,
            "grid_gap": null,
            "grid_row": null,
            "grid_template_areas": null,
            "grid_template_columns": null,
            "grid_template_rows": null,
            "height": null,
            "justify_content": null,
            "justify_items": null,
            "left": null,
            "margin": null,
            "max_height": null,
            "max_width": null,
            "min_height": null,
            "min_width": null,
            "object_fit": null,
            "object_position": null,
            "order": null,
            "overflow": null,
            "overflow_x": null,
            "overflow_y": null,
            "padding": null,
            "right": null,
            "top": null,
            "visibility": null,
            "width": null
          }
        },
        "d71630e221c24c4e945fdbb87e3ef61e": {
          "model_module": "@jupyter-widgets/controls",
          "model_module_version": "1.5.0",
          "model_name": "ProgressStyleModel",
          "state": {
            "_model_module": "@jupyter-widgets/controls",
            "_model_module_version": "1.5.0",
            "_model_name": "ProgressStyleModel",
            "_view_count": null,
            "_view_module": "@jupyter-widgets/base",
            "_view_module_version": "1.2.0",
            "_view_name": "StyleView",
            "bar_color": null,
            "description_width": ""
          }
        },
        "d9621ad73c40453e8a0530020af7143c": {
          "model_module": "@jupyter-widgets/controls",
          "model_module_version": "1.5.0",
          "model_name": "FloatProgressModel",
          "state": {
            "_dom_classes": [],
            "_model_module": "@jupyter-widgets/controls",
            "_model_module_version": "1.5.0",
            "_model_name": "FloatProgressModel",
            "_view_count": null,
            "_view_module": "@jupyter-widgets/controls",
            "_view_module_version": "1.5.0",
            "_view_name": "ProgressView",
            "bar_style": "success",
            "description": "",
            "description_tooltip": null,
            "layout": "IPY_MODEL_8c6a5fc21c694269a24ab384702f35ff",
            "max": 157,
            "min": 0,
            "orientation": "horizontal",
            "style": "IPY_MODEL_d1081522c36c48538990df54aa456e23",
            "value": 157
          }
        },
        "da00704562244583bc389ac9852bc10f": {
          "model_module": "@jupyter-widgets/controls",
          "model_module_version": "1.5.0",
          "model_name": "HBoxModel",
          "state": {
            "_dom_classes": [],
            "_model_module": "@jupyter-widgets/controls",
            "_model_module_version": "1.5.0",
            "_model_name": "HBoxModel",
            "_view_count": null,
            "_view_module": "@jupyter-widgets/controls",
            "_view_module_version": "1.5.0",
            "_view_name": "HBoxView",
            "box_style": "",
            "children": [
              "IPY_MODEL_3467bf2be8034ed18508df858879d4bd",
              "IPY_MODEL_789e4912d51c446293a1fa9b54f4d8f5",
              "IPY_MODEL_629f73e345034185b4b320ebc5816fd8"
            ],
            "layout": "IPY_MODEL_b2d3fa0a115949b6bdc018380bbaa7fd"
          }
        },
        "dd974c9d91aa4265a02bd084484a2c37": {
          "model_module": "@jupyter-widgets/base",
          "model_module_version": "1.2.0",
          "model_name": "LayoutModel",
          "state": {
            "_model_module": "@jupyter-widgets/base",
            "_model_module_version": "1.2.0",
            "_model_name": "LayoutModel",
            "_view_count": null,
            "_view_module": "@jupyter-widgets/base",
            "_view_module_version": "1.2.0",
            "_view_name": "LayoutView",
            "align_content": null,
            "align_items": null,
            "align_self": null,
            "border": null,
            "bottom": null,
            "display": null,
            "flex": null,
            "flex_flow": null,
            "grid_area": null,
            "grid_auto_columns": null,
            "grid_auto_flow": null,
            "grid_auto_rows": null,
            "grid_column": null,
            "grid_gap": null,
            "grid_row": null,
            "grid_template_areas": null,
            "grid_template_columns": null,
            "grid_template_rows": null,
            "height": null,
            "justify_content": null,
            "justify_items": null,
            "left": null,
            "margin": null,
            "max_height": null,
            "max_width": null,
            "min_height": null,
            "min_width": null,
            "object_fit": null,
            "object_position": null,
            "order": null,
            "overflow": null,
            "overflow_x": null,
            "overflow_y": null,
            "padding": null,
            "right": null,
            "top": null,
            "visibility": null,
            "width": null
          }
        },
        "e4662fa9bc2548c6829867ca324293fa": {
          "model_module": "@jupyter-widgets/base",
          "model_module_version": "1.2.0",
          "model_name": "LayoutModel",
          "state": {
            "_model_module": "@jupyter-widgets/base",
            "_model_module_version": "1.2.0",
            "_model_name": "LayoutModel",
            "_view_count": null,
            "_view_module": "@jupyter-widgets/base",
            "_view_module_version": "1.2.0",
            "_view_name": "LayoutView",
            "align_content": null,
            "align_items": null,
            "align_self": null,
            "border": null,
            "bottom": null,
            "display": null,
            "flex": null,
            "flex_flow": null,
            "grid_area": null,
            "grid_auto_columns": null,
            "grid_auto_flow": null,
            "grid_auto_rows": null,
            "grid_column": null,
            "grid_gap": null,
            "grid_row": null,
            "grid_template_areas": null,
            "grid_template_columns": null,
            "grid_template_rows": null,
            "height": null,
            "justify_content": null,
            "justify_items": null,
            "left": null,
            "margin": null,
            "max_height": null,
            "max_width": null,
            "min_height": null,
            "min_width": null,
            "object_fit": null,
            "object_position": null,
            "order": null,
            "overflow": null,
            "overflow_x": null,
            "overflow_y": null,
            "padding": null,
            "right": null,
            "top": null,
            "visibility": null,
            "width": null
          }
        },
        "e46eff24472d417c960ed43367ab4a4f": {
          "model_module": "@jupyter-widgets/controls",
          "model_module_version": "1.5.0",
          "model_name": "DescriptionStyleModel",
          "state": {
            "_model_module": "@jupyter-widgets/controls",
            "_model_module_version": "1.5.0",
            "_model_name": "DescriptionStyleModel",
            "_view_count": null,
            "_view_module": "@jupyter-widgets/base",
            "_view_module_version": "1.2.0",
            "_view_name": "StyleView",
            "description_width": ""
          }
        },
        "eb5d5afd82734656a531f2231298c1d2": {
          "model_module": "@jupyter-widgets/base",
          "model_module_version": "1.2.0",
          "model_name": "LayoutModel",
          "state": {
            "_model_module": "@jupyter-widgets/base",
            "_model_module_version": "1.2.0",
            "_model_name": "LayoutModel",
            "_view_count": null,
            "_view_module": "@jupyter-widgets/base",
            "_view_module_version": "1.2.0",
            "_view_name": "LayoutView",
            "align_content": null,
            "align_items": null,
            "align_self": null,
            "border": null,
            "bottom": null,
            "display": null,
            "flex": null,
            "flex_flow": null,
            "grid_area": null,
            "grid_auto_columns": null,
            "grid_auto_flow": null,
            "grid_auto_rows": null,
            "grid_column": null,
            "grid_gap": null,
            "grid_row": null,
            "grid_template_areas": null,
            "grid_template_columns": null,
            "grid_template_rows": null,
            "height": null,
            "justify_content": null,
            "justify_items": null,
            "left": null,
            "margin": null,
            "max_height": null,
            "max_width": null,
            "min_height": null,
            "min_width": null,
            "object_fit": null,
            "object_position": null,
            "order": null,
            "overflow": null,
            "overflow_x": null,
            "overflow_y": null,
            "padding": null,
            "right": null,
            "top": null,
            "visibility": null,
            "width": null
          }
        },
        "ec67bd79b39449ab9a7ad4029ef40a3a": {
          "model_module": "@jupyter-widgets/controls",
          "model_module_version": "1.5.0",
          "model_name": "HTMLModel",
          "state": {
            "_dom_classes": [],
            "_model_module": "@jupyter-widgets/controls",
            "_model_module_version": "1.5.0",
            "_model_name": "HTMLModel",
            "_view_count": null,
            "_view_module": "@jupyter-widgets/controls",
            "_view_module_version": "1.5.0",
            "_view_name": "HTMLView",
            "description": "",
            "description_tooltip": null,
            "layout": "IPY_MODEL_cec2c6c75c624d0ab2970624e6d5c707",
            "placeholder": "​",
            "style": "IPY_MODEL_1747eb0cfa7c4bbdb399c560bf4419fa",
            "value": " 157/157 [00:24&lt;00:00,  7.09it/s]"
          }
        },
        "ee60fdfc0fa34be49b18ddbf223a5eb6": {
          "model_module": "@jupyter-widgets/controls",
          "model_module_version": "1.5.0",
          "model_name": "FloatProgressModel",
          "state": {
            "_dom_classes": [],
            "_model_module": "@jupyter-widgets/controls",
            "_model_module_version": "1.5.0",
            "_model_name": "FloatProgressModel",
            "_view_count": null,
            "_view_module": "@jupyter-widgets/controls",
            "_view_module_version": "1.5.0",
            "_view_name": "ProgressView",
            "bar_style": "success",
            "description": "",
            "description_tooltip": null,
            "layout": "IPY_MODEL_dd974c9d91aa4265a02bd084484a2c37",
            "max": 500,
            "min": 0,
            "orientation": "horizontal",
            "style": "IPY_MODEL_a7022773413345b79339581d709b061b",
            "value": 500
          }
        },
        "fa4fbd1134014a4cb8c699e85bbfecd2": {
          "model_module": "@jupyter-widgets/controls",
          "model_module_version": "1.5.0",
          "model_name": "ProgressStyleModel",
          "state": {
            "_model_module": "@jupyter-widgets/controls",
            "_model_module_version": "1.5.0",
            "_model_name": "ProgressStyleModel",
            "_view_count": null,
            "_view_module": "@jupyter-widgets/base",
            "_view_module_version": "1.2.0",
            "_view_name": "StyleView",
            "bar_color": null,
            "description_width": ""
          }
        },
        "fa7343b6edbd49a8a787020dcf094bfb": {
          "model_module": "@jupyter-widgets/controls",
          "model_module_version": "1.5.0",
          "model_name": "HBoxModel",
          "state": {
            "_dom_classes": [],
            "_model_module": "@jupyter-widgets/controls",
            "_model_module_version": "1.5.0",
            "_model_name": "HBoxModel",
            "_view_count": null,
            "_view_module": "@jupyter-widgets/controls",
            "_view_module_version": "1.5.0",
            "_view_name": "HBoxView",
            "box_style": "",
            "children": [
              "IPY_MODEL_42289742da9148b180334c2c2cbf2c8f",
              "IPY_MODEL_858da38c9c904843bbe741da2fe596a2",
              "IPY_MODEL_1c9165ef436043ddb2b53bb2c8f7ad29"
            ],
            "layout": "IPY_MODEL_a71bdb767e6d48a281691d564355e46b"
          }
        }
      }
    }
  },
  "nbformat": 4,
  "nbformat_minor": 0
}
