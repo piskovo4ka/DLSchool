{
  "nbformat": 4,
  "nbformat_minor": 0,
  "metadata": {
    "accelerator": "GPU",
    "colab": {
      "provenance": []
    },
    "kernelspec": {
      "display_name": "Python 3",
      "name": "python3"
    },
    "widgets": {
      "application/vnd.jupyter.widget-state+json": {
        "37fa73980b92428da13d61905f24949e": {
          "model_module": "@jupyter-widgets/controls",
          "model_name": "HBoxModel",
          "model_module_version": "1.5.0",
          "state": {
            "_dom_classes": [],
            "_model_module": "@jupyter-widgets/controls",
            "_model_module_version": "1.5.0",
            "_model_name": "HBoxModel",
            "_view_count": null,
            "_view_module": "@jupyter-widgets/controls",
            "_view_module_version": "1.5.0",
            "_view_name": "HBoxView",
            "box_style": "",
            "children": [
              "IPY_MODEL_3f88e035c6ca4a329499ab1c49fe29a1",
              "IPY_MODEL_c54a12380c1e4311b3f458a12ece88b8",
              "IPY_MODEL_f051d3f32c9a47beaa4bc9343fc032af"
            ],
            "layout": "IPY_MODEL_e62a0fc6b5e747eaac373d0e45ae2f69"
          }
        },
        "3f88e035c6ca4a329499ab1c49fe29a1": {
          "model_module": "@jupyter-widgets/controls",
          "model_name": "HTMLModel",
          "model_module_version": "1.5.0",
          "state": {
            "_dom_classes": [],
            "_model_module": "@jupyter-widgets/controls",
            "_model_module_version": "1.5.0",
            "_model_name": "HTMLModel",
            "_view_count": null,
            "_view_module": "@jupyter-widgets/controls",
            "_view_module_version": "1.5.0",
            "_view_name": "HTMLView",
            "description": "",
            "description_tooltip": null,
            "layout": "IPY_MODEL_d1f7230b261b46d8af706ddae0bd45ef",
            "placeholder": "​",
            "style": "IPY_MODEL_1d4bc9d5a57949c1829d30b381dc5cbf",
            "value": ""
          }
        },
        "c54a12380c1e4311b3f458a12ece88b8": {
          "model_module": "@jupyter-widgets/controls",
          "model_name": "FloatProgressModel",
          "model_module_version": "1.5.0",
          "state": {
            "_dom_classes": [],
            "_model_module": "@jupyter-widgets/controls",
            "_model_module_version": "1.5.0",
            "_model_name": "FloatProgressModel",
            "_view_count": null,
            "_view_module": "@jupyter-widgets/controls",
            "_view_module_version": "1.5.0",
            "_view_name": "ProgressView",
            "bar_style": "danger",
            "description": "",
            "description_tooltip": null,
            "layout": "IPY_MODEL_97802d99704042f08b69766c41f56d16",
            "max": 1,
            "min": 0,
            "orientation": "horizontal",
            "style": "IPY_MODEL_a1e49b58213f46a0aaead77fe764b2bf",
            "value": 1
          }
        },
        "f051d3f32c9a47beaa4bc9343fc032af": {
          "model_module": "@jupyter-widgets/controls",
          "model_name": "HTMLModel",
          "model_module_version": "1.5.0",
          "state": {
            "_dom_classes": [],
            "_model_module": "@jupyter-widgets/controls",
            "_model_module_version": "1.5.0",
            "_model_name": "HTMLModel",
            "_view_count": null,
            "_view_module": "@jupyter-widgets/controls",
            "_view_module_version": "1.5.0",
            "_view_name": "HTMLView",
            "description": "",
            "description_tooltip": null,
            "layout": "IPY_MODEL_2fc0d7acee794639a2554131d8e50f0f",
            "placeholder": "​",
            "style": "IPY_MODEL_1bef78f615d64740ada4034fb4adbe36",
            "value": " 2048/? [04:42&lt;00:00, 13.32it/s]"
          }
        },
        "e62a0fc6b5e747eaac373d0e45ae2f69": {
          "model_module": "@jupyter-widgets/base",
          "model_name": "LayoutModel",
          "model_module_version": "1.2.0",
          "state": {
            "_model_module": "@jupyter-widgets/base",
            "_model_module_version": "1.2.0",
            "_model_name": "LayoutModel",
            "_view_count": null,
            "_view_module": "@jupyter-widgets/base",
            "_view_module_version": "1.2.0",
            "_view_name": "LayoutView",
            "align_content": null,
            "align_items": null,
            "align_self": null,
            "border": null,
            "bottom": null,
            "display": null,
            "flex": null,
            "flex_flow": null,
            "grid_area": null,
            "grid_auto_columns": null,
            "grid_auto_flow": null,
            "grid_auto_rows": null,
            "grid_column": null,
            "grid_gap": null,
            "grid_row": null,
            "grid_template_areas": null,
            "grid_template_columns": null,
            "grid_template_rows": null,
            "height": null,
            "justify_content": null,
            "justify_items": null,
            "left": null,
            "margin": null,
            "max_height": null,
            "max_width": null,
            "min_height": null,
            "min_width": null,
            "object_fit": null,
            "object_position": null,
            "order": null,
            "overflow": null,
            "overflow_x": null,
            "overflow_y": null,
            "padding": null,
            "right": null,
            "top": null,
            "visibility": null,
            "width": null
          }
        },
        "d1f7230b261b46d8af706ddae0bd45ef": {
          "model_module": "@jupyter-widgets/base",
          "model_name": "LayoutModel",
          "model_module_version": "1.2.0",
          "state": {
            "_model_module": "@jupyter-widgets/base",
            "_model_module_version": "1.2.0",
            "_model_name": "LayoutModel",
            "_view_count": null,
            "_view_module": "@jupyter-widgets/base",
            "_view_module_version": "1.2.0",
            "_view_name": "LayoutView",
            "align_content": null,
            "align_items": null,
            "align_self": null,
            "border": null,
            "bottom": null,
            "display": null,
            "flex": null,
            "flex_flow": null,
            "grid_area": null,
            "grid_auto_columns": null,
            "grid_auto_flow": null,
            "grid_auto_rows": null,
            "grid_column": null,
            "grid_gap": null,
            "grid_row": null,
            "grid_template_areas": null,
            "grid_template_columns": null,
            "grid_template_rows": null,
            "height": null,
            "justify_content": null,
            "justify_items": null,
            "left": null,
            "margin": null,
            "max_height": null,
            "max_width": null,
            "min_height": null,
            "min_width": null,
            "object_fit": null,
            "object_position": null,
            "order": null,
            "overflow": null,
            "overflow_x": null,
            "overflow_y": null,
            "padding": null,
            "right": null,
            "top": null,
            "visibility": null,
            "width": null
          }
        },
        "1d4bc9d5a57949c1829d30b381dc5cbf": {
          "model_module": "@jupyter-widgets/controls",
          "model_name": "DescriptionStyleModel",
          "model_module_version": "1.5.0",
          "state": {
            "_model_module": "@jupyter-widgets/controls",
            "_model_module_version": "1.5.0",
            "_model_name": "DescriptionStyleModel",
            "_view_count": null,
            "_view_module": "@jupyter-widgets/base",
            "_view_module_version": "1.2.0",
            "_view_name": "StyleView",
            "description_width": ""
          }
        },
        "97802d99704042f08b69766c41f56d16": {
          "model_module": "@jupyter-widgets/base",
          "model_name": "LayoutModel",
          "model_module_version": "1.2.0",
          "state": {
            "_model_module": "@jupyter-widgets/base",
            "_model_module_version": "1.2.0",
            "_model_name": "LayoutModel",
            "_view_count": null,
            "_view_module": "@jupyter-widgets/base",
            "_view_module_version": "1.2.0",
            "_view_name": "LayoutView",
            "align_content": null,
            "align_items": null,
            "align_self": null,
            "border": null,
            "bottom": null,
            "display": null,
            "flex": null,
            "flex_flow": null,
            "grid_area": null,
            "grid_auto_columns": null,
            "grid_auto_flow": null,
            "grid_auto_rows": null,
            "grid_column": null,
            "grid_gap": null,
            "grid_row": null,
            "grid_template_areas": null,
            "grid_template_columns": null,
            "grid_template_rows": null,
            "height": null,
            "justify_content": null,
            "justify_items": null,
            "left": null,
            "margin": null,
            "max_height": null,
            "max_width": null,
            "min_height": null,
            "min_width": null,
            "object_fit": null,
            "object_position": null,
            "order": null,
            "overflow": null,
            "overflow_x": null,
            "overflow_y": null,
            "padding": null,
            "right": null,
            "top": null,
            "visibility": null,
            "width": "20px"
          }
        },
        "a1e49b58213f46a0aaead77fe764b2bf": {
          "model_module": "@jupyter-widgets/controls",
          "model_name": "ProgressStyleModel",
          "model_module_version": "1.5.0",
          "state": {
            "_model_module": "@jupyter-widgets/controls",
            "_model_module_version": "1.5.0",
            "_model_name": "ProgressStyleModel",
            "_view_count": null,
            "_view_module": "@jupyter-widgets/base",
            "_view_module_version": "1.2.0",
            "_view_name": "StyleView",
            "bar_color": null,
            "description_width": ""
          }
        },
        "2fc0d7acee794639a2554131d8e50f0f": {
          "model_module": "@jupyter-widgets/base",
          "model_name": "LayoutModel",
          "model_module_version": "1.2.0",
          "state": {
            "_model_module": "@jupyter-widgets/base",
            "_model_module_version": "1.2.0",
            "_model_name": "LayoutModel",
            "_view_count": null,
            "_view_module": "@jupyter-widgets/base",
            "_view_module_version": "1.2.0",
            "_view_name": "LayoutView",
            "align_content": null,
            "align_items": null,
            "align_self": null,
            "border": null,
            "bottom": null,
            "display": null,
            "flex": null,
            "flex_flow": null,
            "grid_area": null,
            "grid_auto_columns": null,
            "grid_auto_flow": null,
            "grid_auto_rows": null,
            "grid_column": null,
            "grid_gap": null,
            "grid_row": null,
            "grid_template_areas": null,
            "grid_template_columns": null,
            "grid_template_rows": null,
            "height": null,
            "justify_content": null,
            "justify_items": null,
            "left": null,
            "margin": null,
            "max_height": null,
            "max_width": null,
            "min_height": null,
            "min_width": null,
            "object_fit": null,
            "object_position": null,
            "order": null,
            "overflow": null,
            "overflow_x": null,
            "overflow_y": null,
            "padding": null,
            "right": null,
            "top": null,
            "visibility": null,
            "width": null
          }
        },
        "1bef78f615d64740ada4034fb4adbe36": {
          "model_module": "@jupyter-widgets/controls",
          "model_name": "DescriptionStyleModel",
          "model_module_version": "1.5.0",
          "state": {
            "_model_module": "@jupyter-widgets/controls",
            "_model_module_version": "1.5.0",
            "_model_name": "DescriptionStyleModel",
            "_view_count": null,
            "_view_module": "@jupyter-widgets/base",
            "_view_module_version": "1.2.0",
            "_view_name": "StyleView",
            "description_width": ""
          }
        },
        "5d0ec941bae24dcd8531f992687b64d3": {
          "model_module": "@jupyter-widgets/controls",
          "model_name": "HBoxModel",
          "model_module_version": "1.5.0",
          "state": {
            "_dom_classes": [],
            "_model_module": "@jupyter-widgets/controls",
            "_model_module_version": "1.5.0",
            "_model_name": "HBoxModel",
            "_view_count": null,
            "_view_module": "@jupyter-widgets/controls",
            "_view_module_version": "1.5.0",
            "_view_name": "HBoxView",
            "box_style": "",
            "children": [
              "IPY_MODEL_fbc6b37fbf214006b45f43f618a929e0",
              "IPY_MODEL_b06e174c3f7b4c00986f23abf5f883d4",
              "IPY_MODEL_dabd6dd186934d269943ef0e2dcfc6ea"
            ],
            "layout": "IPY_MODEL_8a5c7403f66743a8a2e5f0ba350b86a1"
          }
        },
        "fbc6b37fbf214006b45f43f618a929e0": {
          "model_module": "@jupyter-widgets/controls",
          "model_name": "HTMLModel",
          "model_module_version": "1.5.0",
          "state": {
            "_dom_classes": [],
            "_model_module": "@jupyter-widgets/controls",
            "_model_module_version": "1.5.0",
            "_model_name": "HTMLModel",
            "_view_count": null,
            "_view_module": "@jupyter-widgets/controls",
            "_view_module_version": "1.5.0",
            "_view_name": "HTMLView",
            "description": "",
            "description_tooltip": null,
            "layout": "IPY_MODEL_45bd969b5ac44b83bbcf787a134a8e4b",
            "placeholder": "​",
            "style": "IPY_MODEL_13973193504647f9bb05a6a65cbd5923",
            "value": ""
          }
        },
        "b06e174c3f7b4c00986f23abf5f883d4": {
          "model_module": "@jupyter-widgets/controls",
          "model_name": "FloatProgressModel",
          "model_module_version": "1.5.0",
          "state": {
            "_dom_classes": [],
            "_model_module": "@jupyter-widgets/controls",
            "_model_module_version": "1.5.0",
            "_model_name": "FloatProgressModel",
            "_view_count": null,
            "_view_module": "@jupyter-widgets/controls",
            "_view_module_version": "1.5.0",
            "_view_name": "ProgressView",
            "bar_style": "danger",
            "description": "",
            "description_tooltip": null,
            "layout": "IPY_MODEL_df9f5f3844bc43ddb24a510b776df576",
            "max": 1,
            "min": 0,
            "orientation": "horizontal",
            "style": "IPY_MODEL_ff3006f195d44ccfa10795d0fb0b0298",
            "value": 1
          }
        },
        "dabd6dd186934d269943ef0e2dcfc6ea": {
          "model_module": "@jupyter-widgets/controls",
          "model_name": "HTMLModel",
          "model_module_version": "1.5.0",
          "state": {
            "_dom_classes": [],
            "_model_module": "@jupyter-widgets/controls",
            "_model_module_version": "1.5.0",
            "_model_name": "HTMLModel",
            "_view_count": null,
            "_view_module": "@jupyter-widgets/controls",
            "_view_module_version": "1.5.0",
            "_view_name": "HTMLView",
            "description": "",
            "description_tooltip": null,
            "layout": "IPY_MODEL_3ba781e26d144184ab0a588a0533863e",
            "placeholder": "​",
            "style": "IPY_MODEL_a7afda3ea7194909a8e4717bcf19141a",
            "value": " 256/? [00:51&lt;00:00,  4.73it/s]"
          }
        },
        "8a5c7403f66743a8a2e5f0ba350b86a1": {
          "model_module": "@jupyter-widgets/base",
          "model_name": "LayoutModel",
          "model_module_version": "1.2.0",
          "state": {
            "_model_module": "@jupyter-widgets/base",
            "_model_module_version": "1.2.0",
            "_model_name": "LayoutModel",
            "_view_count": null,
            "_view_module": "@jupyter-widgets/base",
            "_view_module_version": "1.2.0",
            "_view_name": "LayoutView",
            "align_content": null,
            "align_items": null,
            "align_self": null,
            "border": null,
            "bottom": null,
            "display": null,
            "flex": null,
            "flex_flow": null,
            "grid_area": null,
            "grid_auto_columns": null,
            "grid_auto_flow": null,
            "grid_auto_rows": null,
            "grid_column": null,
            "grid_gap": null,
            "grid_row": null,
            "grid_template_areas": null,
            "grid_template_columns": null,
            "grid_template_rows": null,
            "height": null,
            "justify_content": null,
            "justify_items": null,
            "left": null,
            "margin": null,
            "max_height": null,
            "max_width": null,
            "min_height": null,
            "min_width": null,
            "object_fit": null,
            "object_position": null,
            "order": null,
            "overflow": null,
            "overflow_x": null,
            "overflow_y": null,
            "padding": null,
            "right": null,
            "top": null,
            "visibility": null,
            "width": null
          }
        },
        "45bd969b5ac44b83bbcf787a134a8e4b": {
          "model_module": "@jupyter-widgets/base",
          "model_name": "LayoutModel",
          "model_module_version": "1.2.0",
          "state": {
            "_model_module": "@jupyter-widgets/base",
            "_model_module_version": "1.2.0",
            "_model_name": "LayoutModel",
            "_view_count": null,
            "_view_module": "@jupyter-widgets/base",
            "_view_module_version": "1.2.0",
            "_view_name": "LayoutView",
            "align_content": null,
            "align_items": null,
            "align_self": null,
            "border": null,
            "bottom": null,
            "display": null,
            "flex": null,
            "flex_flow": null,
            "grid_area": null,
            "grid_auto_columns": null,
            "grid_auto_flow": null,
            "grid_auto_rows": null,
            "grid_column": null,
            "grid_gap": null,
            "grid_row": null,
            "grid_template_areas": null,
            "grid_template_columns": null,
            "grid_template_rows": null,
            "height": null,
            "justify_content": null,
            "justify_items": null,
            "left": null,
            "margin": null,
            "max_height": null,
            "max_width": null,
            "min_height": null,
            "min_width": null,
            "object_fit": null,
            "object_position": null,
            "order": null,
            "overflow": null,
            "overflow_x": null,
            "overflow_y": null,
            "padding": null,
            "right": null,
            "top": null,
            "visibility": null,
            "width": null
          }
        },
        "13973193504647f9bb05a6a65cbd5923": {
          "model_module": "@jupyter-widgets/controls",
          "model_name": "DescriptionStyleModel",
          "model_module_version": "1.5.0",
          "state": {
            "_model_module": "@jupyter-widgets/controls",
            "_model_module_version": "1.5.0",
            "_model_name": "DescriptionStyleModel",
            "_view_count": null,
            "_view_module": "@jupyter-widgets/base",
            "_view_module_version": "1.2.0",
            "_view_name": "StyleView",
            "description_width": ""
          }
        },
        "df9f5f3844bc43ddb24a510b776df576": {
          "model_module": "@jupyter-widgets/base",
          "model_name": "LayoutModel",
          "model_module_version": "1.2.0",
          "state": {
            "_model_module": "@jupyter-widgets/base",
            "_model_module_version": "1.2.0",
            "_model_name": "LayoutModel",
            "_view_count": null,
            "_view_module": "@jupyter-widgets/base",
            "_view_module_version": "1.2.0",
            "_view_name": "LayoutView",
            "align_content": null,
            "align_items": null,
            "align_self": null,
            "border": null,
            "bottom": null,
            "display": null,
            "flex": null,
            "flex_flow": null,
            "grid_area": null,
            "grid_auto_columns": null,
            "grid_auto_flow": null,
            "grid_auto_rows": null,
            "grid_column": null,
            "grid_gap": null,
            "grid_row": null,
            "grid_template_areas": null,
            "grid_template_columns": null,
            "grid_template_rows": null,
            "height": null,
            "justify_content": null,
            "justify_items": null,
            "left": null,
            "margin": null,
            "max_height": null,
            "max_width": null,
            "min_height": null,
            "min_width": null,
            "object_fit": null,
            "object_position": null,
            "order": null,
            "overflow": null,
            "overflow_x": null,
            "overflow_y": null,
            "padding": null,
            "right": null,
            "top": null,
            "visibility": null,
            "width": "20px"
          }
        },
        "ff3006f195d44ccfa10795d0fb0b0298": {
          "model_module": "@jupyter-widgets/controls",
          "model_name": "ProgressStyleModel",
          "model_module_version": "1.5.0",
          "state": {
            "_model_module": "@jupyter-widgets/controls",
            "_model_module_version": "1.5.0",
            "_model_name": "ProgressStyleModel",
            "_view_count": null,
            "_view_module": "@jupyter-widgets/base",
            "_view_module_version": "1.2.0",
            "_view_name": "StyleView",
            "bar_color": null,
            "description_width": ""
          }
        },
        "3ba781e26d144184ab0a588a0533863e": {
          "model_module": "@jupyter-widgets/base",
          "model_name": "LayoutModel",
          "model_module_version": "1.2.0",
          "state": {
            "_model_module": "@jupyter-widgets/base",
            "_model_module_version": "1.2.0",
            "_model_name": "LayoutModel",
            "_view_count": null,
            "_view_module": "@jupyter-widgets/base",
            "_view_module_version": "1.2.0",
            "_view_name": "LayoutView",
            "align_content": null,
            "align_items": null,
            "align_self": null,
            "border": null,
            "bottom": null,
            "display": null,
            "flex": null,
            "flex_flow": null,
            "grid_area": null,
            "grid_auto_columns": null,
            "grid_auto_flow": null,
            "grid_auto_rows": null,
            "grid_column": null,
            "grid_gap": null,
            "grid_row": null,
            "grid_template_areas": null,
            "grid_template_columns": null,
            "grid_template_rows": null,
            "height": null,
            "justify_content": null,
            "justify_items": null,
            "left": null,
            "margin": null,
            "max_height": null,
            "max_width": null,
            "min_height": null,
            "min_width": null,
            "object_fit": null,
            "object_position": null,
            "order": null,
            "overflow": null,
            "overflow_x": null,
            "overflow_y": null,
            "padding": null,
            "right": null,
            "top": null,
            "visibility": null,
            "width": null
          }
        },
        "a7afda3ea7194909a8e4717bcf19141a": {
          "model_module": "@jupyter-widgets/controls",
          "model_name": "DescriptionStyleModel",
          "model_module_version": "1.5.0",
          "state": {
            "_model_module": "@jupyter-widgets/controls",
            "_model_module_version": "1.5.0",
            "_model_name": "DescriptionStyleModel",
            "_view_count": null,
            "_view_module": "@jupyter-widgets/base",
            "_view_module_version": "1.2.0",
            "_view_name": "StyleView",
            "description_width": ""
          }
        },
        "d8845c6465bd477d960504d2cb001cf3": {
          "model_module": "@jupyter-widgets/controls",
          "model_name": "HBoxModel",
          "model_module_version": "1.5.0",
          "state": {
            "_dom_classes": [],
            "_model_module": "@jupyter-widgets/controls",
            "_model_module_version": "1.5.0",
            "_model_name": "HBoxModel",
            "_view_count": null,
            "_view_module": "@jupyter-widgets/controls",
            "_view_module_version": "1.5.0",
            "_view_name": "HBoxView",
            "box_style": "",
            "children": [
              "IPY_MODEL_a1715b2a745e4085b0da0bcbb22102df",
              "IPY_MODEL_49fe0221e57e4a768b3e1dd2542918f6",
              "IPY_MODEL_d364e9f2633d48a8a0dc67fc3edacbff"
            ],
            "layout": "IPY_MODEL_06a070e44c984a0ca5201d4818d17955"
          }
        },
        "a1715b2a745e4085b0da0bcbb22102df": {
          "model_module": "@jupyter-widgets/controls",
          "model_name": "HTMLModel",
          "model_module_version": "1.5.0",
          "state": {
            "_dom_classes": [],
            "_model_module": "@jupyter-widgets/controls",
            "_model_module_version": "1.5.0",
            "_model_name": "HTMLModel",
            "_view_count": null,
            "_view_module": "@jupyter-widgets/controls",
            "_view_module_version": "1.5.0",
            "_view_name": "HTMLView",
            "description": "",
            "description_tooltip": null,
            "layout": "IPY_MODEL_b94c725edb8c49a089c7fc112236b3ca",
            "placeholder": "​",
            "style": "IPY_MODEL_769518d97b2d425690520ca68869445b",
            "value": ""
          }
        },
        "49fe0221e57e4a768b3e1dd2542918f6": {
          "model_module": "@jupyter-widgets/controls",
          "model_name": "FloatProgressModel",
          "model_module_version": "1.5.0",
          "state": {
            "_dom_classes": [],
            "_model_module": "@jupyter-widgets/controls",
            "_model_module_version": "1.5.0",
            "_model_name": "FloatProgressModel",
            "_view_count": null,
            "_view_module": "@jupyter-widgets/controls",
            "_view_module_version": "1.5.0",
            "_view_name": "ProgressView",
            "bar_style": "danger",
            "description": "",
            "description_tooltip": null,
            "layout": "IPY_MODEL_d5efa91ed8cb4b00aef8d98803e294ca",
            "max": 1,
            "min": 0,
            "orientation": "horizontal",
            "style": "IPY_MODEL_46bdb04a7ab14db6896cb34f09739a67",
            "value": 1
          }
        },
        "d364e9f2633d48a8a0dc67fc3edacbff": {
          "model_module": "@jupyter-widgets/controls",
          "model_name": "HTMLModel",
          "model_module_version": "1.5.0",
          "state": {
            "_dom_classes": [],
            "_model_module": "@jupyter-widgets/controls",
            "_model_module_version": "1.5.0",
            "_model_name": "HTMLModel",
            "_view_count": null,
            "_view_module": "@jupyter-widgets/controls",
            "_view_module_version": "1.5.0",
            "_view_name": "HTMLView",
            "description": "",
            "description_tooltip": null,
            "layout": "IPY_MODEL_43d51a79a21749f3a4019ddf1113f239",
            "placeholder": "​",
            "style": "IPY_MODEL_1c0bed03c6694b15a7aeb45f62f88ff3",
            "value": " 256/? [00:41&lt;00:00,  4.62it/s]"
          }
        },
        "06a070e44c984a0ca5201d4818d17955": {
          "model_module": "@jupyter-widgets/base",
          "model_name": "LayoutModel",
          "model_module_version": "1.2.0",
          "state": {
            "_model_module": "@jupyter-widgets/base",
            "_model_module_version": "1.2.0",
            "_model_name": "LayoutModel",
            "_view_count": null,
            "_view_module": "@jupyter-widgets/base",
            "_view_module_version": "1.2.0",
            "_view_name": "LayoutView",
            "align_content": null,
            "align_items": null,
            "align_self": null,
            "border": null,
            "bottom": null,
            "display": null,
            "flex": null,
            "flex_flow": null,
            "grid_area": null,
            "grid_auto_columns": null,
            "grid_auto_flow": null,
            "grid_auto_rows": null,
            "grid_column": null,
            "grid_gap": null,
            "grid_row": null,
            "grid_template_areas": null,
            "grid_template_columns": null,
            "grid_template_rows": null,
            "height": null,
            "justify_content": null,
            "justify_items": null,
            "left": null,
            "margin": null,
            "max_height": null,
            "max_width": null,
            "min_height": null,
            "min_width": null,
            "object_fit": null,
            "object_position": null,
            "order": null,
            "overflow": null,
            "overflow_x": null,
            "overflow_y": null,
            "padding": null,
            "right": null,
            "top": null,
            "visibility": null,
            "width": null
          }
        },
        "b94c725edb8c49a089c7fc112236b3ca": {
          "model_module": "@jupyter-widgets/base",
          "model_name": "LayoutModel",
          "model_module_version": "1.2.0",
          "state": {
            "_model_module": "@jupyter-widgets/base",
            "_model_module_version": "1.2.0",
            "_model_name": "LayoutModel",
            "_view_count": null,
            "_view_module": "@jupyter-widgets/base",
            "_view_module_version": "1.2.0",
            "_view_name": "LayoutView",
            "align_content": null,
            "align_items": null,
            "align_self": null,
            "border": null,
            "bottom": null,
            "display": null,
            "flex": null,
            "flex_flow": null,
            "grid_area": null,
            "grid_auto_columns": null,
            "grid_auto_flow": null,
            "grid_auto_rows": null,
            "grid_column": null,
            "grid_gap": null,
            "grid_row": null,
            "grid_template_areas": null,
            "grid_template_columns": null,
            "grid_template_rows": null,
            "height": null,
            "justify_content": null,
            "justify_items": null,
            "left": null,
            "margin": null,
            "max_height": null,
            "max_width": null,
            "min_height": null,
            "min_width": null,
            "object_fit": null,
            "object_position": null,
            "order": null,
            "overflow": null,
            "overflow_x": null,
            "overflow_y": null,
            "padding": null,
            "right": null,
            "top": null,
            "visibility": null,
            "width": null
          }
        },
        "769518d97b2d425690520ca68869445b": {
          "model_module": "@jupyter-widgets/controls",
          "model_name": "DescriptionStyleModel",
          "model_module_version": "1.5.0",
          "state": {
            "_model_module": "@jupyter-widgets/controls",
            "_model_module_version": "1.5.0",
            "_model_name": "DescriptionStyleModel",
            "_view_count": null,
            "_view_module": "@jupyter-widgets/base",
            "_view_module_version": "1.2.0",
            "_view_name": "StyleView",
            "description_width": ""
          }
        },
        "d5efa91ed8cb4b00aef8d98803e294ca": {
          "model_module": "@jupyter-widgets/base",
          "model_name": "LayoutModel",
          "model_module_version": "1.2.0",
          "state": {
            "_model_module": "@jupyter-widgets/base",
            "_model_module_version": "1.2.0",
            "_model_name": "LayoutModel",
            "_view_count": null,
            "_view_module": "@jupyter-widgets/base",
            "_view_module_version": "1.2.0",
            "_view_name": "LayoutView",
            "align_content": null,
            "align_items": null,
            "align_self": null,
            "border": null,
            "bottom": null,
            "display": null,
            "flex": null,
            "flex_flow": null,
            "grid_area": null,
            "grid_auto_columns": null,
            "grid_auto_flow": null,
            "grid_auto_rows": null,
            "grid_column": null,
            "grid_gap": null,
            "grid_row": null,
            "grid_template_areas": null,
            "grid_template_columns": null,
            "grid_template_rows": null,
            "height": null,
            "justify_content": null,
            "justify_items": null,
            "left": null,
            "margin": null,
            "max_height": null,
            "max_width": null,
            "min_height": null,
            "min_width": null,
            "object_fit": null,
            "object_position": null,
            "order": null,
            "overflow": null,
            "overflow_x": null,
            "overflow_y": null,
            "padding": null,
            "right": null,
            "top": null,
            "visibility": null,
            "width": "20px"
          }
        },
        "46bdb04a7ab14db6896cb34f09739a67": {
          "model_module": "@jupyter-widgets/controls",
          "model_name": "ProgressStyleModel",
          "model_module_version": "1.5.0",
          "state": {
            "_model_module": "@jupyter-widgets/controls",
            "_model_module_version": "1.5.0",
            "_model_name": "ProgressStyleModel",
            "_view_count": null,
            "_view_module": "@jupyter-widgets/base",
            "_view_module_version": "1.2.0",
            "_view_name": "StyleView",
            "bar_color": null,
            "description_width": ""
          }
        },
        "43d51a79a21749f3a4019ddf1113f239": {
          "model_module": "@jupyter-widgets/base",
          "model_name": "LayoutModel",
          "model_module_version": "1.2.0",
          "state": {
            "_model_module": "@jupyter-widgets/base",
            "_model_module_version": "1.2.0",
            "_model_name": "LayoutModel",
            "_view_count": null,
            "_view_module": "@jupyter-widgets/base",
            "_view_module_version": "1.2.0",
            "_view_name": "LayoutView",
            "align_content": null,
            "align_items": null,
            "align_self": null,
            "border": null,
            "bottom": null,
            "display": null,
            "flex": null,
            "flex_flow": null,
            "grid_area": null,
            "grid_auto_columns": null,
            "grid_auto_flow": null,
            "grid_auto_rows": null,
            "grid_column": null,
            "grid_gap": null,
            "grid_row": null,
            "grid_template_areas": null,
            "grid_template_columns": null,
            "grid_template_rows": null,
            "height": null,
            "justify_content": null,
            "justify_items": null,
            "left": null,
            "margin": null,
            "max_height": null,
            "max_width": null,
            "min_height": null,
            "min_width": null,
            "object_fit": null,
            "object_position": null,
            "order": null,
            "overflow": null,
            "overflow_x": null,
            "overflow_y": null,
            "padding": null,
            "right": null,
            "top": null,
            "visibility": null,
            "width": null
          }
        },
        "1c0bed03c6694b15a7aeb45f62f88ff3": {
          "model_module": "@jupyter-widgets/controls",
          "model_name": "DescriptionStyleModel",
          "model_module_version": "1.5.0",
          "state": {
            "_model_module": "@jupyter-widgets/controls",
            "_model_module_version": "1.5.0",
            "_model_name": "DescriptionStyleModel",
            "_view_count": null,
            "_view_module": "@jupyter-widgets/base",
            "_view_module_version": "1.2.0",
            "_view_name": "StyleView",
            "description_width": ""
          }
        }
      }
    }
  },
  "cells": [
    {
      "cell_type": "markdown",
      "metadata": {
        "id": "tWJTCBu4Tveb"
      },
      "source": [
        "<img src=\"https://static.wixstatic.com/media/66c28f_db7a1ba3e35b4b17a6688472c889b7bf~mv2_d_2777_1254_s_2.png/v1/fill/w_710,h_320,al_c,q_85,usm_0.66_1.00_0.01/logo_yellow_white.webp\" width=1000, height=450>\n",
        "<h3 style=\"text-align: center;\"><b>Физтех-Школа Прикладной математики и информатики (ФПМИ) МФТИ</b></h3>"
      ]
    },
    {
      "cell_type": "markdown",
      "metadata": {
        "id": "Kmb8UhIzOnfK"
      },
      "source": [
        "# Text Summarization\n",
        "\n",
        "Всем привет! Сегодня мы познакомимся с задачей суммаризации текста на примере генерации \"сжатых\" новостей. Рассмотрим некоторые базовые решения и познакомимся с архитектурами нейросетей для решения задачи.\n",
        "Датасет: gazeta.ru\n",
        "\n",
        "\n",
        "`Ноутбук создан на основе семинара Гусева Ильи на кафедре компьютерной лингвистики ABBYY МФТИ.`\n",
        "\n",
        "Загрузим датасет и необходимые библиотеки"
      ]
    },
    {
      "cell_type": "code",
      "metadata": {
        "id": "OqkLTkFRfXvA"
      },
      "source": [
        "!wget -q https://www.dropbox.com/s/43l702z5a5i2w8j/gazeta_train.txt\n",
        "!wget -q https://www.dropbox.com/s/k2egt3sug0hb185/gazeta_val.txt\n",
        "!wget -q https://www.dropbox.com/s/3gki5n5djs9w0v6/gazeta_test.txt"
      ],
      "execution_count": 1,
      "outputs": []
    },
    {
      "cell_type": "code",
      "metadata": {
        "id": "SXS1sdYZCluU",
        "outputId": "2c836723-f925-42ed-b73b-ca0ef46ba292",
        "colab": {
          "base_uri": "https://localhost:8080/"
        }
      },
      "source": [
        "!pip -q install razdel networkx pymorphy2 nltk rouge==0.3.1 summa "
      ],
      "execution_count": 2,
      "outputs": [
        {
          "output_type": "stream",
          "name": "stdout",
          "text": [
            "\u001b[K     |████████████████████████████████| 55 kB 122 kB/s \n",
            "\u001b[K     |████████████████████████████████| 54 kB 2.3 MB/s \n",
            "\u001b[K     |████████████████████████████████| 8.2 MB 37.4 MB/s \n",
            "\u001b[?25h  Building wheel for docopt (setup.py) ... \u001b[?25l\u001b[?25hdone\n",
            "  Building wheel for summa (setup.py) ... \u001b[?25l\u001b[?25hdone\n"
          ]
        }
      ]
    },
    {
      "cell_type": "markdown",
      "metadata": {
        "id": "Wa0NfryxbPUP"
      },
      "source": [
        "## Dataset"
      ]
    },
    {
      "cell_type": "markdown",
      "metadata": {
        "id": "eesnclfDDV3F"
      },
      "source": [
        "Посмотрим на то, как устроен датасет"
      ]
    },
    {
      "cell_type": "code",
      "metadata": {
        "id": "Mz6CZYKQhnd-",
        "outputId": "6a58e359-9c77-4c60-85c5-2a4ddcd20c85",
        "colab": {
          "base_uri": "https://localhost:8080/"
        }
      },
      "source": [
        "!head -n 1 gazeta_train.txt\n",
        "!cat gazeta_train.txt | wc -l\n",
        "!cat gazeta_val.txt | wc -l\n",
        "!cat gazeta_test.txt | wc -l"
      ],
      "execution_count": 3,
      "outputs": [
        {
          "output_type": "stream",
          "name": "stdout",
          "text": [
            "{\"url\": \"https://www.gazeta.ru/financial/2011/11/30/3852658.shtml\", \"text\": \"«По итогам 2011 года чистый отток может составить примерно $80 млрд, в следующем году — около $20 млрд. При этом мы ожидаем, что со второго полугодия 2012 года начнется приток капитала», — заявил «Интерфаксу» замминистра экономического развития Андрей Клепач. Официальные прогнозы по выводу капитала из России становятся все пессимистичными: еще летом власти полагали, что из страны уйдет не более $35 млрд, в сентябре Минэкономразвития назвал цифру $50 млрд, в начале ноября Центробанк пересмотрел оценку до $70 млрд. Очередное изменение прогноза было ожидаемо: по расчетам Центробанка , за январь — октябрь чистый отток капитала достиг $64 млрд, причем в последние месяцы он ускорился: в сентябре он составил $14 млрд, в октябре — $13 млрд против среднего ежемесячного оттока в $6—8 млрд в первом полугодии. «После октябрьских данных Минэкономразвития вынуждено было изменить оценку, настаивать на $70 млрд означало ожидать серьезного замедления оттока капитала на непонятно каких причинах», — говорит главный экономист BNP Paribas Юлия Цепляева. «В последние два месяца отток капитала ускорится, на декабрь приходится значительная часть выплат по внешним долгам, что приводит к усилению оттока, особенно если они не рефинансируются новыми кредитами», — соглашается главный экономист ФК «Открытие» Владимир Тихомиров. Прогнозируемый Минэкономразвития отток капитала — один из самых высоких за последние 20 лет. Больше ушло лишь в 2008 году на фоне разрастания финансового кризиса и российско-грузинской войны — $133,7 млрд. В кризисный 2009 год из России утекло $56,1 млрд. Главный фактор ускорения оттока капитала в 2011 году — нестабильность на внешних финансовых рынках и рост опасений относительно второй волны рецессии. «Это реакция на неуверенность, которую генерирует Европа с долговыми проблемами. В случае новой волны глобальной турбулентности Россия — одна из самых уязвимых стран», — говорит Цепляева. Еще одна причина — ослабление рубля. «Привлекательность вложений снижается на фоне того, что рубль перестал укрепляться, а ставки по депозитам достаточно низкие. В результате экспортеры не полностью возвращают экспортную выручку», — говорит Тихомиров. Внутри страны эксперты не видят особых причин для бегства капитала. «Ситуация выглядит достаточно позитивно, очень хорошие макроэкономические результаты за год, особенно на фоне других стран. С политической точки зрения все достаточно понятно и предсказуемо, итог выборов очевиден», — говорит экономист ИК «Тройка Диалог» Антон Струченевский. Тем не менее политический фактор играет роль. «Бизнесу важно не только, кто будет президентом, он ждет ясности с перестановками в правительстве. В наших условиях административный ресурс важнее всего для успешности бизнеса», — говорит Цепляева, добавляя, что отток капитала продолжится до завершения президентских выборов.\", \"title\": \"Прогноз не успевает за оттоком\", \"summary\": \"В 2011 году из России уйдет $80 млрд, считают в Минэкономразвития. Менее месяца назад Центробанк давал оценку $70 млрд, повысив первоначальный прогноз вдвое. Отток капитала из страны усиливается из-за кризиса в Европе, а в декабре российским компаниям выплачивать внешние долги. На движение капитала повлияли и выборы: несмотря на их предсказуемость, бизнес хочет ясности с перестановками в правительстве.\", \"date\": \"2011-11-30 18:33:39\"}\n",
            "52400\n",
            "5265\n",
            "5770\n"
          ]
        }
      ]
    },
    {
      "cell_type": "code",
      "metadata": {
        "id": "5pZ2UGS2DGjH"
      },
      "source": [
        "import json\n",
        "import random\n",
        "\n",
        "def read_gazeta_records(file_name, shuffle=True, sort_by_date=False):\n",
        "    assert shuffle != sort_by_date\n",
        "    records = []\n",
        "    with open(file_name, \"r\") as r:\n",
        "        for line in r:\n",
        "            records.append(json.loads(line))\n",
        "    if sort_by_date:\n",
        "        records.sort(key=lambda x: x[\"date\"])\n",
        "    if shuffle:\n",
        "        random.shuffle\n",
        "    return records"
      ],
      "execution_count": 4,
      "outputs": []
    },
    {
      "cell_type": "code",
      "metadata": {
        "id": "GNDp-BunEA91"
      },
      "source": [
        "train_records = read_gazeta_records(\"gazeta_train.txt\")\n",
        "val_records = read_gazeta_records(\"gazeta_val.txt\")\n",
        "test_records = read_gazeta_records(\"gazeta_test.txt\")"
      ],
      "execution_count": 5,
      "outputs": []
    },
    {
      "cell_type": "code",
      "metadata": {
        "id": "397gjsNfFBZ_"
      },
      "source": [
        "from nltk.translate.bleu_score import corpus_bleu\n",
        "from rouge import Rouge\n",
        "\n",
        "def calc_scores(references, predictions, metric=\"all\"):\n",
        "    print(\"Count:\", len(predictions))\n",
        "    print(\"Ref[-1]:\", references[-1])\n",
        "    print(\"Hyp[-1]:\", predictions[-1])\n",
        "    print(\"Ref[-2]:\", references[-2])\n",
        "    print(\"Hyp[-2]:\", predictions[-2])\n",
        "    print(\"Ref[-3]:\", references[-3])\n",
        "    print(\"Hyp[-3]:\", predictions[-3])\n",
        "\n",
        "\n",
        "    if metric in (\"bleu\", \"all\"):\n",
        "        print(\"BLEU: \", corpus_bleu([[r] for r in references], predictions))\n",
        "    if metric in (\"rouge\", \"all\"):\n",
        "        rouge = Rouge()\n",
        "        scores = rouge.get_scores(predictions, references, avg=True)\n",
        "        print(\"ROUGE: \", scores)\n",
        "\n",
        "    return corpus_bleu([[r] for r in references], predictions)"
      ],
      "execution_count": 143,
      "outputs": []
    },
    {
      "cell_type": "markdown",
      "metadata": {
        "id": "aaJKNsUGFBaA"
      },
      "source": [
        "## Extractive RNN"
      ]
    },
    {
      "cell_type": "markdown",
      "metadata": {
        "id": "l3izlm8HFBaC"
      },
      "source": [
        "### BPE\n",
        "Для начала сделаем BPE токенизацию"
      ]
    },
    {
      "cell_type": "code",
      "metadata": {
        "id": "2DMVtloWFBaC",
        "outputId": "51d6df7d-020b-4c16-f164-9dc1072618a3",
        "colab": {
          "base_uri": "https://localhost:8080/"
        }
      },
      "source": [
        "!pip install youtokentome"
      ],
      "execution_count": 7,
      "outputs": [
        {
          "output_type": "stream",
          "name": "stdout",
          "text": [
            "Looking in indexes: https://pypi.org/simple, https://us-python.pkg.dev/colab-wheels/public/simple/\n",
            "Collecting youtokentome\n",
            "  Downloading youtokentome-1.0.6-cp38-cp38-manylinux2010_x86_64.whl (1.7 MB)\n",
            "\u001b[K     |████████████████████████████████| 1.7 MB 7.2 MB/s \n",
            "\u001b[?25hRequirement already satisfied: Click>=7.0 in /usr/local/lib/python3.8/dist-packages (from youtokentome) (7.1.2)\n",
            "Installing collected packages: youtokentome\n",
            "Successfully installed youtokentome-1.0.6\n"
          ]
        }
      ]
    },
    {
      "cell_type": "code",
      "metadata": {
        "id": "Yg9T6q0wFBaF"
      },
      "source": [
        "import youtokentome as yttm\n",
        "\n",
        "def train_bpe(records, model_path, model_type=\"bpe\", vocab_size=10000, lower=True):\n",
        "    temp_file_name = \"temp.txt\"\n",
        "    with open(temp_file_name, \"w\") as temp:\n",
        "        for record in records:\n",
        "            text, summary = record['text'], record['summary']\n",
        "            if lower:\n",
        "                summary = summary.lower()\n",
        "                text = text.lower()\n",
        "            if not text or not summary:\n",
        "                continue\n",
        "            temp.write(text + \"\\n\")\n",
        "            temp.write(summary + \"\\n\")\n",
        "    yttm.BPE.train(data=temp_file_name, vocab_size=vocab_size, model=model_path)\n",
        "\n",
        "train_bpe(train_records, \"BPE_model.bin\")"
      ],
      "execution_count": 8,
      "outputs": []
    },
    {
      "cell_type": "markdown",
      "metadata": {
        "id": "jJFAJHTtFBaF"
      },
      "source": [
        "### Словарь\n",
        "Составим словарь для индексации токенов"
      ]
    },
    {
      "cell_type": "code",
      "metadata": {
        "id": "MueXtatmFBaG"
      },
      "source": [
        "bpe_processor = yttm.BPE('BPE_model.bin')\n",
        "vocabulary = bpe_processor.vocab()"
      ],
      "execution_count": 9,
      "outputs": []
    },
    {
      "cell_type": "markdown",
      "metadata": {
        "id": "Z_C_p7tHFBaH"
      },
      "source": [
        "### Кэш oracle summary\n",
        "Закэшируем oracle summary, чтобы не пересчитывать их каждый раз"
      ]
    },
    {
      "cell_type": "code",
      "metadata": {
        "id": "Fp23tuPbFBaH",
        "outputId": "aaff93a1-e93b-42e1-8b94-6339f083da04",
        "colab": {
          "base_uri": "https://localhost:8080/",
          "height": 113,
          "referenced_widgets": [
            "37fa73980b92428da13d61905f24949e",
            "3f88e035c6ca4a329499ab1c49fe29a1",
            "c54a12380c1e4311b3f458a12ece88b8",
            "f051d3f32c9a47beaa4bc9343fc032af",
            "e62a0fc6b5e747eaac373d0e45ae2f69",
            "d1f7230b261b46d8af706ddae0bd45ef",
            "1d4bc9d5a57949c1829d30b381dc5cbf",
            "97802d99704042f08b69766c41f56d16",
            "a1e49b58213f46a0aaead77fe764b2bf",
            "2fc0d7acee794639a2554131d8e50f0f",
            "1bef78f615d64740ada4034fb4adbe36",
            "5d0ec941bae24dcd8531f992687b64d3",
            "fbc6b37fbf214006b45f43f618a929e0",
            "b06e174c3f7b4c00986f23abf5f883d4",
            "dabd6dd186934d269943ef0e2dcfc6ea",
            "8a5c7403f66743a8a2e5f0ba350b86a1",
            "45bd969b5ac44b83bbcf787a134a8e4b",
            "13973193504647f9bb05a6a65cbd5923",
            "df9f5f3844bc43ddb24a510b776df576",
            "ff3006f195d44ccfa10795d0fb0b0298",
            "3ba781e26d144184ab0a588a0533863e",
            "a7afda3ea7194909a8e4717bcf19141a",
            "d8845c6465bd477d960504d2cb001cf3",
            "a1715b2a745e4085b0da0bcbb22102df",
            "49fe0221e57e4a768b3e1dd2542918f6",
            "d364e9f2633d48a8a0dc67fc3edacbff",
            "06a070e44c984a0ca5201d4818d17955",
            "b94c725edb8c49a089c7fc112236b3ca",
            "769518d97b2d425690520ca68869445b",
            "d5efa91ed8cb4b00aef8d98803e294ca",
            "46bdb04a7ab14db6896cb34f09739a67",
            "43d51a79a21749f3a4019ddf1113f239",
            "1c0bed03c6694b15a7aeb45f62f88ff3"
          ]
        }
      },
      "source": [
        "from rouge import Rouge\n",
        "import razdel\n",
        "from tqdm.notebook import tqdm\n",
        "\n",
        "import copy\n",
        "\n",
        "def build_oracle_summary_greedy(text, gold_summary, calc_score, lower=True, max_sentences=30):\n",
        "    '''\n",
        "    Жадное построение oracle summary\n",
        "    '''\n",
        "    gold_summary = gold_summary.lower() if lower else gold_summary\n",
        "    # Делим текст на предложения\n",
        "    sentences = [sentence.text.lower() if lower else sentence.text for sentence in razdel.sentenize(text)][:max_sentences]\n",
        "    n_sentences = len(sentences)\n",
        "    oracle_summary_sentences = set()\n",
        "    \n",
        "    score = -1.0\n",
        "    summaries = []\n",
        "    for _ in range(n_sentences):\n",
        "        for i in range(n_sentences):\n",
        "            if i in oracle_summary_sentences:\n",
        "                continue\n",
        "            current_summary_sentences = copy.copy(oracle_summary_sentences)\n",
        "            # Добавляем какое-то предложения к уже существующему summary\n",
        "            current_summary_sentences.add(i)\n",
        "            current_summary = \" \".join([sentences[index] for index in sorted(list(current_summary_sentences))])\n",
        "            # Считаем метрики\n",
        "            current_score = calc_score(current_summary, gold_summary)\n",
        "            summaries.append((current_score, current_summary_sentences))\n",
        "        # Если получилось улучшить метрики с добавлением какого-либо предложения, то пробуем добавить ещё\n",
        "        # Иначе на этом заканчиваем\n",
        "        best_summary_score, best_summary_sentences = max(summaries)\n",
        "        if best_summary_score <= score:\n",
        "            break\n",
        "        oracle_summary_sentences = best_summary_sentences\n",
        "        score = best_summary_score\n",
        "    oracle_summary = \" \".join([sentences[index] for index in sorted(list(oracle_summary_sentences))])\n",
        "    return oracle_summary, oracle_summary_sentences\n",
        "\n",
        "def calc_single_score(pred_summary, gold_summary, rouge):\n",
        "    return rouge.get_scores([pred_summary], [gold_summary], avg=True)['rouge-2']['f']\n",
        "\n",
        "def add_oracle_summary_to_records(records, max_sentences=30, lower=True, nrows=1000):\n",
        "    rouge = Rouge()\n",
        "    for i, record in tqdm(enumerate(records)):\n",
        "        if i >= nrows:\n",
        "            break\n",
        "        text = record[\"text\"]\n",
        "        summary = record[\"summary\"]\n",
        "\n",
        "        summary = summary.lower() if lower else summary\n",
        "        sentences = [sentence.text.lower() if lower else sentence.text for sentence in razdel.sentenize(text)][:max_sentences]\n",
        "        oracle_summary, sentences_indicies = build_oracle_summary_greedy(text, summary, calc_score=lambda x, y: calc_single_score(x, y, rouge),\n",
        "                                                                         lower=lower, max_sentences=max_sentences)\n",
        "        record[\"sentences\"] = sentences\n",
        "        record[\"oracle_sentences\"] = list(sentences_indicies)\n",
        "        record[\"oracle_summary\"] = oracle_summary\n",
        "\n",
        "    return records[:nrows]\n",
        "\n",
        "ext_train_records = add_oracle_summary_to_records(train_records, nrows=2048)\n",
        "ext_val_records = add_oracle_summary_to_records(val_records, nrows=256)\n",
        "ext_test_records = add_oracle_summary_to_records(test_records, nrows=256)"
      ],
      "execution_count": 40,
      "outputs": [
        {
          "output_type": "display_data",
          "data": {
            "text/plain": [
              "0it [00:00, ?it/s]"
            ],
            "application/vnd.jupyter.widget-view+json": {
              "version_major": 2,
              "version_minor": 0,
              "model_id": "37fa73980b92428da13d61905f24949e"
            }
          },
          "metadata": {}
        },
        {
          "output_type": "display_data",
          "data": {
            "text/plain": [
              "0it [00:00, ?it/s]"
            ],
            "application/vnd.jupyter.widget-view+json": {
              "version_major": 2,
              "version_minor": 0,
              "model_id": "5d0ec941bae24dcd8531f992687b64d3"
            }
          },
          "metadata": {}
        },
        {
          "output_type": "display_data",
          "data": {
            "text/plain": [
              "0it [00:00, ?it/s]"
            ],
            "application/vnd.jupyter.widget-view+json": {
              "version_major": 2,
              "version_minor": 0,
              "model_id": "d8845c6465bd477d960504d2cb001cf3"
            }
          },
          "metadata": {}
        }
      ]
    },
    {
      "cell_type": "markdown",
      "metadata": {
        "id": "UlXXc8qUHC5m"
      },
      "source": [
        "### Составление батчей"
      ]
    },
    {
      "cell_type": "code",
      "metadata": {
        "id": "YATQKCuqHPo3",
        "outputId": "930ad33d-ea48-4ed3-9225-b471401ecfd1",
        "colab": {
          "base_uri": "https://localhost:8080/"
        }
      },
      "source": [
        "import torch\n",
        "device = torch.device('cuda' if torch.cuda.is_available() else 'cpu')\n",
        "device"
      ],
      "execution_count": 41,
      "outputs": [
        {
          "output_type": "execute_result",
          "data": {
            "text/plain": [
              "device(type='cuda')"
            ]
          },
          "metadata": {},
          "execution_count": 41
        }
      ]
    },
    {
      "cell_type": "code",
      "metadata": {
        "id": "MNyxstTChK3C"
      },
      "source": [
        "import random\n",
        "import math\n",
        "import razdel\n",
        "import torch\n",
        "import numpy as np\n",
        "from rouge import Rouge\n",
        "\n",
        "\n",
        "class BatchIterator():\n",
        "    def __init__(self, records, vocabulary, batch_size, bpe_processor, shuffle=True, lower=True, max_sentences=30, max_sentence_length=50, device=torch.device('cpu')):\n",
        "        self.records = records\n",
        "        self.num_samples = len(records)\n",
        "        self.batch_size = batch_size\n",
        "        self.bpe_processor = bpe_processor\n",
        "        self.shuffle = shuffle\n",
        "        self.batches_count = int(math.ceil(self.num_samples / batch_size))\n",
        "        self.lower = lower\n",
        "        self.rouge = Rouge()\n",
        "        self.vocabulary = vocabulary\n",
        "        self.max_sentences = max_sentences\n",
        "        self.max_sentence_length = max_sentence_length\n",
        "        self.device = device\n",
        "        \n",
        "    def __len__(self):\n",
        "        return self.batches_count\n",
        "    \n",
        "    def __iter__(self):\n",
        "        indices = np.arange(self.num_samples)\n",
        "        if self.shuffle:\n",
        "            np.random.shuffle(indices)\n",
        "\n",
        "        for start in range(0, self.num_samples, self.batch_size):\n",
        "            end = min(start + self.batch_size, self.num_samples)\n",
        "            batch_indices = indices[start:end]\n",
        "\n",
        "            batch_inputs = []\n",
        "            batch_outputs = []\n",
        "            max_sentence_length = 0\n",
        "            max_sentences = 0\n",
        "            batch_records = []\n",
        "\n",
        "            for data_ind in batch_indices:\n",
        "                \n",
        "                record = self.records[data_ind]\n",
        "                batch_records.append(record)\n",
        "                text = record[\"text\"]\n",
        "                summary = record[\"summary\"]\n",
        "                summary = summary.lower() if self.lower else summary\n",
        "\n",
        "                if \"sentences\" not in record:\n",
        "                    sentences = [sentence.text.lower() if self.lower else sentence.text for sentence in razdel.sentenize(text)][:self.max_sentences]\n",
        "                else:\n",
        "                    sentences = record[\"sentences\"]\n",
        "                max_sentences = max(len(sentences), max_sentences)\n",
        "                \n",
        "                # номера предложений, которые в нашем саммари\n",
        "                if \"oracle_sentences\" not in record:\n",
        "                    calc_score = lambda x, y: calc_single_score(x, y, self.rouge)\n",
        "                    sentences_indicies = build_oracle_summary_greedy(text, summary, calc_score=calc_score, lower=self.lower, max_sentences=self.max_sentences)[1]\n",
        "                else:   \n",
        "                    sentences_indicies = record[\"oracle_sentences\"]\n",
        "                \n",
        "                # inputs - индексы слов в предложении\n",
        "                inputs = [bpe_processor.encode(sentence)[:self.max_sentence_length] for sentence in sentences]\n",
        "                max_sentence_length = max(max_sentence_length, max([len(tokens) for tokens in inputs]))\n",
        "                \n",
        "                # получение метки класса предложения\n",
        "                outputs = [int(i in sentences_indicies) for i in range(len(sentences))]\n",
        "                batch_inputs.append(inputs)\n",
        "                batch_outputs.append(outputs)\n",
        "\n",
        "            tensor_inputs = torch.zeros((self.batch_size, max_sentences, max_sentence_length), dtype=torch.long, device=self.device)\n",
        "            # we add index 2 for padding\n",
        "            # YOUR CODE\n",
        "            tensor_outputs = torch.ones((self.batch_size, max_sentences), dtype=torch.float32, device=self.device) * 2\n",
        "\n",
        "            for i, inputs in enumerate(batch_inputs):\n",
        "                for j, sentence_tokens in enumerate(inputs):\n",
        "                    tensor_inputs[i][j][:len(sentence_tokens)] = torch.tensor(sentence_tokens, dtype=torch.int64)\n",
        "\n",
        "            for i, outputs in enumerate(batch_outputs):\n",
        "                tensor_outputs[i][:len(outputs)] = torch.LongTensor(outputs)\n",
        "\n",
        "            tensor_outputs = tensor_outputs.long()\n",
        "            yield {\n",
        "                'inputs': tensor_inputs,\n",
        "                'outputs': tensor_outputs,\n",
        "                'records': batch_records\n",
        "            }            "
      ],
      "execution_count": 42,
      "outputs": []
    },
    {
      "cell_type": "code",
      "metadata": {
        "id": "5ug9MIObdi03"
      },
      "source": [
        "train_iterator = BatchIterator(ext_train_records, vocabulary, 32, bpe_processor, device=device)\n",
        "val_iterator = BatchIterator(ext_val_records, vocabulary, 32, bpe_processor, device=device)\n",
        "test_iterator = BatchIterator(ext_test_records, vocabulary, 32, bpe_processor, device=device)"
      ],
      "execution_count": 43,
      "outputs": []
    },
    {
      "cell_type": "markdown",
      "metadata": {
        "id": "yPlJMg0_dQM-"
      },
      "source": [
        "## Extractor -  SummaRuNNer\n",
        " https://arxiv.org/pdf/1611.04230.pdf\n"
      ]
    },
    {
      "cell_type": "markdown",
      "metadata": {
        "id": "4BSsnfe4t1uK"
      },
      "source": [
        "### Homework\n",
        "\n",
        "* В данной реализации в `outputs` в качестве padding используется индекс 0. Измените в функции \\_\\_iter__ индекс padding, чтобы он не совпадал с классом 0 или 1, например, 2.\n",
        "* В качестве criterion используйте `CrossEntropyLoss`вместо `BCEWithLogitsLoss`\n",
        "* Из-за смены criterion, вы уже должны подавать на вход criterion ни одно число, а logits для каждого класса. Перед подачей logits вы можете отфильтровать предсказания для класса padding. В этом пункте вам придется изменять файл `train_model.py`, а именно функциии `train` и `evaluate`.\n",
        "* Используйте два варианта обучения: c весами в `CrossEntropyLoss` и без\n",
        "* Также сравните `inference`, когда вы ранжируете logits, и когды вы выбирате предложения, у котрых logits > 0, в двух вариантах обучения. \n",
        "* Реализуйте дополнительно характеристику предложения `novelty`. Как влияет добавление `novelty` на качество summary?\n",
        "* Постарайтесь улучшить качество модели, полученной на семинаре: $BLEU \\approx 0.45$"
      ]
    },
    {
      "cell_type": "code",
      "metadata": {
        "id": "iW7iS76KeEdO"
      },
      "source": [
        "import numpy as np\n",
        "\n",
        "import torch\n",
        "import torch.nn as nn\n",
        "import torch.nn.functional as F\n",
        "import torch.optim as optim\n",
        "from torch.autograd import Variable\n",
        "\n",
        "from torch.nn.utils.rnn import pack_padded_sequence as pack\n",
        "from torch.nn.utils.rnn import pad_packed_sequence as unpack\n",
        "\n",
        "class SentenceEncoderRNN(nn.Module):\n",
        "    def __init__(self, input_size, embedding_dim, hidden_size, n_layers=3, dropout=0.3, bidirectional=True):\n",
        "        super().__init__()\n",
        "\n",
        "        num_directions = 2 if bidirectional else 1\n",
        "        assert hidden_size % num_directions == 0\n",
        "        hidden_size = hidden_size // num_directions\n",
        "\n",
        "        self.embedding_dim = embedding_dim\n",
        "        self.input_size = input_size\n",
        "        self.hidden_size = hidden_size\n",
        "        self.n_layers = n_layers\n",
        "        self.dropout = dropout\n",
        "        self.bidirectional = bidirectional\n",
        "\n",
        "        self.embedding_layer = nn.Embedding(input_size, embedding_dim)\n",
        "        self.rnn_layer = nn.LSTM(embedding_dim, hidden_size, n_layers, dropout=dropout, bidirectional=bidirectional, batch_first=True)\n",
        "        self.dropout_layer = nn.Dropout(dropout)\n",
        "\n",
        "    def forward(self, inputs, hidden=None):\n",
        "        embedded = self.dropout_layer(self.embedding_layer(inputs))\n",
        "        outputs, _ = self.rnn_layer(embedded, hidden)\n",
        "        sentences_embeddings = torch.mean(outputs, 1)\n",
        "        # [batch_size, hidden_size]\n",
        "        return sentences_embeddings\n",
        "\n",
        "class SentenceTaggerRNN(nn.Module):\n",
        "    def __init__(self,\n",
        "                 vocabulary_size,\n",
        "                 use_content=True,\n",
        "                 use_salience=True,\n",
        "                 use_novelty=True,\n",
        "                 token_embedding_dim=128,\n",
        "                 sentence_encoder_hidden_size=256,\n",
        "                 hidden_size=256,\n",
        "                 bidirectional=True,\n",
        "                 sentence_encoder_n_layers=2,\n",
        "                 sentence_encoder_dropout=0.3,\n",
        "                 sentence_encoder_bidirectional=True,\n",
        "                 n_layers=2,\n",
        "                 dropout=0.3):\n",
        "      \n",
        "        super().__init__()\n",
        "\n",
        "        num_directions = 2 if bidirectional else 1\n",
        "        assert hidden_size % num_directions == 0\n",
        "        hidden_size = hidden_size // num_directions\n",
        "\n",
        "        self.hidden_size = hidden_size\n",
        "        self.n_layers = n_layers\n",
        "        self.dropout = dropout\n",
        "        self.bidirectional = bidirectional\n",
        "\n",
        "        self.sentence_encoder = SentenceEncoderRNN(vocabulary_size, token_embedding_dim,\n",
        "                                                   sentence_encoder_hidden_size, sentence_encoder_n_layers, \n",
        "                                                   sentence_encoder_dropout, sentence_encoder_bidirectional)\n",
        "        \n",
        "        self.rnn_layer = nn.LSTM(sentence_encoder_hidden_size, hidden_size, n_layers, dropout=dropout,\n",
        "                           bidirectional=bidirectional, batch_first=True)\n",
        "        \n",
        "        self.dropout_layer = nn.Dropout(dropout)\n",
        "        self.content_linear_layer = nn.Linear(hidden_size * 2, 1)\n",
        "        self.document_linear_layer = nn.Linear(hidden_size * 2, hidden_size * 2)\n",
        "        self.salience_linear_layer = nn.Linear(hidden_size * 2, hidden_size * 2)\n",
        "        self.novelty_linear_layer = nn.Linear(hidden_size * 2, hidden_size * 2)\n",
        "        self.tanh_layer = nn.Tanh()\n",
        "\n",
        "        self.use_content = use_content\n",
        "        self.use_salience = use_salience\n",
        "        self.use_novelty = use_novelty\n",
        "\n",
        "    def forward(self, inputs, hidden=None):\n",
        "        # parameters of the probability\n",
        "        content = 0\n",
        "        salience = 0\n",
        "        novelty = 0\n",
        "\n",
        "        # [batch_size, seq num, seq_len]\n",
        "        batch_size = inputs.size(0)\n",
        "        sentences_count = inputs.size(1)\n",
        "        tokens_count = inputs.size(2)\n",
        "        inputs = inputs.reshape(-1, tokens_count)\n",
        "        # [batch_size * seq num, seq_len]\n",
        "\n",
        "        embedded_sentences = self.sentence_encoder(inputs)\n",
        "        embedded_sentences = self.dropout_layer(embedded_sentences.reshape(batch_size, sentences_count, -1))\n",
        "        # [batch_size *  seq num, seq_len, hidden_size] -> [batch_size, seq num, hidden_size]\n",
        "\n",
        "        outputs, _ = self.rnn_layer(embedded_sentences, hidden)\n",
        "        # [batch_size, seq num, hidden_size]\n",
        "\n",
        "        document_embedding = self.tanh_layer(self.document_linear_layer(torch.mean(outputs, 1)))\n",
        "        # [batch_size, hidden_size]\n",
        "\n",
        "        # W * h^T\n",
        "        if self.use_content:\n",
        "            content = self.content_linear_layer(outputs).squeeze(2) # 1-representation\n",
        "        # [batch_size, seq num]\n",
        "\n",
        "        # h^T * W * d\n",
        "        if self.use_salience:\n",
        "            salience = torch.bmm(outputs, self.salience_linear_layer(document_embedding).unsqueeze(2)).squeeze(2) # 2-representation\n",
        "        # [batch_size, seq num, hidden_size] * [batch_size, hidden_size, 1] = [batch_size, seq num, ]\n",
        "\n",
        "        if self.use_novelty:\n",
        "            # at every step add novelty to prediction of the sentence\n",
        "            predictions = content + salience\n",
        "            \n",
        "            # 0) initialize summary_representation and novelty by zeros\n",
        "            # YOUR CODE\n",
        "\n",
        "            summary_representation = torch.zeros((batch_size, self.hidden_size*2)).to(device)\n",
        "            novelty = torch.zeros((batch_size, sentences_count)).to(device)\n",
        "            \n",
        "            for sentence_num in range(sentences_count):\n",
        "\n",
        "                # 1) take sentence_num_state from outputs(representation of the sentence with number sentence_num)\n",
        "                # 2) calculate novelty for current sentence\n",
        "                # 3) add novelty to predictions\n",
        "                # 4) calculcate probability for current sentence\n",
        "                # 5) add sentence_num_state with the weight which is equal to probability to summary_representation\n",
        "\n",
        "                # YOUR CODE\n",
        "\n",
        "                sentence_num_state = outputs[:, sentence_num, :]\n",
        "                novelty_intermediate = self.novelty_linear_layer(torch.tanh(summary_representation)).unsqueeze(2)\n",
        "\n",
        "                novelty[:, sentence_num] = -torch.bmm(sentence_num_state.unsqueeze(1), \\\n",
        "                                                      novelty_intermediate).squeeze(2).squeeze(1)\n",
        "                predictions[:, sentence_num] += novelty[:, sentence_num]\n",
        "                probabilities = torch.sigmoid(predictions[:, sentence_num])\n",
        "                summary_representation += torch.mv(sentence_num_state.transpose(0, 1), probabilities)\n",
        "\n",
        "            return predictions\n",
        "        \n",
        "        return content + salience + novelty"
      ],
      "execution_count": 59,
      "outputs": []
    },
    {
      "cell_type": "markdown",
      "metadata": {
        "id": "QxpL3AtOrctD"
      },
      "source": [
        "## Model\n",
        "$P\\left(y_{j} = 1 \\mid \\mathbf{h}_{j}, \\mathbf{s}_{j}, \\mathbf{d}\\right)=\\sigma\\left(W_{c} \\mathbf{h}_{j} + \\mathbf{h}_{j}^{T} W_{s} \\mathbf{d}\\right)$\n",
        "--------------------"
      ]
    },
    {
      "cell_type": "code",
      "metadata": {
        "id": "-QC1ZmuQfB7f",
        "outputId": "063a41aa-4745-4487-c395-4af736a2bb48",
        "colab": {
          "base_uri": "https://localhost:8080/"
        }
      },
      "source": [
        "vocab_size = len(vocabulary)\n",
        "model = SentenceTaggerRNN(vocab_size).to(device)\n",
        "\n",
        "params_count = np.sum([p.numel() for p in model.parameters() if p.requires_grad])\n",
        "print(\"Trainable params: {}\".format(params_count))"
      ],
      "execution_count": 60,
      "outputs": [
        {
          "output_type": "stream",
          "name": "stdout",
          "text": [
            "Trainable params: 2927617\n"
          ]
        }
      ]
    },
    {
      "cell_type": "code",
      "metadata": {
        "id": "f9Q3aFHhgsB4",
        "outputId": "df216e68-6dfb-4340-b327-afeee57aca58",
        "colab": {
          "base_uri": "https://localhost:8080/"
        }
      },
      "source": [
        "for name, param in model.named_parameters():\n",
        "    print(f\"{name}: {param.numel()}\")"
      ],
      "execution_count": 61,
      "outputs": [
        {
          "output_type": "stream",
          "name": "stdout",
          "text": [
            "sentence_encoder.embedding_layer.weight: 1280000\n",
            "sentence_encoder.rnn_layer.weight_ih_l0: 65536\n",
            "sentence_encoder.rnn_layer.weight_hh_l0: 65536\n",
            "sentence_encoder.rnn_layer.bias_ih_l0: 512\n",
            "sentence_encoder.rnn_layer.bias_hh_l0: 512\n",
            "sentence_encoder.rnn_layer.weight_ih_l0_reverse: 65536\n",
            "sentence_encoder.rnn_layer.weight_hh_l0_reverse: 65536\n",
            "sentence_encoder.rnn_layer.bias_ih_l0_reverse: 512\n",
            "sentence_encoder.rnn_layer.bias_hh_l0_reverse: 512\n",
            "sentence_encoder.rnn_layer.weight_ih_l1: 131072\n",
            "sentence_encoder.rnn_layer.weight_hh_l1: 65536\n",
            "sentence_encoder.rnn_layer.bias_ih_l1: 512\n",
            "sentence_encoder.rnn_layer.bias_hh_l1: 512\n",
            "sentence_encoder.rnn_layer.weight_ih_l1_reverse: 131072\n",
            "sentence_encoder.rnn_layer.weight_hh_l1_reverse: 65536\n",
            "sentence_encoder.rnn_layer.bias_ih_l1_reverse: 512\n",
            "sentence_encoder.rnn_layer.bias_hh_l1_reverse: 512\n",
            "rnn_layer.weight_ih_l0: 131072\n",
            "rnn_layer.weight_hh_l0: 65536\n",
            "rnn_layer.bias_ih_l0: 512\n",
            "rnn_layer.bias_hh_l0: 512\n",
            "rnn_layer.weight_ih_l0_reverse: 131072\n",
            "rnn_layer.weight_hh_l0_reverse: 65536\n",
            "rnn_layer.bias_ih_l0_reverse: 512\n",
            "rnn_layer.bias_hh_l0_reverse: 512\n",
            "rnn_layer.weight_ih_l1: 131072\n",
            "rnn_layer.weight_hh_l1: 65536\n",
            "rnn_layer.bias_ih_l1: 512\n",
            "rnn_layer.bias_hh_l1: 512\n",
            "rnn_layer.weight_ih_l1_reverse: 131072\n",
            "rnn_layer.weight_hh_l1_reverse: 65536\n",
            "rnn_layer.bias_ih_l1_reverse: 512\n",
            "rnn_layer.bias_hh_l1_reverse: 512\n",
            "content_linear_layer.weight: 256\n",
            "content_linear_layer.bias: 1\n",
            "document_linear_layer.weight: 65536\n",
            "document_linear_layer.bias: 256\n",
            "salience_linear_layer.weight: 65536\n",
            "salience_linear_layer.bias: 256\n",
            "novelty_linear_layer.weight: 65536\n",
            "novelty_linear_layer.bias: 256\n"
          ]
        }
      ]
    },
    {
      "cell_type": "code",
      "metadata": {
        "id": "05s8UWh81cjG"
      },
      "source": [
        "#!gdown https://drive.google.com/uc?id=1MiS_iczALcyF7zGDPY6niyeD82P0_PBH -O train_model.py\n"
      ],
      "execution_count": 62,
      "outputs": []
    },
    {
      "cell_type": "code",
      "source": [
        "#import train_model\n",
        "#import imp \n",
        "#imp.reload(train_model)\n",
        "#from train_model import train_with_logs"
      ],
      "metadata": {
        "id": "bjdOlTJZSTdF"
      },
      "execution_count": 63,
      "outputs": []
    },
    {
      "cell_type": "code",
      "source": [
        "import matplotlib\n",
        "import time\n",
        "import math\n",
        "import torch\n",
        "import re\n",
        "import razdel\n",
        "matplotlib.rcParams.update({'figure.figsize': (16, 12), 'font.size': 14})\n",
        "import matplotlib.pyplot as plt\n",
        "from IPython.display import clear_output\n",
        "\n",
        "def train(model, iterator, optimizer, criterion, clip, train_history=None, valid_history=None):\n",
        "    model.train()\n",
        "    \n",
        "    epoch_loss = 0\n",
        "    history = []\n",
        "    for i, batch in enumerate(iterator):\n",
        "        \n",
        "        # YOUR CODE\n",
        "        model.train()\n",
        "        logits = model(batch[\"inputs\"])\n",
        "        target = batch[\"outputs\"]\n",
        "        prob = torch.sigmoid(logits)\n",
        "        input = torch.cat([(1-prob).unsqueeze(-1), prob.unsqueeze(-1)], dim=2)\n",
        "        input = input.view(-1,2)\n",
        "        target = target.view(-1,1)[:,0]\n",
        "        loss = criterion(input, target)\n",
        "    \n",
        "        optimizer.zero_grad()\n",
        "        loss.backward()\n",
        "        torch.nn.utils.clip_grad_norm_(model.parameters(), clip)\n",
        "        optimizer.step()\n",
        "        \n",
        "        epoch_loss += loss.item()\n",
        "        history.append(loss.item())\n",
        "        if (i+1)%10==0:\n",
        "            fig, ax = plt.subplots(nrows=1, ncols=2, figsize=(12, 8))\n",
        "\n",
        "            clear_output(True)\n",
        "            ax[0].plot(history, label='train loss')\n",
        "            ax[0].set_xlabel('Batch')\n",
        "            ax[0].set_title('Train loss')\n",
        "            if train_history is not None:\n",
        "                ax[1].plot(train_history, label='general train history')\n",
        "                ax[1].set_xlabel('Epoch')\n",
        "            if valid_history is not None:\n",
        "                ax[1].plot(valid_history, label='general valid history')\n",
        "            plt.legend()\n",
        "            \n",
        "            plt.show()\n",
        "\n",
        "        \n",
        "    return epoch_loss / len(iterator)\n",
        "\n",
        "def evaluate(model, iterator, criterion):\n",
        "    model.eval()\n",
        "    \n",
        "    epoch_loss = 0\n",
        "    history = []\n",
        "    \n",
        "    with torch.no_grad():\n",
        "    \n",
        "        for i, batch in enumerate(iterator):\n",
        "\n",
        "            model.eval()\n",
        "            logits = model(batch[\"inputs\"])\n",
        "            target = batch[\"outputs\"]\n",
        "            prob = torch.sigmoid(logits)\n",
        "            input = torch.cat([(1-prob).unsqueeze(-1), prob.unsqueeze(-1)], dim=2)\n",
        "            input = input.view(-1,2)\n",
        "            target = target.view(-1,1)[:,0]\n",
        "            loss = criterion(input, target)\n",
        "            \n",
        "            epoch_loss += loss.item()\n",
        "    return epoch_loss / len(iterator)\n",
        "\n",
        "def epoch_time(start_time, end_time):\n",
        "    elapsed_time = end_time - start_time\n",
        "    elapsed_mins = int(elapsed_time / 60)\n",
        "    elapsed_secs = int(elapsed_time - (elapsed_mins * 60))\n",
        "    return elapsed_mins, elapsed_secs\n",
        "\n",
        "\n",
        "def train_with_logs(model, train_iterator, valid_iterator, optimizer, criterion, N_EPOCHS, CLIP):\n",
        "    train_history = []\n",
        "    valid_history = []\n",
        "    \n",
        "    best_valid_loss = float('inf')\n",
        "    \n",
        "    for epoch in range(N_EPOCHS):\n",
        "        \n",
        "        start_time = time.time()\n",
        "        \n",
        "        train_loss = train(model, train_iterator, optimizer, criterion, CLIP, train_history, valid_history)\n",
        "        valid_loss = evaluate(model, valid_iterator, criterion)\n",
        "        \n",
        "        end_time = time.time()\n",
        "        \n",
        "        epoch_mins, epoch_secs = epoch_time(start_time, end_time)\n",
        "        \n",
        "        if valid_loss < best_valid_loss:\n",
        "            best_valid_loss = valid_loss\n",
        "            torch.save(model.state_dict(), 'best-val-model.pt')\n",
        "        \n",
        "        train_history.append(train_loss)\n",
        "        valid_history.append(valid_loss)\n",
        "        print(f'Epoch: {epoch+1:02} | Time: {epoch_mins}m {epoch_secs}s')\n",
        "        print(f'\\tTrain Loss: {train_loss:.3f} | Train PPL: {math.exp(train_loss):7.3f}')\n",
        "        print(f'\\t Val. Loss: {valid_loss:.3f} |  Val. PPL: {math.exp(valid_loss):7.3f}')\n",
        "        \n",
        "def punct_detokenize(text):\n",
        "    text = text.strip()\n",
        "    punctuation = \",.!?:;%\"\n",
        "    closing_punctuation = \")]}\"\n",
        "    opening_punctuation = \"([}\"\n",
        "    for ch in punctuation + closing_punctuation:\n",
        "        text = text.replace(\" \" + ch, ch)\n",
        "    for ch in opening_punctuation:\n",
        "        text = text.replace(ch + \" \", ch)\n",
        "    res = [r'\"\\s[^\"]+\\s\"', r\"'\\s[^']+\\s'\"]\n",
        "    for r in res:\n",
        "        for f in re.findall(r, text, re.U):\n",
        "            text = text.replace(f, f[0] + f[2:-2] + f[-1])\n",
        "    text = text.replace(\"' s\", \"'s\").replace(\" 's\", \"'s\")\n",
        "    text = text.strip()\n",
        "    return text\n",
        "\n",
        "\n",
        "def postprocess(ref, hyp, is_multiple_ref=False, detokenize_after=False, tokenize_after=True):\n",
        "    if is_multiple_ref:\n",
        "        reference_sents = ref.split(\" s_s \")\n",
        "        decoded_sents = hyp.split(\"s_s\")\n",
        "        hyp = [w.replace(\"<\", \"&lt;\").replace(\">\", \"&gt;\").strip() for w in decoded_sents]\n",
        "        ref = [w.replace(\"<\", \"&lt;\").replace(\">\", \"&gt;\").strip() for w in reference_sents]\n",
        "        hyp = \" \".join(hyp)\n",
        "        ref = \" \".join(ref)\n",
        "    ref = ref.strip()\n",
        "    hyp = hyp.strip()\n",
        "    if detokenize_after:\n",
        "        hyp = punct_detokenize(hyp)\n",
        "        ref = punct_detokenize(ref)\n",
        "    if tokenize_after:\n",
        "        hyp = hyp.replace(\"@@UNKNOWN@@\", \"<unk>\")\n",
        "        hyp = \" \".join([token.text for token in razdel.tokenize(hyp)])\n",
        "        ref = \" \".join([token.text for token in razdel.tokenize(ref)])\n",
        "    return ref, hyp"
      ],
      "metadata": {
        "id": "YqgNfSdGSj6G"
      },
      "execution_count": 287,
      "outputs": []
    },
    {
      "cell_type": "code",
      "metadata": {
        "id": "rwrhG4v71yts"
      },
      "source": [
        "N_EPOCHS = 20\n",
        "CLIP = 1\n",
        "PAD_IDX = 2\n",
        "\n",
        "from sklearn.utils.class_weight import compute_class_weight\n",
        "target = np.fromiter((v for batch in train_iterator for v in batch[\"outputs\"].detach().cpu().numpy().flatten()), dtype=int)\n",
        "target = target[target != PAD_IDX]\n",
        "class_weight = torch.tensor(compute_class_weight(class_weight='balanced',\n",
        "                                    classes=np.unique(target),\n",
        "                                    y=target), dtype=torch.float).to(device)\n",
        "\n",
        "def train_2(use_class_weights, N_EPOCHS, CLIP, lr=1e-5):\n",
        "    optimizer = optim.Adam(model.parameters(), lr)\n",
        "    if use_class_weights:\n",
        "        # weights depend on the number of objects of class 0 and 1\n",
        "        # YOUR CODE\n",
        "        criterion = nn.CrossEntropyLoss(weight=class_weight, ignore_index=PAD_IDX)\n",
        "    else:\n",
        "        criterion = nn.CrossEntropyLoss(ignore_index=PAD_IDX)       \n",
        "    train_with_logs(model, train_iterator, val_iterator, optimizer, criterion, N_EPOCHS, CLIP) \n",
        "\n"
      ],
      "execution_count": 288,
      "outputs": []
    },
    {
      "cell_type": "markdown",
      "metadata": {
        "id": "vuv4Sh2Vj5Yr"
      },
      "source": [
        "## Inference"
      ]
    },
    {
      "cell_type": "code",
      "metadata": {
        "id": "wZ96X37bb_PV"
      },
      "source": [
        "#from train_model import punct_detokenize, postprocess\n",
        "\n",
        "def inference_summarunner(model, iterator, top_k=3):\n",
        "\n",
        "    references = []\n",
        "    predictions = []\n",
        "\n",
        "    model.eval()\n",
        "    for batch in test_iterator:\n",
        "\n",
        "        logits = model(batch['inputs'])\n",
        "        \n",
        "        sum_in = torch.argsort(logits, dim=1)[:, -top_k:]\n",
        "        \n",
        "        for i in range(len(batch['outputs'])):\n",
        "\n",
        "            summary = batch['records'][i]['summary'].lower()\n",
        "            try:\n",
        "              pred_summary = ' '.join([batch['records'][i]['sentences'][ind] for ind in sum_in.sort(dim=1)[0][i]])\n",
        "            except (IndexError):\n",
        "              continue\n",
        "\n",
        "            summary, pred_summary = postprocess(summary, pred_summary)\n",
        "\n",
        "            references.append(summary)\n",
        "            predictions.append(pred_summary)\n",
        "\n",
        "    return calc_scores(references, predictions)"
      ],
      "execution_count": 289,
      "outputs": []
    },
    {
      "cell_type": "markdown",
      "source": [
        "Создадим inference, в котором logits будут не ранжироваться, а выбираться те, у котрых logits > 0, в двух вариантах обучения."
      ],
      "metadata": {
        "id": "ku6nRb9TSqda"
      }
    },
    {
      "cell_type": "code",
      "source": [
        "from sklearn.preprocessing import minmax_scale\n",
        "\n",
        "    \n",
        "def inference_summarunner_2(model, iterator, coeff):\n",
        "    references = []\n",
        "    predictions = []\n",
        "    \n",
        "    model.eval()\n",
        "    for batch in iterator:\n",
        "        logits = torch.FloatTensor(minmax_scale(model(batch['inputs']).detach().cpu(), feature_range=(-1,1), axis=1, copy=True))\n",
        "\n",
        "        #logits = model(batch['inputs'])\n",
        "\n",
        "        for i in range(len(batch['outputs'])):\n",
        "          \n",
        "            sum_in = torch.nonzero(logits[i]>coeff, as_tuple=True)[0]\n",
        "            summary = batch['records'][i]['summary'].lower()\n",
        "\n",
        "            try:\n",
        "              pred_summary = ' '.join([batch['records'][i]['sentences'][ind] for ind in sum_in])\n",
        "            except (IndexError):\n",
        "              continue\n",
        "              \n",
        "            summary, pred_summary = postprocess(summary, pred_summary)\n",
        "            references.append(summary)\n",
        "            predictions.append(pred_summary)\n",
        "\n",
        "    return calc_scores(references, predictions)\n",
        "  "
      ],
      "metadata": {
        "id": "LtMGTxXYk5Jh"
      },
      "execution_count": 290,
      "outputs": []
    },
    {
      "cell_type": "code",
      "source": [
        "b_class_w_false = []\n",
        "b_class_w_true = []\n",
        "b_class_w_false_coeff_0 = []\n",
        "b_class_w_true_coeff_0 = []\n",
        "b_class_w_false_coeff_best = []\n",
        "b_class_w_true_coeff_best = []"
      ],
      "metadata": {
        "id": "puhdiluVyzKD"
      },
      "execution_count": 291,
      "outputs": []
    },
    {
      "cell_type": "code",
      "source": [
        "model = SentenceTaggerRNN(vocab_size, use_novelty = False).to(device)\n",
        "train_2(False, N_EPOCHS, CLIP)\n",
        "model.load_state_dict(torch.load('best-val-model.pt'))\n",
        "b = inference_summarunner(model, test_iterator, 3)\n",
        "b_class_w_false.append(b)"
      ],
      "metadata": {
        "colab": {
          "base_uri": "https://localhost:8080/",
          "height": 764
        },
        "id": "INSC0h84aILu",
        "outputId": "1d59bc2b-8525-441a-c3eb-4b6bb312fe8d"
      },
      "execution_count": 292,
      "outputs": [
        {
          "output_type": "display_data",
          "data": {
            "text/plain": [
              "<Figure size 864x576 with 2 Axes>"
            ],
            "image/png": "[encoded data removed]"
          },
          "metadata": {
            "needs_background": "light"
          }
        },
        {
          "output_type": "stream",
          "name": "stdout",
          "text": [
            "Epoch: 20 | Time: 0m 11s\n",
            "\tTrain Loss: 0.390 | Train PPL:   1.477\n",
            "\t Val. Loss: 0.405 |  Val. PPL:   1.499\n",
            "Count: 245\n",
            "Ref[-1]: два российских боксера были задержаны в москве при попытке забрать наркотики , при этом чемпион страны в весе до 81 кг георгий кушиташвили напал на сотрудника росгвардии и теперь может получить срок еще и за это .\n",
            "Hyp[-1]: 2 февраля мир российского бокса шокировала новость о задержании двух членов сборной россии георгия кушиташвили и овика оганнисяна . боксеров скрутили сотрудники росгвардии , чей патруль заметил , как подозрительные молодые люди зашли в подъезд дома на фрунзенской набережной . « в ходе проверки документов мужчины вели себя агрессивно , не реагировали на законные требования стражей правопорядка , а один из них напал на сотрудника росгвардии , нанеся удар в лицо , — сообщила пресс-служба организации .\n",
            "Ref[-2]: в кремле рассказали , что не получали никаких поздравительных посланий ко дню рождения владимира путина от дональда трампа и владимира зеленского . однако из-за возникающих иногда задержек их поздравления могут прийти позже . свое 67-летие владимир путин отпраздновал накануне , 7 октября .\n",
            "Hyp[-2]: российского президента владимира путина еще не поздравили его американский коллега дональд трамп и украинский лидер владимир зеленский , рассказал пресс-секретарь главы россии дмитрий песков . « до конца дня [ 7 октября ] я не видел среди поступивших посланий каких-либо посланий от трампа и зеленского . « днями ранее президент был в сибири , был в тайге .\n",
            "Ref[-3]: пранкер лексус заявил , что смог дозвониться до президента украины владимира зеленского , и опубликовал 30-секундную запись разговора . по словам « телефонного хулигана » , украинский лидер « ждал звонка с момента инаугурации » . лексус в начале беседы сказал , что « кремль на проводе » , и попросил снять запрет сбу на въезд в страну . в ответ ему предложили ответить на фразу « слава украине » .\n",
            "Hyp[-3]: дозвониться до президента украины владимира зеленского удалось российскому пранкеру лексусу ( настоящее имя — алексей столяров ) . об этом « телефонный хулиган » сообщил в facebook , прикрепив к посту 30-секундную запись разговора . это ее муж [ соведущий « 60 минут » евгений попов ] ?\n",
            "BLEU:  0.4159100097991625\n",
            "ROUGE:  {'rouge-1': {'f': 0.2892798934813352, 'p': 0.26753442005470734, 'r': 0.33236390530296955}, 'rouge-2': {'f': 0.1225427012049704, 'p': 0.11108766838763759, 'r': 0.14603647369089198}, 'rouge-l': {'f': 0.24443357623428827, 'p': 0.23907843769586165, 'r': 0.2964523323398378}}\n"
          ]
        }
      ]
    },
    {
      "cell_type": "code",
      "source": [
        "# logits с порогом > 0\n",
        "b = inference_summarunner_2(model, test_iterator, 0.001)\n",
        "b_class_w_false_coeff_0.append(b)"
      ],
      "metadata": {
        "colab": {
          "base_uri": "https://localhost:8080/"
        },
        "id": "yTKbEpYeWjYO",
        "outputId": "be92a16e-17af-4ec4-e1a9-a40317d0be30"
      },
      "execution_count": 293,
      "outputs": [
        {
          "output_type": "stream",
          "name": "stdout",
          "text": [
            "Count: 227\n",
            "Ref[-1]: киев может перейти к прямым закупкам российского газа , если на него будет установлена цена , привязанная к европейским тарифам . об этом заявил глава минэнерго украины алексей оржель . платить за газ « политическую цену » , то есть повышенную , он не готов . конфликт может быть решен президентами россии и украины в париже 9 декабря .\n",
            "Hyp[-1]: если цена на газ будет привязана к европейскому индикатору , то украина может рассмотреть вариант прямых поставок газа из россии в европу . об этом заявил министр энергетики и защиты окружающей среды украины алексей оржель . « четыре года мы получаем цену на газ так : цена европы плюс транспортировка назад , поэтому у нас одна их наивысших цен » , — сказал министр . по его словам , есть четкая позиция украинской стороны в переговорах по газу . « мы говорим , что если мы с вами можем договариваться про прямые поставки , в комплексе , в пакете , то цена должна быть привязана к европейскому индикатору » , — уточнил украинский чиновник . однако имплементация европейских норм пока идет со сложностями .\n",
            "Ref[-2]: в ираке заявили о « возникшей необходимости » в покупке у россии зенитных комплексов с-300 . несмотря на то , что у страны уже есть российское вооружение для пво , власти хотят приобрести более современное оружие . при этом сша ранее обещали ввести санкции против покупателей российского оружия .\n",
            "Hyp[-2]: переговоры между багдадом и москвой о покупке ираком российских зенитных комплексов с-300 возобновились , сообщил глава комитета по обороне и безопасности парламента ирака мухаммад рида в комментарии риа « новости » , отметив , что этот вопрос должен был решиться давно . « несколько месяцев назад после атак на базы шиитского ополчения « аль-хашд аш-шааби » в багдаде и других провинциях возникла необходимость в этом оружии , и ответственная сторона возобновила переговоры по контракту на с-300 » , — рассказал собеседник агентства . рида добавил , что не знает , на каком этапе находится сделка в настоящее время , но он может сказать , что ее санкционировало руководство ирака . араги заверил , что корпус стражей исламской революции намерен в дальнейшем отвечать на действия американских военных « сильнее , сокрушительнее и шире » , чем это было до этого . при этом 8 января иран атаковал военные базы сша в ираке .\n",
            "Ref[-3]: украинская исполнительница maruv посвятила гневный пост в своем instagram некоторым представителям сми и хейтерам , которые обрушились на нее после победы в номинации « лучший артист по версии телеканала « mtv россия » в рамках ежегодной премии mtv eur о pe music awards . певица посоветовала им « научиться читать и проверять факты , прежде чем обливать грязью » .\n",
            "Hyp[-3]: украинская певица maruv ( настоящее имя — анна корсун ) отреагировала на очередную « лавину хейта » в свой адрес , которая обрушилась на нее после победы в номинации « лучший артист по версии телеканала « mtv россия » в рамках ежегодной премии mtv eur о pe music awards . в своем instagram артистка написала большой эмоциональный пост , начав с того , что ей надоел « этот бесполезный срач и перекручивание фактов в сми » . « я получила награду на международной премии mtv ema в номинации « лучший артист по версии mtv russia » . « мы поздравляем не только maruv , но и ее фанатов , которые голосовали за нее без остановки целый месяц . из-за невероятной поддержки своих фанатов maruv выигрывает и отправляется на церемонию mtv ema 2019 в севилью » , — поздравили исполнительницу в аккаунте mtv russia . в день церемонии награждения певица выложила в сторис своего блога несколько фотографий с видами севильи , а также показала наряд , в котором она отправилась на мероприятие .\n",
            "BLEU:  0.2256410734241705\n",
            "ROUGE:  {'rouge-1': {'f': 0.24897812307259284, 'p': 0.18860904173766838, 'r': 0.4309775082075547}, 'rouge-2': {'f': 0.09930187893875086, 'p': 0.07350435672300398, 'r': 0.18879647395543075}, 'rouge-l': {'f': 0.18248776697195424, 'p': 0.16941760061944502, 'r': 0.38846604664925116}}\n"
          ]
        }
      ]
    },
    {
      "cell_type": "code",
      "source": [
        "# logits с лучшим эмпирически подобранным порогом \n",
        "b = inference_summarunner_2(model, test_iterator, .6)\n",
        "b_class_w_false_coeff_best.append(b)"
      ],
      "metadata": {
        "colab": {
          "base_uri": "https://localhost:8080/"
        },
        "id": "3wzzizuclo4k",
        "outputId": "922a4276-215b-4d24-f250-482dd8526c32"
      },
      "execution_count": 294,
      "outputs": [
        {
          "output_type": "stream",
          "name": "stdout",
          "text": [
            "Count: 252\n",
            "Ref[-1]: продюсер максим фадеев объявил о расторжении контрактов со всеми своими артистами . по его словам , все теперь уже бывшие представители лейбла malfa получили контент в « безвозмездное пользование » кроме двух музыкантов , имена которых он раскрывать не стал .\n",
            "Hyp[-1]: музыкальный продюсер максим фадеев сообщил , что его лейбл malfa расторг контракты со всеми своими артистами . по словам 51-летнего композитора , решением продюсерского центра контент был отдан теперь уже бывшим представителям malfa в « безвозмездное пользование » — за исключением двух музыкантов , с которыми до сих пор идут судебные споры . по словам певицы , она неоднократно пыталась прекратить работать с продюсерским центром , но для фадеева была артисткой , « приносящей бабло » , и он был заинтересован в продолжении сотрудничества . кроме того , закирова заверила , что в лейбле « всем рулит » серябкина .\n",
            "Ref[-2]: после ряда успешных проектов marvel studios , которые вышли под руководством кевина файги , конгломерат the walt disney company назначил его ответственным за координацию всех остальных департаментов marvel . в частности , теперь файги займется отделами по выпуску печатной , анимационной и телепродукции marvel .\n",
            "Hyp[-2]: руководство компании disney приняло решение о расширении полномочий главы marvel studios кевина файги , который теперь займется направлением творческого развития всего контента marvel , включая комиксы , сериалы и анимационные фильмы . помимо этого , было принято решение передать отделы marvel tv и marvel family entertainment под руководство marvel studios , а сам файги будет осуществлять координацию подотчетных ему департаментов компании под руководством главного креативного директора и сопредседателя walt disney studios алана хорна и его коллеги алана бергмана . первым серьезным шагом к объединению всех подразделений marvel entertainment под единым начальством стало отстранение от работы с кинодепартаментом исаака перлмуттера после того , как в 2015 году файги пригрозил покинуть компанию . отмечается , что несмотря на низкие показатели , которые на протяжении долгого времени демонстрировали телепроекты marvel на abc , и падение рейтингов шоу на netflix , прошедшим летом файги взялся за новую линейку телепродукции , которая должна будет выйти на disney + .\n",
            "Ref[-3]: в парке им . горького в казани нашли труп 41-летнего сотрудника регионального управления федерального казначейства россии марата сафиуллина . по данным сми , 4 декабря он рано покинул офис , после чего пропал . вечером супруга чиновника обратилась в правоохранительные органы — тело сафиуллина с рваной раной головы обнаружили спустя сутки .\n",
            "Hyp[-3]: тело 41-летнего сотрудника управления федерального казначейства россии марата сафиуллина найдено в парке в казани . расследование этого и других преступлений , к которым могут быть причастны люди из банды шишкана , продолжается .\n",
            "BLEU:  0.4430389347145971\n",
            "ROUGE:  {'rouge-1': {'f': 0.2881795308535511, 'p': 0.3300181154894684, 'r': 0.28915933130533705}, 'rouge-2': {'f': 0.12873409601454183, 'p': 0.1504786618643588, 'r': 0.1305944941980204}, 'rouge-l': {'f': 0.23270723777483648, 'p': 0.2918300879501021, 'r': 0.25626746877148954}}\n"
          ]
        }
      ]
    },
    {
      "cell_type": "code",
      "source": [
        "model = SentenceTaggerRNN(vocab_size, use_novelty = True).to(device)\n",
        "train_2(False, N_EPOCHS, CLIP)\n",
        "model.load_state_dict(torch.load('best-val-model.pt'))\n",
        "b = inference_summarunner(model, test_iterator, 3)\n",
        "b_class_w_false.append(b)"
      ],
      "metadata": {
        "colab": {
          "base_uri": "https://localhost:8080/",
          "height": 764
        },
        "id": "fzpxdCsWbEUL",
        "outputId": "54d17a11-63ce-4541-c1e7-ef6a996774d0"
      },
      "execution_count": 295,
      "outputs": [
        {
          "output_type": "display_data",
          "data": {
            "text/plain": [
              "<Figure size 864x576 with 2 Axes>"
            ],
            "image/png": "[encoded data removed]"
          },
          "metadata": {
            "needs_background": "light"
          }
        },
        {
          "output_type": "stream",
          "name": "stdout",
          "text": [
            "Epoch: 20 | Time: 0m 13s\n",
            "\tTrain Loss: 0.385 | Train PPL:   1.470\n",
            "\t Val. Loss: 0.395 |  Val. PPL:   1.485\n",
            "Count: 250\n",
            "Ref[-1]: украинская исполнительница maruv посвятила гневный пост в своем instagram некоторым представителям сми и хейтерам , которые обрушились на нее после победы в номинации « лучший артист по версии телеканала « mtv россия » в рамках ежегодной премии mtv eur о pe music awards . певица посоветовала им « научиться читать и проверять факты , прежде чем обливать грязью » .\n",
            "Hyp[-1]: украинская певица maruv ( настоящее имя — анна корсун ) отреагировала на очередную « лавину хейта » в свой адрес , которая обрушилась на нее после победы в номинации « лучший артист по версии телеканала « mtv россия » в рамках ежегодной премии mtv eur о pe music awards . в своем instagram артистка написала большой эмоциональный пост , начав с того , что ей надоел « этот бесполезный срач и перекручивание фактов в сми » . в день церемонии награждения певица выложила в сторис своего блога несколько фотографий с видами севильи , а также показала наряд , в котором она отправилась на мероприятие .\n",
            "Ref[-2]: в счетной палате рассказали об отсутствии водопровода , канализации и отопления в трети детских больниц рф . по словам жителей многих регионов , некоторые поликлиники просто разваливаются на глазах — в стенах зияют дыры , расползается краска и растет плесень . при этом минздрав обратил внимание , что эксперты сп могли дать не совсем верные цифры : в их отчете были также посчитаны гаражи и хозпомещения , в которых помощь детям не оказывается .\n",
            "Hyp[-2]: в минздраве указали на неточность данных , приведенных счетной палатой , — в ее отчете было заявлено , что в трети российских больниц нет водопровода или канализации . об этом « газете . ru » сообщили в пресс-службе министерства здравоохранения . они включают в себя информацию обо всех зданиях , принадлежащих медучреждениям — в том числе гаражах , складах , компрессорных и трансформаторных подстанциях и котельных .\n",
            "Ref[-3]: в солнечной системе новости — астрономы нашли новую карликовую планету . астероид гигея в прошлом претерпел мощнейший удар , после которого возродился заново и стал почти сферическим , что позволяет ему претендовать на новое звание .\n",
            "Hyp[-3]: похоже , в солнечной системе вскоре могут снова произойти изменения , связанные с переклассификацией известных науке тел . по мнению ученых , в ближайшем будущем возможно увеличение числа так называемых карликовых планет — тел , из-за которых возникает наибольшее число споров в астрономической среде . чтобы относиться к карликовым планетам , по правилам международного астрономического союза телу солнечной системы необходимо удовлетворять сразу четырем критериям . с конца 1990-х годов считалось , что планетой солнечной системы , имеющей наибольшее число спутников , является юпитер , у которого их в настоящее время насчитывается 79 штук .\n",
            "BLEU:  0.4204353194155663\n",
            "ROUGE:  {'rouge-1': {'f': 0.2982787074493614, 'p': 0.2750145140979772, 'r': 0.3441626212532676}, 'rouge-2': {'f': 0.1284125294364799, 'p': 0.11622165778735635, 'r': 0.15328325763426237}, 'rouge-l': {'f': 0.2519241482187721, 'p': 0.2458291248187534, 'r': 0.30784806674703347}}\n"
          ]
        }
      ]
    },
    {
      "cell_type": "code",
      "source": [
        "# logits с порогом > 0\n",
        "b = inference_summarunner_2(model, test_iterator, .001)\n",
        "b_class_w_false_coeff_0.append(b)"
      ],
      "metadata": {
        "colab": {
          "base_uri": "https://localhost:8080/"
        },
        "id": "vUFXe_gVXHUD",
        "outputId": "2c137ba6-2194-4be6-f658-dff0f0c0589b"
      },
      "execution_count": 296,
      "outputs": [
        {
          "output_type": "stream",
          "name": "stdout",
          "text": [
            "Count: 256\n",
            "Ref[-1]: падчерица бойца ufc уолта харриса энайа блэншард найдена мертвой . 19-летняя студентка пропала без вести в октябре , а накануне правоохранительные органы обнаружили останки человеческого тела , которые , как предполагается , принадлежат ей . по делу об убийстве задержаны двое подозреваемых .\n",
            "Hyp[-1]: энайа блэншард , приемная дочь профессионального бойца смешанного стиля ( mma ) уолта харриса , найдена мертвой . как сообщает cbs , 25 ноября правоохранительные органы обнаружили останки человеческого тела в округе мейкон , штат джорджия , которые , по предварительным данным , принадлежат пропавшей девушке . « я могу подтвердить , что мы нашли человеческие останки , и у нас есть веские основания подозревать , что это блэншард » , — цитирует окружного прокурора брэндона хьюза wrbl news 3 .\n",
            "Ref[-2]: военнослужащие всу уже не способны наступать и побеждать , сейчас они могут только терпеть поражения , считает бывший участник боевых действий в донбассе из германии . о том , что украинская армия переживает не лучшие времена , особенно в части морального состояния своих бойцов , говорят и ополченцы .\n",
            "Hyp[-2]: бывший участник боевых действий в донбассе на стороне киевских властей , гражданин германии , представившийся зигфридом , в интервью порталу censor . net раскритиковал вооруженные силы украины ( всу ) .\n",
            "Ref[-3]: украинские власти призвали разрабатывать законы специально для крыма , а также оказывать информационное влияние на крымчан и таким образом попытаться вернуть полуостров под власть киева . зампред комитета совета федерации по международным делам андрей климов указал , что притязания киева на крым беспочвенны , и запад украине в этом не поможет .\n",
            "Hyp[-3]: киев должен разрабатывать законы специально для крыма ( являющегося российским регионом ) , а также заниматься информационным влиянием на крымчан — такими способами , по мнению так называемого « постоянного представителя президента украины в крыму » антона кориневича , украина вернет себе власть над полуостровом .\n",
            "BLEU:  0.36504793370717775\n",
            "ROUGE:  {'rouge-1': {'f': 0.2833740640758208, 'p': 0.3846559241775497, 'r': 0.28308269990868634}, 'rouge-2': {'f': 0.13001737733024585, 'p': 0.18903032533873917, 'r': 0.1312939791083617}, 'rouge-l': {'f': 0.214599892324176, 'p': 0.34283554870661354, 'r': 0.25243292433851794}}\n"
          ]
        }
      ]
    },
    {
      "cell_type": "code",
      "source": [
        "# logits с лучшим эмпирически подобранным порогом \n",
        "b = inference_summarunner_2(model, test_iterator, .0005)\n",
        "b_class_w_false_coeff_best.append(b)"
      ],
      "metadata": {
        "colab": {
          "base_uri": "https://localhost:8080/"
        },
        "id": "HEdCZKrQXHUM",
        "outputId": "fe633064-219e-42a9-a87a-4f26ceaf9369"
      },
      "execution_count": 297,
      "outputs": [
        {
          "output_type": "stream",
          "name": "stdout",
          "text": [
            "Count: 256\n",
            "Ref[-1]: 75 лет назад генерал-изменник андрей власов провозгласил в праге манифест , обозначив такие цели , как свержение сталинской тирании и освобождение народов россии от большевистской системы . власовское движение оформилось в политическую организацию конр , которая имела собственные вооруженные силы , и позиционировалась в качестве полноправного союзника нацистской германии .\n",
            "Hyp[-1]: 14 ноября 1944 года бывший генерал-лейтенант красной армии андрей власов , попавший в плен и перешедший на сторону нацистской германии в ходе второй мировой войны , провозгласил в праге манифест комитета освобождения народов россии ( конр ) . основным положением состоявшего из 14 пунктов программного документа являлось « свержение сталинской тирании , освобождение народов россии от большевистской системы и возвращение народам россии прав , завоеванных ими в народной революции 1917 года » . своей целью конр ставил прекращение войны и заключение почетного мира с германией , затем – « создание новой свободной народной государственности без большевиков и эксплуататоров » . в тексте также упоминалось об « утверждении национально-трудового строя » , « всемерном развитии международного сотрудничества » , « ликвидации принудительного труда » , « ликвидации колхозов » и « предоставлении интеллигенции права свободно творить » .\n",
            "Ref[-2]: в парке им . горького в казани нашли труп 41-летнего сотрудника регионального управления федерального казначейства россии марата сафиуллина . по данным сми , 4 декабря он рано покинул офис , после чего пропал . вечером супруга чиновника обратилась в правоохранительные органы — тело сафиуллина с рваной раной головы обнаружили спустя сутки .\n",
            "Hyp[-2]: тело 41-летнего сотрудника управления федерального казначейства россии марата сафиуллина найдено в парке в казани .\n",
            "Ref[-3]: до конца этого года в госдуму на рассмотрение будет внесен законопроект об обязательной идентификации домашних животных , разработанный минсельхозом . владельцы питомцев смогут сами выбрать способ маркировки , все они будут бесплатными . маркировка необходима , чтобы потерявшееся животное могли быстро найти , кроме того , законы , касающиеся питомцев , на деле не работают без единой системы идентификации .\n",
            "Hyp[-3]: домашних животных в россии предлагают маркировать , чтобы владельцам было легче отыскать питомца , если тот потеряется . после того как на животное наносят маркировку , ему присваивают уникальный номер из 11 букв и цифр , который регистрируют в единой электронной базе данных .\n",
            "BLEU:  0.36504793370717775\n",
            "ROUGE:  {'rouge-1': {'f': 0.2833740640758205, 'p': 0.38465592417754974, 'r': 0.2830826999086865}, 'rouge-2': {'f': 0.13001737733024585, 'p': 0.1890303253387391, 'r': 0.13129397910836174}, 'rouge-l': {'f': 0.21459989232417606, 'p': 0.34283554870661376, 'r': 0.25243292433851816}}\n"
          ]
        }
      ]
    },
    {
      "cell_type": "code",
      "source": [
        "model = SentenceTaggerRNN(vocab_size, use_novelty = False).to(device)\n",
        "train_2(True, N_EPOCHS, CLIP)\n",
        "model.load_state_dict(torch.load('best-val-model.pt'))\n",
        "b = inference_summarunner(model, test_iterator, 3)\n",
        "b_class_w_true.append(b)"
      ],
      "metadata": {
        "colab": {
          "base_uri": "https://localhost:8080/",
          "height": 764
        },
        "id": "PPU9N9oRbJMu",
        "outputId": "6bf1036b-d5ea-4c1c-c916-a11a963d86cc"
      },
      "execution_count": 298,
      "outputs": [
        {
          "output_type": "display_data",
          "data": {
            "text/plain": [
              "<Figure size 864x576 with 2 Axes>"
            ],
            "image/png": "[encoded data removed]"
          },
          "metadata": {
            "needs_background": "light"
          }
        },
        {
          "output_type": "stream",
          "name": "stdout",
          "text": [
            "Epoch: 20 | Time: 0m 11s\n",
            "\tTrain Loss: 0.626 | Train PPL:   1.870\n",
            "\t Val. Loss: 0.610 |  Val. PPL:   1.840\n",
            "Count: 256\n",
            "Ref[-1]: сбу проводит обыски офисе медиа-группы « 1 + 1 » олигарха игоря коломойского , а также в квартирах нескольких журналистов . по словам правоохранителей , следственные действия связаны с уголовным делом о прослушивании совещания премьер-министра алексея гончарука , на котором глава правительства раскритиковал президента украины владимира зеленского .\n",
            "Hyp[-1]: в киеве в одном из офисов медиа-группы « 1 + 1 » олигарха игоря коломойского сотрудники службы безопасности украины провели обыски . представитель спецслужбы елена гитлянская заверила , что следственные действия вызваны не работой телеканала , а его отдельными сотрудниками , которые на рабочем месте « создавали и хранили аудио файлы , полученные незаконным способом » . кроме того , ряд других сотрудников сми проверяется « на причастность к незаконному использованию специальных технических средств » .\n",
            "Ref[-2]: в санкт-петербурге учительницу истории уволили из школы за откровенные высказывания об интимной жизни , алкоголе и неформальное общение с учениками в соцсетях . по данным сми , на девушку пожаловались родители школьников , которые решили почитать ее аккаунт в твиттере . сама учительница уверена : ее увольнение было делом времени , так как она смогла стать для учеников « единственным понимающим их взрослым » .\n",
            "Hyp[-2]: педагога по истории уволили из школы № 579 в приморском районе санкт-петербурга за слишком откровенные высказывания в соцсетях . об этом 25-летняя девушка рассказала в своем аккаунте в twitter — сейчас он закрыт от посторонних пользователей , однако скрины постов приводит местное издание « фонтанка » . « короче , сегодня меня на перемене одномоментно уволили за мой твиттер .\n",
            "Ref[-3]: международный союз биатлонистов ( ibu ) аннулировал результат сборной норвегии в смешанной эстафете чемпионата европы после протеста команды белоруссии , в котором говорилось , что финишер скандинавов александр андерсен наступил на лыжу сергею бочарникову , а затем вытолкнул его с трассы . это позволило белорусам получить бронзовые медали , однако спустя несколько часов жюри резко изменило свое мнение и вернуло норвежцам награды .\n",
            "Hyp[-3]: в белорусских раубичах в самом разгаре чемпионат европы по биатлону . этот турнир , как правило , проходит без таких страстей , как чемпионат мира , поскольку изрядно уступает ему по статусу , и даже наличие множества топовых сборных , вроде норвегии , швеции и россии , не спасает — все они отправляют на евро не свою основную команду , а молодежь , которой только предстоит зарекомендовать себя . первый день чемпионата европы прошел в привычном режиме , а спокойствие нарушали лишь критические отзывы биатлонистов о качестве трассы , которую сравнивали с кашей , « криво-косо » покрытой большими буграми из грязного снега .\n",
            "BLEU:  0.4483358093852308\n",
            "ROUGE:  {'rouge-1': {'f': 0.31733181247536874, 'p': 0.3031341514395033, 'r': 0.3531967563454293}, 'rouge-2': {'f': 0.14277322190268443, 'p': 0.13475932187114892, 'r': 0.16339726182715184}, 'rouge-l': {'f': 0.27154623032757474, 'p': 0.27392581203986105, 'r': 0.318604126542439}}\n"
          ]
        }
      ]
    },
    {
      "cell_type": "code",
      "source": [
        "# logits с порогом > 0\n",
        "b = inference_summarunner_2(model, test_iterator, .001)\n",
        "b_class_w_true_coeff_0.append(b)"
      ],
      "metadata": {
        "colab": {
          "base_uri": "https://localhost:8080/"
        },
        "id": "Kbu6yI-kXMSF",
        "outputId": "a8c8ecef-7297-4f9c-94a4-caf9c25d216c"
      },
      "execution_count": 299,
      "outputs": [
        {
          "output_type": "stream",
          "name": "stdout",
          "text": [
            "Count: 254\n",
            "Ref[-1]: россия второй год подряд занимает 43-е место в рейтинге конкурентоспособности мировых экономик . аналитики всемирного экономического форума отметили удачные меры властей по борьбе с инфляцией и внедрению новых технологий , но и эти достижения не позволили стране получить более престижную строчку . пока москва не решит проблему с плохим инвестиционный климатом и не прекратит показательные посадки крупных бизнесменов новых высот ей не видать , указывают эксперты .\n",
            "Hyp[-1]: россия получила 43-строчку в индексе мировой конкурентоспособности , который ежегодно составляет всемирный экономический форум ( вэф ) . по сравнению с прошлым годом страна несколько увеличила свой общий балл с 65,6 до 66,7 . рост итоговой оценки обусловлен пока еще положительными показателями в маркоэкономики страны , указывают зарубежные эксперты . так , россия получила два дополнительных балла за снижения уровня инфляции до 3 % и преодоление рецессии . вдобавок стране дали 2,2 бала за свои « стратегические решения » в области научных исследований и за расширение доступа граждан к инновациям . « инновации также поддерживаются внедрением информационных технологий благодаря особенно быстрому распространению интернета , который доступен 81 % населения » , — говорится в докладе . впрочем , на этих показателях успехи россии заканчиваются , признают экономисты .\n",
            "Ref[-2]: компания « газпром » намерена запустить « северный поток — 2 » в конце 2020 года . газопровод собираются достроить , несмотря на санкции сша . в америке могут ввести еще один пакет ограничения против проекта в ближайшее время .\n",
            "Hyp[-2]: « газпром » рассчитывает запустить « северный поток — 2 » в конце этого года , несмотря на высокую вероятность введения новых санкций против экспортного газопровода . об этом стало известно на презентации нефтяной компании , подготовленной ко дню инвестора предприятия . « запуск : конец 2020 года » , — приводит « риа новости » выдержки из документа . ранее сообщалось , что сша в скором времени могут ввести еще один пакет санкций против газопровода « северный поток — 2 » . это произойдет , если россия предпримет попытку достроить недостающие километры трубопровода . об этом сообщалось в публикации издания handelsblatt со ссылкой на дипломатические круги в вашингтоне .\n",
            "Ref[-3]: в 09 : 25 на вокзал севастополя прибыл первый пассажирский поезд , пришедший на полуостров по крымскому мосту . он отправился в путь из санкт-петербурга и был в пути два дня , обходя территорию украины . глава республики крым сергей аксенов назвал это событие « эпохальным » .\n",
            "Hyp[-3]: первый пассажирский поезд из санкт-петербурга в севастополь успешно проехал по крымскому мосту . как сообщает тасс , состав преодолел железнодорожный участок переправы за полчаса . машинист специально замедлил ход поезда , чтобы первые пассажиры смогли рассмотреть арки моста , а встречающие его крымчане могли бы сфотографировать поезд и поприветствовать сограждан . пролеты были освещены яркими прожекторами и светильниками — всего их более 2 тыс . и 18 разных видов . в 09 : 25 мск поезд прибыл на вокзал севастополя . перед этим он совершил 15-минутную остановку в симферополе .\n",
            "BLEU:  0.24262248214772367\n",
            "ROUGE:  {'rouge-1': {'f': 0.28221483448090257, 'p': 0.20921551675949973, 'r': 0.48668892381815126}, 'rouge-2': {'f': 0.11871304712598947, 'p': 0.08535981104454693, 'r': 0.2256229986693369}, 'rouge-l': {'f': 0.20759145336879137, 'p': 0.1906524248864892, 'r': 0.44404496519549286}}\n"
          ]
        }
      ]
    },
    {
      "cell_type": "code",
      "source": [
        "# logits с лучшим эмпирически подобранным порогом \n",
        "b = inference_summarunner_2(model, test_iterator, .7)\n",
        "b_class_w_true_coeff_best.append(b)"
      ],
      "metadata": {
        "colab": {
          "base_uri": "https://localhost:8080/"
        },
        "id": "aZmwDzwpXMSG",
        "outputId": "5fe56c79-85b2-48db-e23c-6cdb15fb0320"
      },
      "execution_count": 300,
      "outputs": [
        {
          "output_type": "stream",
          "name": "stdout",
          "text": [
            "Count: 256\n",
            "Ref[-1]: в четверг исполняется 65 лет кондолизе райс — одной из самых знаковых фигур американской политики администрации джорджа буша — младшего . специалист по ссср и россии , она пользовалась уважением в москве , но продвигала жесткую линию по включению украины и грузии в нато . выйдя в отставку , райс старается держаться подальше от белого дома , хотя в последнее время позволила себе критические высказывания о президенте сша дональде трампе .\n",
            "Hyp[-1]: в детстве и юности 66-й госсекретарь сша кондолиза райс , которой в четверг исполняется 65 лет , занималась музыкой . ее любимым композитором был немецкий композитор иоганнес брамс , которого она называла « страстным , но без сентиментальности » .\n",
            "Ref[-2]: для борьбы с с недобросовестными азс , недоливающими топливо , будут использоваться специальные приборы , а также проверки программного обеспечения . в этом вопросе росстандарт намерен использовать опыт , полученный в сфере регулирования работы игровых автоматов .\n",
            "Hyp[-2]: росстандарт готовит арсенал для проверок автозаправочных станций на недолив топлива : проверяться будет не конкретная колонка , а ее работа как системы , в том числе ее связь с оператором за кассой . контролеров при работе методом тайного покупателя вооружат скрытым прибором , который сможет « ловить » недолив на уровне 1 % .\n",
            "Ref[-3]: американский экономист николас гвоздев предсказал россии победу в нефтяной войне с сша , а также дальнейшее сотрудничество москвы с эр-риядом . по словам эксперта , россия готова к затяжной ценовой войне , а позиции сша шатки — особенно , перед выборами президента . со своей стороны президент россии владимир путин заявил , что страна сможет преодолеть ситуацию со снижением цен на нефть и распространением коронавируса .\n",
            "Hyp[-3]: россия вступает в нефтяную войну с целью вытеснить американских производителей с рынка и попытаться договориться с эр-риядом по объемам добычи – с таким утверждением на страницах издания the national interest выступил профессор экономической политики и национальной безопасности в военно-морском колледже сша николас гвоздев . « я полагаю , что кремль делает ставку на то , что к концу года он сможет не только победить соединенные штаты , но и восстановить свое партнерство с саудовской аравией .\n",
            "BLEU:  0.4141156129628979\n",
            "ROUGE:  {'rouge-1': {'f': 0.3109799073456984, 'p': 0.38210920502769175, 'r': 0.2899960077113303}, 'rouge-2': {'f': 0.1454772371147263, 'p': 0.1862060868262855, 'r': 0.1358722855256342}, 'rouge-l': {'f': 0.25789277983574543, 'p': 0.34285200752064243, 'r': 0.26058830004753686}}\n"
          ]
        }
      ]
    },
    {
      "cell_type": "code",
      "source": [
        "model = SentenceTaggerRNN(vocab_size, use_novelty = True).to(device)\n",
        "train_2(True, N_EPOCHS, CLIP)\n",
        "model.load_state_dict(torch.load('best-val-model.pt'))\n",
        "b = inference_summarunner(model, test_iterator, 3)\n",
        "b_class_w_true.append(b)"
      ],
      "metadata": {
        "colab": {
          "base_uri": "https://localhost:8080/",
          "height": 764
        },
        "id": "CwJfxZ6SbNSN",
        "outputId": "0e6aac29-8fe8-4ff5-eab8-57b30eeb195b"
      },
      "execution_count": 301,
      "outputs": [
        {
          "output_type": "display_data",
          "data": {
            "text/plain": [
              "<Figure size 864x576 with 2 Axes>"
            ],
            "image/png": "[encoded data removed]"
          },
          "metadata": {
            "needs_background": "light"
          }
        },
        {
          "output_type": "stream",
          "name": "stdout",
          "text": [
            "Epoch: 20 | Time: 0m 13s\n",
            "\tTrain Loss: 0.624 | Train PPL:   1.867\n",
            "\t Val. Loss: 0.606 |  Val. PPL:   1.833\n",
            "Count: 256\n",
            "Ref[-1]: на украине представили обновленные правила отбора на « евровидение » . в частности , согласно нововведениям , представителями страны на песенном конкурсе в будущем году смогут стать исключительно те артисты , которые не выступали в россии с 2014-го и не планируют делать это в ближайшее время .\n",
            "Hyp[-1]: национальная общественная телерадиокомпания украины ( ноту ) представила обновленные правила отбора на « евровидение » . в пресс-релизе организации отмечается , что на главный песенный конкурс европы от украины в 2020 году смогут поехать только те артисты , которые не осуществляли концертной деятельности на территории россии с 2014-го , не планируют и не анонсируют ее вплоть до финала шоу , а также не въезжали в крым с территории рф . по словам председателя правления ноту зураба аласании , будущий представитель страны на « евровидении » должен быть « не только талантливым и ярким артистом , но и полностью понимать ответственность , разделять позицию , ценности украинского общества » .\n",
            "Ref[-2]: киев может перейти к прямым закупкам российского газа , если на него будет установлена цена , привязанная к европейским тарифам . об этом заявил глава минэнерго украины алексей оржель . платить за газ « политическую цену » , то есть повышенную , он не готов . конфликт может быть решен президентами россии и украины в париже 9 декабря .\n",
            "Hyp[-2]: если цена на газ будет привязана к европейскому индикатору , то украина может рассмотреть вариант прямых поставок газа из россии в европу . об этом заявил министр энергетики и защиты окружающей среды украины алексей оржель . « четыре года мы получаем цену на газ так : цена европы плюс транспортировка назад , поэтому у нас одна их наивысших цен » , — сказал министр .\n",
            "Ref[-3]: в приморье застрелили 37-летнего казачьего атамана игоря богатырева . местные сми отмечают , что он был активным участником черного рынка по вылову морских огурцов . не исключено , что богатырева могли убить его конкуренты . правоохранители уже объявили в розыск предполагаемых злоумышленников . из ориентировки мвд следует , что речь идет о « лицах кавказской национальности » .\n",
            "Hyp[-3]: в селе барабаш приморского края убили 37-летнего казачьего атамана игоря богатырева . об этом сообщили в управлении регионального следственного комитета . по данным ведомства , трагедия произошла 27 ноября 2019 года .\n",
            "BLEU:  0.4483358093852308\n",
            "ROUGE:  {'rouge-1': {'f': 0.317331812475369, 'p': 0.30313415143950334, 'r': 0.35319675634542924}, 'rouge-2': {'f': 0.14277322190268438, 'p': 0.13475932187114892, 'r': 0.1633972618271517}, 'rouge-l': {'f': 0.27154623032757447, 'p': 0.2739258120398613, 'r': 0.3186041265424392}}\n"
          ]
        }
      ]
    },
    {
      "cell_type": "code",
      "source": [
        "# logits с порогом > 0\n",
        "b = inference_summarunner_2(model, test_iterator, .001)\n",
        "b_class_w_true_coeff_0.append(b)"
      ],
      "metadata": {
        "colab": {
          "base_uri": "https://localhost:8080/"
        },
        "id": "0PMrHFr6XNpg",
        "outputId": "a484b2ac-65ad-458d-8a25-c32d0f0ad251"
      },
      "execution_count": 302,
      "outputs": [
        {
          "output_type": "stream",
          "name": "stdout",
          "text": [
            "Count: 256\n",
            "Ref[-1]: протесты украинских шахтеров вынудили раду выделить дополнительные $ 40 млн угледобывающей промышленности . этих денег хватит на погашение текущих долгов , однако не за горами новые : объемы производства сокращаются , средств не хватает даже для освещения шахт , а уже добытый уголь никому не нужен и лежит на складах .\n",
            "Hyp[-1]: ситуация с угледобывающей промышленностью на украине , где шахтеры вынуждены выходить на улицы , чтобы получить зарплату , остается весьма шаткой . сумма долгов горнякам составляет $ 47 млн . хотя в четверг депутаты рады поддержали законопроект о внесении изменений в госбюджет , чтобы выплатить шахтерами заработную плату , что будет дальше с шахтерами и государственными угледобывающими предприятиями — неизвестно .\n",
            "Ref[-2]: накопительная часть пенсии не будет разморожена . по крайней мере до 2022 года включительно . это следует из подписанного президентом владимиром путиным закона . накопительная часть пенсии была заморожена еще в 2014 году и позволила пфр сэкономить более двух триллионов рублей . надежд на будущую « разморозку » все меньше . чиновники рассчитывают , что россияне будут копить на достойную старость самостоятельно .\n",
            "Hyp[-2]: « заморозку » накопительной части пенсии продлили до 2022 года . соответствующий федеральный закон подписал президент россии владимир путин . он опубликован на портале правовой информации и вступает в силу с 1 января .\n",
            "Ref[-3]: в сша обнародовали документы об украинском националисте степане бандере , согласно которым в годы второй мировой войны он работал на гитлера . это указано в статье американского издания , датированной 1951 годом . в материале подчеркивается , что бандера стал организатором этнических чисток , жертвами которых стали десятки тысяч украинцев , поляков и евреев .\n",
            "Hyp[-3]: центральное разведывательное управление ( цру ) сша обнародовало рассекреченные архивные документы о второй мировой войне и украинском националисте степане бандере . на сайте цру появилась четырехстраничная статья из журнала « социалистический вестник » , который издавался в сша в 1921—1965 годах . материал под названием « степан бандера и украинское государство 1941 года » датирован 1951 годом .\n",
            "BLEU:  0.3709102233560237\n",
            "ROUGE:  {'rouge-1': {'f': 0.307674597963225, 'p': 0.2768652143479554, 'r': 0.3844118437041681}, 'rouge-2': {'f': 0.1349302690311599, 'p': 0.1197786713982189, 'r': 0.1766428306929168}, 'rouge-l': {'f': 0.2541640382043526, 'p': 0.251271498476094, 'r': 0.34754711422048495}}\n"
          ]
        }
      ]
    },
    {
      "cell_type": "code",
      "source": [
        "# logits с лучшим эмпирически подобранным порогом \n",
        "b = inference_summarunner_2(model, test_iterator, .35)\n",
        "b_class_w_true_coeff_best.append(b)"
      ],
      "metadata": {
        "colab": {
          "base_uri": "https://localhost:8080/"
        },
        "id": "jo57U9EKXNph",
        "outputId": "f70c47d9-6205-4bca-f1be-9f4d2edcc6a1"
      },
      "execution_count": 303,
      "outputs": [
        {
          "output_type": "stream",
          "name": "stdout",
          "text": [
            "Count: 256\n",
            "Ref[-1]: у россии появился новый потенциальный покупатель истребителей пятого поколения су-57 , сообщают сми . журналисты обратили внимание , что государство мьянма испытывает потребность в них , поскольку мощности закупленных ранее су-30 может не хватить для оказания противодействия противнику .\n",
            "Hyp[-1]: интерес к покупке российских истребителей пятого поколения су-57 проявила мьянма , сообщает журнал military watch . по данным издания , программа модернизации ввс государства предполагает закупку тяжелых истребителей .\n",
            "Ref[-2]: нато оценит действия турции в сирии — соответствующая комиссия альянса создана в брюсселе . операция « источник мира » , которую проводит анкара против курдов , может стать настоящим испытанием военного блока на прочность , а среди самих стран-членов нато растут разногласия по самым разным поводам .\n",
            "Hyp[-2]: в брюсселе создан кризисный штаб нато для оценки военной операции « источник мира » , которую проводит турция на севере сирии , пишет германская газета welt am sonntag со ссылкой на источники в военных кругах страны . в состав штаба вошли эксперты по вопросам разведки , безопасности и военных действий .\n",
            "Ref[-3]: французское издание le monde со ссылкой на источники сообщило , что во французских альпах с 2014 по 2018 год якобы базировались « офицеры гру » . туда они , по данным сми , приезжали из великобритании , россии , испании и швейцарии . список « шпионов » состоит из 15 человек , в частности , в нем указаны александр петров и руслан боширов , которых британские власти подозревают в причастности к отравлению скрипалей .\n",
            "Hyp[-3]: порядка 15 « офицеров гру » ( ныне главное управление генштаба ) в течение нескольких лет использовали французские альпы как опорную базу , утверждает французское издание le monde со ссылкой на источники . по данным газеты , французские , британские , швейцарские спецслужбы совместно с партнерами ( в том числе и с сша ) начали в 2018 году « охоту » на « российских шпионов » после того , как весной прошлого года в британском солсбери произошло отравление бывшего сотрудника гру сергея скрипаля и его дочери юлии . лондон обвинил москву в причастности к происшествию .\n",
            "BLEU:  0.4548958484141521\n",
            "ROUGE:  {'rouge-1': {'f': 0.31130282086877703, 'p': 0.34719576508451955, 'r': 0.30719247529037996}, 'rouge-2': {'f': 0.1435039808000529, 'p': 0.16210853294104743, 'r': 0.14359380704233785}, 'rouge-l': {'f': 0.2614245339380436, 'p': 0.3138192840014375, 'r': 0.27715315121910533}}\n"
          ]
        }
      ]
    },
    {
      "cell_type": "markdown",
      "source": [
        "# Таблицы значений BLEU с использованием novelty и без, а также c весами в CrossEntropyLoss и без"
      ],
      "metadata": {
        "id": "kVI-UdxkBWJ2"
      }
    },
    {
      "cell_type": "markdown",
      "source": [
        "### Таблица без порога для логитов"
      ],
      "metadata": {
        "id": "AVdUVGi7Bvjb"
      }
    },
    {
      "cell_type": "code",
      "source": [
        "import pandas as pd\n",
        "\n",
        "data = {'' :  ['use_novelty=False', \n",
        "                   'use_novelty=True' ], \n",
        "        'use_class_weights=False': b_class_w_false, \n",
        "        'use_class_weights=True' :  b_class_w_true}\n",
        "df =  pd.DataFrame(data)\n",
        "df"
      ],
      "metadata": {
        "colab": {
          "base_uri": "https://localhost:8080/",
          "height": 112
        },
        "id": "FEhl4dkxwon-",
        "outputId": "1be02b5a-31dd-4a63-b7f7-21b0d40f333e"
      },
      "execution_count": 304,
      "outputs": [
        {
          "output_type": "execute_result",
          "data": {
            "text/plain": [
              "                      use_class_weights=False  use_class_weights=True\n",
              "0  use_novelty=False                 0.415910                0.448336\n",
              "1   use_novelty=True                 0.420435                0.448336"
            ],
            "text/html": [
              "\n",
              "  <div id=\"df-48cc9fa2-3804-4d10-bf57-00e932b6fa2f\">\n",
              "    <div class=\"colab-df-container\">\n",
              "      <div>\n",
              "<style scoped>\n",
              "    .dataframe tbody tr th:only-of-type {\n",
              "        vertical-align: middle;\n",
              "    }\n",
              "\n",
              "    .dataframe tbody tr th {\n",
              "        vertical-align: top;\n",
              "    }\n",
              "\n",
              "    .dataframe thead th {\n",
              "        text-align: right;\n",
              "    }\n",
              "</style>\n",
              "<table border=\"1\" class=\"dataframe\">\n",
              "  <thead>\n",
              "    <tr style=\"text-align: right;\">\n",
              "      <th></th>\n",
              "      <th></th>\n",
              "      <th>use_class_weights=False</th>\n",
              "      <th>use_class_weights=True</th>\n",
              "    </tr>\n",
              "  </thead>\n",
              "  <tbody>\n",
              "    <tr>\n",
              "      <th>0</th>\n",
              "      <td>use_novelty=False</td>\n",
              "      <td>0.415910</td>\n",
              "      <td>0.448336</td>\n",
              "    </tr>\n",
              "    <tr>\n",
              "      <th>1</th>\n",
              "      <td>use_novelty=True</td>\n",
              "      <td>0.420435</td>\n",
              "      <td>0.448336</td>\n",
              "    </tr>\n",
              "  </tbody>\n",
              "</table>\n",
              "</div>\n",
              "      <button class=\"colab-df-convert\" onclick=\"convertToInteractive('df-48cc9fa2-3804-4d10-bf57-00e932b6fa2f')\"\n",
              "              title=\"Convert this dataframe to an interactive table.\"\n",
              "              style=\"display:none;\">\n",
              "        \n",
              "  <svg xmlns=\"http://www.w3.org/2000/svg\" height=\"24px\"viewBox=\"0 0 24 24\"\n",
              "       width=\"24px\">\n",
              "    <path d=\"M0 0h24v24H0V0z\" fill=\"none\"/>\n",
              "    <path d=\"M18.56 5.44l.94 2.06.94-2.06 2.06-.94-2.06-.94-.94-2.06-.94 2.06-2.06.94zm-11 1L8.5 8.5l.94-2.06 2.06-.94-2.06-.94L8.5 2.5l-.94 2.06-2.06.94zm10 10l.94 2.06.94-2.06 2.06-.94-2.06-.94-.94-2.06-.94 2.06-2.06.94z\"/><path d=\"M17.41 7.96l-1.37-1.37c-.4-.4-.92-.59-1.43-.59-.52 0-1.04.2-1.43.59L10.3 9.45l-7.72 7.72c-.78.78-.78 2.05 0 2.83L4 21.41c.39.39.9.59 1.41.59.51 0 1.02-.2 1.41-.59l7.78-7.78 2.81-2.81c.8-.78.8-2.07 0-2.86zM5.41 20L4 18.59l7.72-7.72 1.47 1.35L5.41 20z\"/>\n",
              "  </svg>\n",
              "      </button>\n",
              "      \n",
              "  <style>\n",
              "    .colab-df-container {\n",
              "      display:flex;\n",
              "      flex-wrap:wrap;\n",
              "      gap: 12px;\n",
              "    }\n",
              "\n",
              "    .colab-df-convert {\n",
              "      background-color: #E8F0FE;\n",
              "      border: none;\n",
              "      border-radius: 50%;\n",
              "      cursor: pointer;\n",
              "      display: none;\n",
              "      fill: #1967D2;\n",
              "      height: 32px;\n",
              "      padding: 0 0 0 0;\n",
              "      width: 32px;\n",
              "    }\n",
              "\n",
              "    .colab-df-convert:hover {\n",
              "      background-color: #E2EBFA;\n",
              "      box-shadow: 0px 1px 2px rgba(60, 64, 67, 0.3), 0px 1px 3px 1px rgba(60, 64, 67, 0.15);\n",
              "      fill: #174EA6;\n",
              "    }\n",
              "\n",
              "    [theme=dark] .colab-df-convert {\n",
              "      background-color: #3B4455;\n",
              "      fill: #D2E3FC;\n",
              "    }\n",
              "\n",
              "    [theme=dark] .colab-df-convert:hover {\n",
              "      background-color: #434B5C;\n",
              "      box-shadow: 0px 1px 3px 1px rgba(0, 0, 0, 0.15);\n",
              "      filter: drop-shadow(0px 1px 2px rgba(0, 0, 0, 0.3));\n",
              "      fill: #FFFFFF;\n",
              "    }\n",
              "  </style>\n",
              "\n",
              "      <script>\n",
              "        const buttonEl =\n",
              "          document.querySelector('#df-48cc9fa2-3804-4d10-bf57-00e932b6fa2f button.colab-df-convert');\n",
              "        buttonEl.style.display =\n",
              "          google.colab.kernel.accessAllowed ? 'block' : 'none';\n",
              "\n",
              "        async function convertToInteractive(key) {\n",
              "          const element = document.querySelector('#df-48cc9fa2-3804-4d10-bf57-00e932b6fa2f');\n",
              "          const dataTable =\n",
              "            await google.colab.kernel.invokeFunction('convertToInteractive',\n",
              "                                                     [key], {});\n",
              "          if (!dataTable) return;\n",
              "\n",
              "          const docLinkHtml = 'Like what you see? Visit the ' +\n",
              "            '<a target=\"_blank\" href=https://colab.research.google.com/notebooks/data_table.ipynb>data table notebook</a>'\n",
              "            + ' to learn more about interactive tables.';\n",
              "          element.innerHTML = '';\n",
              "          dataTable['output_type'] = 'display_data';\n",
              "          await google.colab.output.renderOutput(dataTable, element);\n",
              "          const docLink = document.createElement('div');\n",
              "          docLink.innerHTML = docLinkHtml;\n",
              "          element.appendChild(docLink);\n",
              "        }\n",
              "      </script>\n",
              "    </div>\n",
              "  </div>\n",
              "  "
            ]
          },
          "metadata": {},
          "execution_count": 304
        }
      ]
    },
    {
      "cell_type": "markdown",
      "source": [
        "Видим, что использование весов в CrossEntropyLoss повышает метрику."
      ],
      "metadata": {
        "id": "xDqPzwO8CDXg"
      }
    },
    {
      "cell_type": "markdown",
      "source": [
        "### Таблица с порогом для логитов > 0"
      ],
      "metadata": {
        "id": "GsTx6dY8B3DB"
      }
    },
    {
      "cell_type": "code",
      "source": [
        "data = {'' :  ['use_novelty=False', \n",
        "                   'use_novelty=True' ], \n",
        "        'use_class_weights=False': b_class_w_false_coeff_0, \n",
        "        'use_class_weights=True' :  b_class_w_true_coeff_0}\n",
        "df =  pd.DataFrame(data)\n",
        "df"
      ],
      "metadata": {
        "colab": {
          "base_uri": "https://localhost:8080/",
          "height": 112
        },
        "id": "Ftu-yj9a2scH",
        "outputId": "6623ada5-53ec-4ef6-8a96-784e5fe2ae05"
      },
      "execution_count": 305,
      "outputs": [
        {
          "output_type": "execute_result",
          "data": {
            "text/plain": [
              "                      use_class_weights=False  use_class_weights=True\n",
              "0  use_novelty=False                 0.225641                0.242622\n",
              "1   use_novelty=True                 0.365048                0.370910"
            ],
            "text/html": [
              "\n",
              "  <div id=\"df-238058b0-c0a1-45e0-aea7-eca96d61d611\">\n",
              "    <div class=\"colab-df-container\">\n",
              "      <div>\n",
              "<style scoped>\n",
              "    .dataframe tbody tr th:only-of-type {\n",
              "        vertical-align: middle;\n",
              "    }\n",
              "\n",
              "    .dataframe tbody tr th {\n",
              "        vertical-align: top;\n",
              "    }\n",
              "\n",
              "    .dataframe thead th {\n",
              "        text-align: right;\n",
              "    }\n",
              "</style>\n",
              "<table border=\"1\" class=\"dataframe\">\n",
              "  <thead>\n",
              "    <tr style=\"text-align: right;\">\n",
              "      <th></th>\n",
              "      <th></th>\n",
              "      <th>use_class_weights=False</th>\n",
              "      <th>use_class_weights=True</th>\n",
              "    </tr>\n",
              "  </thead>\n",
              "  <tbody>\n",
              "    <tr>\n",
              "      <th>0</th>\n",
              "      <td>use_novelty=False</td>\n",
              "      <td>0.225641</td>\n",
              "      <td>0.242622</td>\n",
              "    </tr>\n",
              "    <tr>\n",
              "      <th>1</th>\n",
              "      <td>use_novelty=True</td>\n",
              "      <td>0.365048</td>\n",
              "      <td>0.370910</td>\n",
              "    </tr>\n",
              "  </tbody>\n",
              "</table>\n",
              "</div>\n",
              "      <button class=\"colab-df-convert\" onclick=\"convertToInteractive('df-238058b0-c0a1-45e0-aea7-eca96d61d611')\"\n",
              "              title=\"Convert this dataframe to an interactive table.\"\n",
              "              style=\"display:none;\">\n",
              "        \n",
              "  <svg xmlns=\"http://www.w3.org/2000/svg\" height=\"24px\"viewBox=\"0 0 24 24\"\n",
              "       width=\"24px\">\n",
              "    <path d=\"M0 0h24v24H0V0z\" fill=\"none\"/>\n",
              "    <path d=\"M18.56 5.44l.94 2.06.94-2.06 2.06-.94-2.06-.94-.94-2.06-.94 2.06-2.06.94zm-11 1L8.5 8.5l.94-2.06 2.06-.94-2.06-.94L8.5 2.5l-.94 2.06-2.06.94zm10 10l.94 2.06.94-2.06 2.06-.94-2.06-.94-.94-2.06-.94 2.06-2.06.94z\"/><path d=\"M17.41 7.96l-1.37-1.37c-.4-.4-.92-.59-1.43-.59-.52 0-1.04.2-1.43.59L10.3 9.45l-7.72 7.72c-.78.78-.78 2.05 0 2.83L4 21.41c.39.39.9.59 1.41.59.51 0 1.02-.2 1.41-.59l7.78-7.78 2.81-2.81c.8-.78.8-2.07 0-2.86zM5.41 20L4 18.59l7.72-7.72 1.47 1.35L5.41 20z\"/>\n",
              "  </svg>\n",
              "      </button>\n",
              "      \n",
              "  <style>\n",
              "    .colab-df-container {\n",
              "      display:flex;\n",
              "      flex-wrap:wrap;\n",
              "      gap: 12px;\n",
              "    }\n",
              "\n",
              "    .colab-df-convert {\n",
              "      background-color: #E8F0FE;\n",
              "      border: none;\n",
              "      border-radius: 50%;\n",
              "      cursor: pointer;\n",
              "      display: none;\n",
              "      fill: #1967D2;\n",
              "      height: 32px;\n",
              "      padding: 0 0 0 0;\n",
              "      width: 32px;\n",
              "    }\n",
              "\n",
              "    .colab-df-convert:hover {\n",
              "      background-color: #E2EBFA;\n",
              "      box-shadow: 0px 1px 2px rgba(60, 64, 67, 0.3), 0px 1px 3px 1px rgba(60, 64, 67, 0.15);\n",
              "      fill: #174EA6;\n",
              "    }\n",
              "\n",
              "    [theme=dark] .colab-df-convert {\n",
              "      background-color: #3B4455;\n",
              "      fill: #D2E3FC;\n",
              "    }\n",
              "\n",
              "    [theme=dark] .colab-df-convert:hover {\n",
              "      background-color: #434B5C;\n",
              "      box-shadow: 0px 1px 3px 1px rgba(0, 0, 0, 0.15);\n",
              "      filter: drop-shadow(0px 1px 2px rgba(0, 0, 0, 0.3));\n",
              "      fill: #FFFFFF;\n",
              "    }\n",
              "  </style>\n",
              "\n",
              "      <script>\n",
              "        const buttonEl =\n",
              "          document.querySelector('#df-238058b0-c0a1-45e0-aea7-eca96d61d611 button.colab-df-convert');\n",
              "        buttonEl.style.display =\n",
              "          google.colab.kernel.accessAllowed ? 'block' : 'none';\n",
              "\n",
              "        async function convertToInteractive(key) {\n",
              "          const element = document.querySelector('#df-238058b0-c0a1-45e0-aea7-eca96d61d611');\n",
              "          const dataTable =\n",
              "            await google.colab.kernel.invokeFunction('convertToInteractive',\n",
              "                                                     [key], {});\n",
              "          if (!dataTable) return;\n",
              "\n",
              "          const docLinkHtml = 'Like what you see? Visit the ' +\n",
              "            '<a target=\"_blank\" href=https://colab.research.google.com/notebooks/data_table.ipynb>data table notebook</a>'\n",
              "            + ' to learn more about interactive tables.';\n",
              "          element.innerHTML = '';\n",
              "          dataTable['output_type'] = 'display_data';\n",
              "          await google.colab.output.renderOutput(dataTable, element);\n",
              "          const docLink = document.createElement('div');\n",
              "          docLink.innerHTML = docLinkHtml;\n",
              "          element.appendChild(docLink);\n",
              "        }\n",
              "      </script>\n",
              "    </div>\n",
              "  </div>\n",
              "  "
            ]
          },
          "metadata": {},
          "execution_count": 305
        }
      ]
    },
    {
      "cell_type": "markdown",
      "source": [
        "Может, я что-то сделала не так, но кажется, что порог > 0 не самый лучший вариант."
      ],
      "metadata": {
        "id": "HzGk-lU4CPhg"
      }
    },
    {
      "cell_type": "markdown",
      "source": [
        "### Таблица с лучшим эмпирически подобранным порогом для логитов"
      ],
      "metadata": {
        "id": "_nmDqukdB6vd"
      }
    },
    {
      "cell_type": "code",
      "source": [
        "data = {'' :  ['use_novelty=False', \n",
        "                   'use_novelty=True' ], \n",
        "        'use_class_weights=False': b_class_w_false_coeff_best, \n",
        "        'use_class_weights=True' :  b_class_w_true_coeff_best}\n",
        "df =  pd.DataFrame(data)\n",
        "df"
      ],
      "metadata": {
        "colab": {
          "base_uri": "https://localhost:8080/",
          "height": 112
        },
        "id": "HJNhJf9_20B3",
        "outputId": "b471bec3-1d63-42f4-d44b-73a98aa8884a"
      },
      "execution_count": 306,
      "outputs": [
        {
          "output_type": "execute_result",
          "data": {
            "text/plain": [
              "                      use_class_weights=False  use_class_weights=True\n",
              "0  use_novelty=False                 0.443039                0.414116\n",
              "1   use_novelty=True                 0.365048                0.454896"
            ],
            "text/html": [
              "\n",
              "  <div id=\"df-8242594d-b293-44cc-8b61-fc14dbb20874\">\n",
              "    <div class=\"colab-df-container\">\n",
              "      <div>\n",
              "<style scoped>\n",
              "    .dataframe tbody tr th:only-of-type {\n",
              "        vertical-align: middle;\n",
              "    }\n",
              "\n",
              "    .dataframe tbody tr th {\n",
              "        vertical-align: top;\n",
              "    }\n",
              "\n",
              "    .dataframe thead th {\n",
              "        text-align: right;\n",
              "    }\n",
              "</style>\n",
              "<table border=\"1\" class=\"dataframe\">\n",
              "  <thead>\n",
              "    <tr style=\"text-align: right;\">\n",
              "      <th></th>\n",
              "      <th></th>\n",
              "      <th>use_class_weights=False</th>\n",
              "      <th>use_class_weights=True</th>\n",
              "    </tr>\n",
              "  </thead>\n",
              "  <tbody>\n",
              "    <tr>\n",
              "      <th>0</th>\n",
              "      <td>use_novelty=False</td>\n",
              "      <td>0.443039</td>\n",
              "      <td>0.414116</td>\n",
              "    </tr>\n",
              "    <tr>\n",
              "      <th>1</th>\n",
              "      <td>use_novelty=True</td>\n",
              "      <td>0.365048</td>\n",
              "      <td>0.454896</td>\n",
              "    </tr>\n",
              "  </tbody>\n",
              "</table>\n",
              "</div>\n",
              "      <button class=\"colab-df-convert\" onclick=\"convertToInteractive('df-8242594d-b293-44cc-8b61-fc14dbb20874')\"\n",
              "              title=\"Convert this dataframe to an interactive table.\"\n",
              "              style=\"display:none;\">\n",
              "        \n",
              "  <svg xmlns=\"http://www.w3.org/2000/svg\" height=\"24px\"viewBox=\"0 0 24 24\"\n",
              "       width=\"24px\">\n",
              "    <path d=\"M0 0h24v24H0V0z\" fill=\"none\"/>\n",
              "    <path d=\"M18.56 5.44l.94 2.06.94-2.06 2.06-.94-2.06-.94-.94-2.06-.94 2.06-2.06.94zm-11 1L8.5 8.5l.94-2.06 2.06-.94-2.06-.94L8.5 2.5l-.94 2.06-2.06.94zm10 10l.94 2.06.94-2.06 2.06-.94-2.06-.94-.94-2.06-.94 2.06-2.06.94z\"/><path d=\"M17.41 7.96l-1.37-1.37c-.4-.4-.92-.59-1.43-.59-.52 0-1.04.2-1.43.59L10.3 9.45l-7.72 7.72c-.78.78-.78 2.05 0 2.83L4 21.41c.39.39.9.59 1.41.59.51 0 1.02-.2 1.41-.59l7.78-7.78 2.81-2.81c.8-.78.8-2.07 0-2.86zM5.41 20L4 18.59l7.72-7.72 1.47 1.35L5.41 20z\"/>\n",
              "  </svg>\n",
              "      </button>\n",
              "      \n",
              "  <style>\n",
              "    .colab-df-container {\n",
              "      display:flex;\n",
              "      flex-wrap:wrap;\n",
              "      gap: 12px;\n",
              "    }\n",
              "\n",
              "    .colab-df-convert {\n",
              "      background-color: #E8F0FE;\n",
              "      border: none;\n",
              "      border-radius: 50%;\n",
              "      cursor: pointer;\n",
              "      display: none;\n",
              "      fill: #1967D2;\n",
              "      height: 32px;\n",
              "      padding: 0 0 0 0;\n",
              "      width: 32px;\n",
              "    }\n",
              "\n",
              "    .colab-df-convert:hover {\n",
              "      background-color: #E2EBFA;\n",
              "      box-shadow: 0px 1px 2px rgba(60, 64, 67, 0.3), 0px 1px 3px 1px rgba(60, 64, 67, 0.15);\n",
              "      fill: #174EA6;\n",
              "    }\n",
              "\n",
              "    [theme=dark] .colab-df-convert {\n",
              "      background-color: #3B4455;\n",
              "      fill: #D2E3FC;\n",
              "    }\n",
              "\n",
              "    [theme=dark] .colab-df-convert:hover {\n",
              "      background-color: #434B5C;\n",
              "      box-shadow: 0px 1px 3px 1px rgba(0, 0, 0, 0.15);\n",
              "      filter: drop-shadow(0px 1px 2px rgba(0, 0, 0, 0.3));\n",
              "      fill: #FFFFFF;\n",
              "    }\n",
              "  </style>\n",
              "\n",
              "      <script>\n",
              "        const buttonEl =\n",
              "          document.querySelector('#df-8242594d-b293-44cc-8b61-fc14dbb20874 button.colab-df-convert');\n",
              "        buttonEl.style.display =\n",
              "          google.colab.kernel.accessAllowed ? 'block' : 'none';\n",
              "\n",
              "        async function convertToInteractive(key) {\n",
              "          const element = document.querySelector('#df-8242594d-b293-44cc-8b61-fc14dbb20874');\n",
              "          const dataTable =\n",
              "            await google.colab.kernel.invokeFunction('convertToInteractive',\n",
              "                                                     [key], {});\n",
              "          if (!dataTable) return;\n",
              "\n",
              "          const docLinkHtml = 'Like what you see? Visit the ' +\n",
              "            '<a target=\"_blank\" href=https://colab.research.google.com/notebooks/data_table.ipynb>data table notebook</a>'\n",
              "            + ' to learn more about interactive tables.';\n",
              "          element.innerHTML = '';\n",
              "          dataTable['output_type'] = 'display_data';\n",
              "          await google.colab.output.renderOutput(dataTable, element);\n",
              "          const docLink = document.createElement('div');\n",
              "          docLink.innerHTML = docLinkHtml;\n",
              "          element.appendChild(docLink);\n",
              "        }\n",
              "      </script>\n",
              "    </div>\n",
              "  </div>\n",
              "  "
            ]
          },
          "metadata": {},
          "execution_count": 306
        }
      ]
    },
    {
      "cell_type": "markdown",
      "source": [
        "У модели с весами и novelty удалось получить метрику 0.455 при пороге для логитов > 0.35."
      ],
      "metadata": {
        "id": "yN09JY_ECeRJ"
      }
    },
    {
      "cell_type": "markdown",
      "metadata": {
        "id": "HGc4IV8dzyBP"
      },
      "source": [
        "## Вывод:\n",
        "\n",
        "Удалось добиться BLEU = 0.455 у модели с весами в CrossEntropyLoss и novelty=True, при пороге для логитов > 0.35.\n",
        "\n",
        "1. При выборе топ-5 моделей вместо топ-3 метрика на всех моделях падает.\n",
        "2. При использовании порога для логитов > 0 метрика для всех моделей падает. \n",
        "3. Novelty незначительно влияет на результаты."
      ]
    }
  ]
}